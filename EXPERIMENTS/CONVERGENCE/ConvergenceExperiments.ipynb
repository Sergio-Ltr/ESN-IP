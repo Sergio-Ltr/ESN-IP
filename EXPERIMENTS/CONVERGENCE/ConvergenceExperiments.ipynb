{
 "cells": [
  {
   "cell_type": "code",
   "execution_count": 1,
   "metadata": {},
   "outputs": [],
   "source": [
    "import sys  \n",
    "sys.path.insert(1, '.\\..\\..\\SOURCES\\.')\n",
    "\n",
    "import random\n",
    "\n",
    "random.seed(10)\n",
    "\n",
    "from DATA import MG17\n",
    "from Reservoir import Reservoir"
   ]
  },
  {
   "cell_type": "code",
   "execution_count": 2,
   "metadata": {},
   "outputs": [],
   "source": [
    "import pandas as pd\n",
    "import seaborn as sns\n",
    "import matplotlib.pyplot as plt\n",
    "from sklearn.mixture import GaussianMixture\n",
    "import numpy as np"
   ]
  },
  {
   "cell_type": "code",
   "execution_count": 3,
   "metadata": {},
   "outputs": [],
   "source": [
    "data = MG17(True, [90,0,10])\n",
    "\n",
    "X_TR, Y_TR = data.TR()\n",
    "X_VAL, Y_VAL = data.VAL()\n",
    "X_TS, Y_TS = data.TS()\n"
   ]
  },
  {
   "cell_type": "code",
   "execution_count": 4,
   "metadata": {},
   "outputs": [],
   "source": [
    "from IPReservoir import IPReservoir\n",
    "from ESN import EchoStateNetwork\n",
    "from IPMask import IPMask\n",
    "from Reservoir import Reservoir\n",
    "from Metrics import *\n",
    "from Evaluator import * "
   ]
  },
  {
   "cell_type": "code",
   "execution_count": 5,
   "metadata": {},
   "outputs": [],
   "source": [
    "N = 100\n",
    "init_point = Reservoir(N=N, desired_rho=0.7, bias = False,)\n",
    "names = [\"Gaussian\", \"Bimodal\", \"Soft Trimodal\", \"Edgy Trimodal\"]\n",
    "\n",
    "masks = [\n",
    "    IPMask.gaussian(N, std=0.2),\n",
    "    IPMask.bimodal(N, mu=0.85, std=0.15),\n",
    "    IPMask.trimodal(N, linear_rate=0.4, std_bim=0.18), # \n",
    "    IPMask.trimodal(N, linear_rate=0.2, mu=0.85, std_bim=0.1)\n",
    "    ]\n",
    "\n",
    "models = [IPReservoir.clone(init_point) for _ in range(len(names))]\n",
    "\n",
    "for mask,model in zip(masks, models): \n",
    "    model.set_IP_mask(mask)"
   ]
  },
  {
   "cell_type": "code",
   "execution_count": 6,
   "metadata": {},
   "outputs": [],
   "source": [
    "results = []"
   ]
  },
  {
   "cell_type": "code",
   "execution_count": 7,
   "metadata": {},
   "outputs": [],
   "source": [
    "columns = [\"Model Idx\", \"DeFi\"]"
   ]
  },
  {
   "cell_type": "code",
   "execution_count": 8,
   "metadata": {},
   "outputs": [],
   "source": [
    "\n",
    "for i,model in enumerate(models): \n",
    "    results.append( [i,DeltaPhi().evaluate(model)] )"
   ]
  },
  {
   "cell_type": "code",
   "execution_count": null,
   "metadata": {},
   "outputs": [
    {
     "data": {
      "text/plain": [
       "[[0, 0.21591877937316895],\n",
       " [1, 0.4139234125614166],\n",
       " [2, 0.3563474416732788],\n",
       " [3, 0.4205801784992218],\n",
       " [0, 0.18390314280986786],\n",
       " [1, 0.49725255370140076],\n",
       " [2, 0.36212605237960815],\n",
       " [3, 0.45854562520980835],\n",
       " [0, 0.17664195597171783],\n",
       " [1, 0.42845654487609863],\n",
       " [2, 0.2949911653995514],\n",
       " [3, 0.3826773166656494],\n",
       " [0, 0.19617533683776855],\n",
       " [1, 0.4476203918457031],\n",
       " [2, 0.3533882796764374],\n",
       " [3, 0.4018290936946869],\n",
       " [0, 0.22261252999305725],\n",
       " [1, 0.4954814910888672],\n",
       " [2, 0.39490795135498047],\n",
       " [3, 0.4710536599159241],\n",
       " [0, 0.18018217384815216],\n",
       " [1, 0.4646083414554596],\n",
       " [2, 0.3588477373123169],\n",
       " [3, 0.4316394627094269],\n",
       " [0, 0.20299769937992096],\n",
       " [1, 0.5175288915634155],\n",
       " [2, 0.3349741995334625],\n",
       " [3, 0.4474625885486603],\n",
       " [0, 0.21346493065357208],\n",
       " [1, 0.47625553607940674],\n",
       " [2, 0.353315144777298],\n",
       " [3, 0.43681633472442627],\n",
       " [0, 0.2201213538646698],\n",
       " [1, 0.4672144949436188],\n",
       " [2, 0.3775523900985718],\n",
       " [3, 0.4418119490146637]]"
      ]
     },
     "execution_count": 79,
     "metadata": {},
     "output_type": "execute_result"
    }
   ],
   "source": [
    "results"
   ]
  },
  {
   "cell_type": "code",
   "execution_count": null,
   "metadata": {},
   "outputs": [],
   "source": [
    "df = pd.DataFrame(results, columns=columns)"
   ]
  },
  {
   "cell_type": "code",
   "execution_count": null,
   "metadata": {},
   "outputs": [],
   "source": [
    "df.groupby(\"Model Idx\").aggregate([\"mean\", \"std\"]).to_csv(\"INITIAL-KL.scv\")"
   ]
  },
  {
   "cell_type": "code",
   "execution_count": 6,
   "metadata": {},
   "outputs": [],
   "source": [
    "epochs = 15\n",
    "eta = 0.0000025"
   ]
  },
  {
   "cell_type": "code",
   "execution_count": 7,
   "metadata": {},
   "outputs": [],
   "source": [
    "columns = [\"Name\", \"Model Idx\", \"Epoch\", \"KL\", \"Rho\", \"A-norm\", \"B-norm\", \"MC\", \"DeltaPhi\", \"MSE\", \"NRMSE\" ]"
   ]
  },
  {
   "cell_type": "code",
   "execution_count": 8,
   "metadata": {},
   "outputs": [
    {
     "name": "stdout",
     "output_type": "stream",
     "text": [
      "0 Gaussian\n",
      "1 Bimodal\n",
      "2 Soft Trimodal\n",
      "3 Edgy Trimodal\n"
     ]
    }
   ],
   "source": [
    "for i,name in enumerate(names): \n",
    "    print(i, name)"
   ]
  },
  {
   "cell_type": "code",
   "execution_count": 9,
   "metadata": {},
   "outputs": [
    {
     "data": {
      "text/plain": [
       "tensor(0.7000)"
      ]
     },
     "execution_count": 9,
     "metadata": {},
     "output_type": "execute_result"
    }
   ],
   "source": [
    "init_point.rho()"
   ]
  },
  {
   "cell_type": "code",
   "execution_count": 10,
   "metadata": {},
   "outputs": [],
   "source": [
    "results = []\n",
    "for e in range(epochs): \n",
    "    for idx, model in enumerate(models): \n",
    "        model.IP_online(X_TR, eta, 1, eval_kl=X_TS)\n",
    "        row = [names[idx], idx, e+1, model.loss, model.rho(), model.a.norm(), model.b.norm(), MC().evaluate(model), DeltaPhi().evaluate(model), Evaluator.evaluate_estrinsic(init_point, data, MSE()), Evaluator.evaluate_estrinsic(init_point, data, NRMSE())]\n",
    "        results.append(row)"
   ]
  },
  {
   "cell_type": "code",
   "execution_count": 12,
   "metadata": {},
   "outputs": [
    {
     "data": {
      "text/plain": [
       "(60, 11)"
      ]
     },
     "execution_count": 12,
     "metadata": {},
     "output_type": "execute_result"
    }
   ],
   "source": [
    "np.array(results).shape"
   ]
  },
  {
   "cell_type": "code",
   "execution_count": 13,
   "metadata": {},
   "outputs": [],
   "source": [
    "df = pd.DataFrame(results, columns=columns )"
   ]
  },
  {
   "cell_type": "code",
   "execution_count": 14,
   "metadata": {},
   "outputs": [],
   "source": [
    "# Function to convert tensors to float\n",
    "def convert_to_float(tensor):\n",
    "    return tensor.item() if isinstance(tensor, torch.Tensor) and tensor.shape == torch.Size([]) else tensor\n",
    "\n",
    "# Apply the conversion function to the entire DataFrame\n",
    "df = df.applymap(convert_to_float)"
   ]
  },
  {
   "cell_type": "code",
   "execution_count": 15,
   "metadata": {},
   "outputs": [],
   "source": [
    "df.to_csv(\".\\TR_PLOTS.csv\")"
   ]
  },
  {
   "cell_type": "code",
   "execution_count": 16,
   "metadata": {},
   "outputs": [],
   "source": [
    "init_conditions = [\"Initial Config\", -1, 0, 0, 0.7, 1, 0, MC().evaluate(init_point), DeltaPhi().evaluate(init_point), Evaluator.evaluate_estrinsic(init_point, data, MSE()), Evaluator.evaluate_estrinsic(init_point, data, NRMSE() )]"
   ]
  },
  {
   "cell_type": "code",
   "execution_count": 17,
   "metadata": {},
   "outputs": [],
   "source": [
    "init_conditions[7] = init_conditions[7].item()\n",
    "init_conditions[9] = init_conditions[9].item()"
   ]
  },
  {
   "cell_type": "code",
   "execution_count": 18,
   "metadata": {},
   "outputs": [
    {
     "data": {
      "text/plain": [
       "['Initial Config',\n",
       " -1,\n",
       " 0,\n",
       " 0,\n",
       " 0.7,\n",
       " 1,\n",
       " 0,\n",
       " 10.436782836914062,\n",
       " 0.2436068091216199,\n",
       " 2.45745544165867e-07,\n",
       " 0.07222309893771005]"
      ]
     },
     "execution_count": 18,
     "metadata": {},
     "output_type": "execute_result"
    }
   ],
   "source": [
    "init_conditions"
   ]
  },
  {
   "cell_type": "code",
   "execution_count": 19,
   "metadata": {},
   "outputs": [],
   "source": [
    "import seaborn as sns\n",
    "import matplotlib.pyplot as plt\n",
    "\n",
    "def plot_evolution(attribute_name, palette='Set1'):\n",
    "    attr_idx = columns.index(attribute_name)\n",
    "    \n",
    "    # Set Seaborn style and color palette\n",
    "    sns.set(style='whitegrid')\n",
    "    sns.set_palette(palette)\n",
    "\n",
    "    # Group the DataFrame by \"Model Idx\"\n",
    "    grouped_df = df.groupby('Model Idx')\n",
    "\n",
    "    # Create a figure and axis\n",
    "    plt.figure(figsize=(10, 6))\n",
    "    ax = plt.subplot(111)\n",
    "\n",
    "    # Plot each group separately\n",
    "    for model_idx, group in grouped_df:\n",
    "        # Subtract the initial attribute value from each group of values\n",
    "        group[attribute_name] = group[attribute_name] - group.loc[group['Epoch'].idxmin(), attribute_name] + init_conditions[attr_idx]\n",
    "        ax.plot(group['Epoch'], group[attribute_name], label=f'{names[model_idx]}')\n",
    "\n",
    "    # Set labels and title\n",
    "    plt.xlabel('Epoch')\n",
    "    plt.ylabel(columns[attr_idx])\n",
    "    plt.title(f'{columns[attr_idx]} vs. Epoch for Different Model Idx')\n",
    "\n",
    "    # Show legend\n",
    "    plt.legend()\n",
    "\n",
    "    # Show the plot\n",
    "    plt.show()\n",
    "\n",
    "# Example usage:\n",
    "# plot_evolution('Rho', palette='viridis')"
   ]
  },
  {
   "cell_type": "code",
   "execution_count": 20,
   "metadata": {},
   "outputs": [
    {
     "data": {
      "image/png": "[encoded data removed]",
      "text/plain": [
       "<Figure size 1000x600 with 1 Axes>"
      ]
     },
     "metadata": {},
     "output_type": "display_data"
    }
   ],
   "source": [
    "# Example usage:\n",
    "plot_evolution('KL', palette='Set2')"
   ]
  },
  {
   "cell_type": "code",
   "execution_count": null,
   "metadata": {},
   "outputs": [],
   "source": []
  }
 ],
 "metadata": {
  "kernelspec": {
   "display_name": "Python 3",
   "language": "python",
   "name": "python3"
  },
  "language_info": {
   "codemirror_mode": {
    "name": "ipython",
    "version": 3
   },
   "file_extension": ".py",
   "mimetype": "text/x-python",
   "name": "python",
   "nbconvert_exporter": "python",
   "pygments_lexer": "ipython3",
   "version": "3.9.13"
  }
 },
 "nbformat": 4,
 "nbformat_minor": 2
}
