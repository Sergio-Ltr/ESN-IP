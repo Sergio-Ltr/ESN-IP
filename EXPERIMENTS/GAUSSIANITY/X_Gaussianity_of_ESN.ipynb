{
 "cells": [
  {
   "cell_type": "markdown",
   "metadata": {},
   "source": [
    "## Setup the environment"
   ]
  },
  {
   "cell_type": "markdown",
   "metadata": {},
   "source": [
    "Idea is that as the number of hidden units of a Reservoir increases, the distribution of their output, before the application of the non-linearity, is a Gaussian distribution. \n",
    "\n",
    "If such hypothesis would be proven, it would mean that the \"classic\" IP algorithm (targeting normal distributions), would converge faster. \n",
    "Hence it would be useful to discover which reservoir hyperparameter configuration would lead to a \"more Gaussian\" distribution and hence to faster convergence. "
   ]
  },
  {
   "cell_type": "markdown",
   "metadata": {},
   "source": [
    "#### Adding the source code path"
   ]
  },
  {
   "cell_type": "code",
   "execution_count": 4,
   "metadata": {},
   "outputs": [],
   "source": [
    "import sys  \n",
    "sys.path.insert(1, '.\\..\\..\\SOURCES\\.')\n",
    "\n",
    "import random\n",
    "\n",
    "random.seed(10)"
   ]
  },
  {
   "cell_type": "markdown",
   "metadata": {},
   "source": [
    "#### Import experiment data "
   ]
  },
  {
   "cell_type": "code",
   "execution_count": 5,
   "metadata": {},
   "outputs": [],
   "source": [
    "from DATA import MG17\n",
    "\n",
    "data = MG17(True, [80,10,10])\n",
    "\n",
    "X_TR_MG, Y_TR_MG = data.TR()\n",
    "X_VAL_MG, Y_VAL_MG = data.VAL()\n",
    "X_TS_MG, Y_TS_MG = data.TS()"
   ]
  },
  {
   "cell_type": "code",
   "execution_count": 7,
   "metadata": {},
   "outputs": [],
   "source": [
    "from IPReservoir import IPReservoir\n",
    "from IPMask import IPMask"
   ]
  },
  {
   "cell_type": "code",
   "execution_count": 6,
   "metadata": {},
   "outputs": [
    {
     "data": {
      "text/plain": [
       "25"
      ]
     },
     "execution_count": 6,
     "metadata": {},
     "output_type": "execute_result"
    }
   ],
   "source": [
    "import itertools  \n",
    "\n",
    "sparsity_range = [0.1, 0.25, 0.5, 0.75, 0.9]\n",
    "ro_range = [0.25, 0.5, 0.75, 1, 1.25]\n",
    "\n",
    "combinations = list(itertools.product(sparsity_range, ro_range))\n",
    "len(combinations)"
   ]
  },
  {
   "cell_type": "code",
   "execution_count": 14,
   "metadata": {},
   "outputs": [
    {
     "data": {
      "text/plain": [
       "torch.Size([8000])"
      ]
     },
     "execution_count": 14,
     "metadata": {},
     "output_type": "execute_result"
    }
   ],
   "source": [
    "X_TR_MG.shape"
   ]
  },
  {
   "cell_type": "code",
   "execution_count": 17,
   "metadata": {},
   "outputs": [],
   "source": [
    "ipRes = IPReservoir(100, mask=IPMask.gaussian(100))"
   ]
  },
  {
   "cell_type": "code",
   "execution_count": 19,
   "metadata": {},
   "outputs": [
    {
     "data": {
      "text/plain": [
       "<IPReservoir.IPReservoir at 0x1975fa34940>"
      ]
     },
     "execution_count": 19,
     "metadata": {},
     "output_type": "execute_result"
    }
   ],
   "source": [
    "ipRes"
   ]
  },
  {
   "cell_type": "code",
   "execution_count": 18,
   "metadata": {},
   "outputs": [
    {
     "ename": "RuntimeError",
     "evalue": "expand(torch.FloatTensor{[100, 100]}, size=[100]): the number of sizes provided (1) must be greater or equal to the number of dimensions in the tensor (2)",
     "output_type": "error",
     "traceback": [
      "\u001b[1;31m---------------------------------------------------------------------------\u001b[0m",
      "\u001b[1;31mRuntimeError\u001b[0m                              Traceback (most recent call last)",
      "Cell \u001b[1;32mIn[18], line 1\u001b[0m\n\u001b[1;32m----> 1\u001b[0m \u001b[43mipRes\u001b[49m\u001b[38;5;241;43m.\u001b[39;49m\u001b[43mplot_neural_activity\u001b[49m\u001b[43m(\u001b[49m\u001b[43mX_TR_MG\u001b[49m\u001b[43m)\u001b[49m\n",
      "File \u001b[1;32mc:\\Users\\casa_\\OneDrive\\Desktop\\workspace\\ESN-IP\\EXPERIMENTS\\GAUSSIANITY\\.\\..\\..\\SOURCES\\.\\IPReservoir.py:182\u001b[0m, in \u001b[0;36mIPReservoir.plot_neural_activity\u001b[1;34m(self, U, transient, plot_target, pre_activation, title)\u001b[0m\n\u001b[0;32m    179\u001b[0m         Y \u001b[38;5;241m=\u001b[39m \u001b[38;5;28mself\u001b[39m\u001b[38;5;241m.\u001b[39mactivation(Y)\n\u001b[0;32m    181\u001b[0m \u001b[38;5;28mself\u001b[39m\u001b[38;5;241m.\u001b[39mreset_initial_state()\n\u001b[1;32m--> 182\u001b[0m \u001b[38;5;28;43mself\u001b[39;49m\u001b[38;5;241;43m.\u001b[39;49m\u001b[43mwarm_up\u001b[49m\u001b[43m(\u001b[49m\u001b[43mU\u001b[49m\u001b[43m,\u001b[49m\u001b[43m \u001b[49m\u001b[43mtransient\u001b[49m\u001b[43m)\u001b[49m\n\u001b[0;32m    183\u001b[0m H, Z \u001b[38;5;241m=\u001b[39m \u001b[38;5;28mself\u001b[39m\u001b[38;5;241m.\u001b[39mpredict(U, return_z \u001b[38;5;241m=\u001b[39m \u001b[38;5;28;01mTrue\u001b[39;00m)\n\u001b[0;32m    184\u001b[0m X \u001b[38;5;241m=\u001b[39m Z \u001b[38;5;28;01mif\u001b[39;00m pre_activation \u001b[38;5;28;01melse\u001b[39;00m H\n",
      "File \u001b[1;32mc:\\Users\\casa_\\OneDrive\\Desktop\\workspace\\ESN-IP\\EXPERIMENTS\\GAUSSIANITY\\.\\..\\..\\SOURCES\\.\\Reservoir.py:76\u001b[0m, in \u001b[0;36mReservoir.warm_up\u001b[1;34m(self, U, force, verbose)\u001b[0m\n\u001b[0;32m     75\u001b[0m \u001b[38;5;28;01mdef\u001b[39;00m \u001b[38;5;21mwarm_up\u001b[39m(\u001b[38;5;28mself\u001b[39m, U:torch\u001b[38;5;241m.\u001b[39mTensor, force \u001b[38;5;241m=\u001b[39m \u001b[38;5;28;01mFalse\u001b[39;00m, verbose \u001b[38;5;241m=\u001b[39m \u001b[38;5;28;01mFalse\u001b[39;00m): \n\u001b[1;32m---> 76\u001b[0m   \u001b[38;5;28;43mself\u001b[39;49m\u001b[38;5;241;43m.\u001b[39;49m\u001b[43mpredict\u001b[49m\u001b[43m(\u001b[49m\u001b[43mU\u001b[49m\u001b[43m)\u001b[49m\n",
      "File \u001b[1;32mc:\\Users\\casa_\\OneDrive\\Desktop\\workspace\\ESN-IP\\EXPERIMENTS\\GAUSSIANITY\\.\\..\\..\\SOURCES\\.\\Reservoir.py:65\u001b[0m, in \u001b[0;36mReservoir.predict\u001b[1;34m(self, U, return_z)\u001b[0m\n\u001b[0;32m     62\u001b[0m \u001b[38;5;28mself\u001b[39m\u001b[38;5;241m.\u001b[39mz_t \u001b[38;5;241m=\u001b[39m torch\u001b[38;5;241m.\u001b[39mmul(U[t], \u001b[38;5;28mself\u001b[39m\u001b[38;5;241m.\u001b[39mW_u) \u001b[38;5;241m+\u001b[39m torch\u001b[38;5;241m.\u001b[39mmatmul(\u001b[38;5;28mself\u001b[39m\u001b[38;5;241m.\u001b[39mh_t, \u001b[38;5;28mself\u001b[39m\u001b[38;5;241m.\u001b[39mW_h) \u001b[38;5;241m+\u001b[39m \u001b[38;5;28mself\u001b[39m\u001b[38;5;241m.\u001b[39mtotal_bias\n\u001b[0;32m     63\u001b[0m \u001b[38;5;28mself\u001b[39m\u001b[38;5;241m.\u001b[39mh_t \u001b[38;5;241m=\u001b[39m \u001b[38;5;28mself\u001b[39m\u001b[38;5;241m.\u001b[39mactivation(\u001b[38;5;28mself\u001b[39m\u001b[38;5;241m.\u001b[39mz_t)\n\u001b[1;32m---> 65\u001b[0m \u001b[43mH\u001b[49m\u001b[43m[\u001b[49m\u001b[43mt\u001b[49m\u001b[43m,\u001b[49m\u001b[43m \u001b[49m\u001b[43m:\u001b[49m\u001b[43m]\u001b[49m \u001b[38;5;241m=\u001b[39m \u001b[38;5;28mself\u001b[39m\u001b[38;5;241m.\u001b[39mh_t\n\u001b[0;32m     66\u001b[0m \u001b[38;5;28;01mif\u001b[39;00m return_z: \n\u001b[0;32m     67\u001b[0m     Z[t, :] \u001b[38;5;241m=\u001b[39m \u001b[38;5;28mself\u001b[39m\u001b[38;5;241m.\u001b[39mz_t \n",
      "\u001b[1;31mRuntimeError\u001b[0m: expand(torch.FloatTensor{[100, 100]}, size=[100]): the number of sizes provided (1) must be greater or equal to the number of dimensions in the tensor (2)"
     ]
    }
   ],
   "source": [
    "ipRes.plot_neural_activity(X_TR_MG)"
   ]
  },
  {
   "cell_type": "code",
   "execution_count": null,
   "metadata": {},
   "outputs": [],
   "source": []
  }
 ],
 "metadata": {
  "kernelspec": {
   "display_name": "Python 3",
   "language": "python",
   "name": "python3"
  },
  "language_info": {
   "codemirror_mode": {
    "name": "ipython",
    "version": 3
   },
   "file_extension": ".py",
   "mimetype": "text/x-python",
   "name": "python",
   "nbconvert_exporter": "python",
   "pygments_lexer": "ipython3",
   "version": "3.9.13"
  }
 },
 "nbformat": 4,
 "nbformat_minor": 2
}
