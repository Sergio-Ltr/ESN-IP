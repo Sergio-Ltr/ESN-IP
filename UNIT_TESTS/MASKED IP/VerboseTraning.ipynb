{
 "cells": [
  {
   "cell_type": "code",
   "execution_count": 1,
   "metadata": {},
   "outputs": [],
   "source": [
    "import sys  \n",
    "sys.path.insert(1, '.\\..\\..\\SOURCES\\.')\n",
    "\n",
    "import random\n",
    "\n",
    "random.seed(10)\n",
    "\n",
    "from DATA import InubushiErgodic\n",
    "\n",
    "data = InubushiErgodic(nu=-1)\n",
    "data.delay_timeseries(1)\n",
    "data.split([80,0,20])\n",
    "\n",
    "X_TR, Y_TR = data.TR()\n",
    "X_VAL, Y_VAL = data.VAL()\n",
    "X_TS, Y_TS = data.TS()\n"
   ]
  },
  {
   "cell_type": "code",
   "execution_count": 2,
   "metadata": {},
   "outputs": [],
   "source": [
    "from IPMask import IPMask"
   ]
  },
  {
   "cell_type": "code",
   "execution_count": 3,
   "metadata": {},
   "outputs": [],
   "source": [
    "from Metrics import *\n",
    "from IPReservoir import IPReservoir"
   ]
  },
  {
   "cell_type": "code",
   "execution_count": 4,
   "metadata": {},
   "outputs": [],
   "source": [
    "ip_res = IPReservoir(N=100, bias=False, desired_rho=0.8, mask=IPMask.bimodal(100, std=0.15,)) #Wu_sparsity=0.5, Wh_sparsity=0.5)"
   ]
  },
  {
   "cell_type": "code",
   "execution_count": 6,
   "metadata": {},
   "outputs": [
    {
     "name": "stdout",
     "output_type": "stream",
     "text": [
      "- Epoch: 1) | KL Divergence value: 0.059902239590883255. | Spectral radius: 0.8078131675720215\n",
      "- Epoch: 2) | KL Divergence value: 0.04582993686199188. | Spectral radius: 0.815622091293335\n",
      "- Epoch: 3) | KL Divergence value: 0.037948597222566605. | Spectral radius: 0.8231943845748901\n",
      "- Epoch: 4) | KL Divergence value: 0.033173054456710815. | Spectral radius: 0.8306328654289246\n",
      "- Epoch: 5) | KL Divergence value: 0.030097516253590584. | Spectral radius: 0.8380705118179321\n",
      "- Epoch: 6) | KL Divergence value: 0.02801637165248394. | Spectral radius: 0.8455075025558472\n",
      "- Epoch: 7) | KL Divergence value: 0.026551181450486183. | Spectral radius: 0.8529478907585144\n",
      "- Epoch: 8) | KL Divergence value: 0.025486622005701065. | Spectral radius: 0.8603861331939697\n",
      "- Epoch: 9) | KL Divergence value: 0.024682199582457542. | Spectral radius: 0.867451548576355\n",
      "- Epoch: 10) | KL Divergence value: 0.024071315303444862. | Spectral radius: 0.874518632888794\n",
      "- Epoch: 11) | KL Divergence value: 0.023601539433002472. | Spectral radius: 0.8815858364105225\n",
      "- Epoch: 12) | KL Divergence value: 0.02323787659406662. | Spectral radius: 0.8886533379554749\n",
      "- Epoch: 13) | KL Divergence value: 0.02295626327395439. | Spectral radius: 0.8957191705703735\n",
      "- Epoch: 14) | KL Divergence value: 0.02273966185748577. | Spectral radius: 0.9027854204177856\n",
      "- Epoch: 15) | KL Divergence value: 0.02257097326219082. | Spectral radius: 0.9096963405609131\n"
     ]
    },
    {
     "data": {
      "image/png": "[encoded data removed]",
      "text/plain": [
       "<Figure size 640x480 with 1 Axes>"
      ]
     },
     "metadata": {},
     "output_type": "display_data"
    }
   ],
   "source": [
    "ip_res = IPReservoir(N=100, bias=False, desired_rho=0.8, mask=IPMask.bimodal(100, std=0.15,)) #Wu_sparsity=0.5, Wh_sparsity=0.5)\n",
    "ip_res.IP_online(X_TR, eval_kl=X_TR, eta=0.0000025, epochs=15 ,verbose = True)\n",
    "ip_res.plot_neural_activity(X_TR)"
   ]
  },
  {
   "cell_type": "code",
   "execution_count": 7,
   "metadata": {},
   "outputs": [],
   "source": [
    "from Configuartions import IPReservoirConfiguration, ReservoirConfiguration\n",
    "\n",
    "from Evaluator import Evaluator"
   ]
  },
  {
   "cell_type": "code",
   "execution_count": 8,
   "metadata": {},
   "outputs": [
    {
     "name": "stdout",
     "output_type": "stream",
     "text": [
      "Reservoir warmed up with the first 100 time steps\n"
     ]
    },
    {
     "data": {
      "text/plain": [
       "tensor(2.1397e-06)"
      ]
     },
     "execution_count": 8,
     "metadata": {},
     "output_type": "execute_result"
    }
   ],
   "source": [
    "Evaluator.evaluate_estrinsic(ip_res, data, MSE())"
   ]
  },
  {
   "cell_type": "code",
   "execution_count": 9,
   "metadata": {},
   "outputs": [
    {
     "data": {
      "text/plain": [
       "0.17443540860660567"
      ]
     },
     "execution_count": 9,
     "metadata": {},
     "output_type": "execute_result"
    }
   ],
   "source": [
    "DeltaPhi().evaluate(ip_res)"
   ]
  },
  {
   "cell_type": "code",
   "execution_count": 10,
   "metadata": {},
   "outputs": [
    {
     "data": {
      "text/plain": [
       "tensor(7.3106)"
      ]
     },
     "execution_count": 10,
     "metadata": {},
     "output_type": "execute_result"
    }
   ],
   "source": [
    "MC().evaluate(ip_res)\n"
   ]
  },
  {
   "cell_type": "code",
   "execution_count": 11,
   "metadata": {},
   "outputs": [
    {
     "data": {
      "text/plain": [
       "1.4830115713347998"
      ]
     },
     "execution_count": 11,
     "metadata": {},
     "output_type": "execute_result"
    }
   ],
   "source": [
    "Neff().evaluate(ip_res)"
   ]
  },
  {
   "cell_type": "code",
   "execution_count": 12,
   "metadata": {},
   "outputs": [
    {
     "data": {
      "text/plain": [
       "-0.77307135"
      ]
     },
     "execution_count": 12,
     "metadata": {},
     "output_type": "execute_result"
    }
   ],
   "source": [
    "MLLE(X_TS).evaluate(ip_res)"
   ]
  },
  {
   "cell_type": "code",
   "execution_count": null,
   "metadata": {},
   "outputs": [],
   "source": []
  }
 ],
 "metadata": {
  "kernelspec": {
   "display_name": "Python 3",
   "language": "python",
   "name": "python3"
  },
  "language_info": {
   "codemirror_mode": {
    "name": "ipython",
    "version": 3
   },
   "file_extension": ".py",
   "mimetype": "text/x-python",
   "name": "python",
   "nbconvert_exporter": "python",
   "pygments_lexer": "ipython3",
   "version": "3.9.13"
  }
 },
 "nbformat": 4,
 "nbformat_minor": 2
}
