{
 "cells": [
  {
   "cell_type": "code",
   "execution_count": 1,
   "metadata": {},
   "outputs": [],
   "source": [
    "import sys  \n",
    "sys.path.insert(1, '.\\..\\..\\SOURCES\\.')\n",
    "\n",
    "import random\n",
    "\n",
    "random.seed(10)\n",
    "\n",
    "from DATA import InubushiFunction\n",
    "\n",
    "data = InubushiFunction(nu=-1)\n",
    "data.delay_timeseries(1)\n",
    "data.split([80,0,20])\n",
    "\n",
    "X_TR, Y_TR = data.TR()\n",
    "X_VAL, Y_VAL = data.VAL()\n",
    "X_TS, Y_TS = data.TS()\n"
   ]
  },
  {
   "cell_type": "code",
   "execution_count": 2,
   "metadata": {},
   "outputs": [],
   "source": [
    "from IPMask import IPMask"
   ]
  },
  {
   "cell_type": "code",
   "execution_count": 3,
   "metadata": {},
   "outputs": [],
   "source": [
    "from Metrics import *\n",
    "from IPReservoir import IPReservoir"
   ]
  },
  {
   "cell_type": "code",
   "execution_count": 4,
   "metadata": {},
   "outputs": [],
   "source": [
    "ip_res = IPReservoir(N=100, bias=False, desired_rho=0.8, mask=IPMask.bimodal(100, std=0.15,)) #Wu_sparsity=0.5, Wh_sparsity=0.5)"
   ]
  },
  {
   "cell_type": "code",
   "execution_count": 5,
   "metadata": {},
   "outputs": [
    {
     "name": "stdout",
     "output_type": "stream",
     "text": [
      "- Epoch: 1) | KL Divergence value: 0.05359123274683952. | Spectral radius: 0.8078131675720215\n",
      "- Epoch: 2) | KL Divergence value: 0.04227238520979881. | Spectral radius: 0.8156235218048096\n",
      "- Epoch: 3) | KL Divergence value: 0.03598668426275253. | Spectral radius: 0.8231930136680603\n",
      "- Epoch: 4) | KL Divergence value: 0.03218938410282135. | Spectral radius: 0.8306329846382141\n",
      "- Epoch: 5) | KL Divergence value: 0.02974921278655529. | Spectral radius: 0.8380728960037231\n",
      "- Epoch: 6) | KL Divergence value: 0.02810467779636383. | Spectral radius: 0.8455120325088501\n",
      "- Epoch: 7) | KL Divergence value: 0.02695639617741108. | Spectral radius: 0.8529471755027771\n",
      "- Epoch: 8) | KL Divergence value: 0.02613397315144539. | Spectral radius: 0.8603875041007996\n",
      "- Epoch: 9) | KL Divergence value: 0.025520682334899902. | Spectral radius: 0.8674533367156982\n",
      "- Epoch: 10) | KL Divergence value: 0.025068078190088272. | Spectral radius: 0.8745198249816895\n",
      "- Epoch: 11) | KL Divergence value: 0.024732911959290504. | Spectral radius: 0.8815861344337463\n",
      "- Epoch: 12) | KL Divergence value: 0.024485740810632706. | Spectral radius: 0.8886536955833435\n",
      "- Epoch: 13) | KL Divergence value: 0.024305885657668114. | Spectral radius: 0.8957207798957825\n",
      "- Epoch: 14) | KL Divergence value: 0.0241784006357193. | Spectral radius: 0.9027901291847229\n",
      "- Epoch: 15) | KL Divergence value: 0.024086661636829376. | Spectral radius: 0.9096987247467041\n"
     ]
    },
    {
     "data": {
      "image/png": "[encoded data removed]",
      "text/plain": [
       "<Figure size 640x480 with 1 Axes>"
      ]
     },
     "metadata": {},
     "output_type": "display_data"
    }
   ],
   "source": [
    "ip_res = IPReservoir(N=100, bias=False, desired_rho=0.8, mask=IPMask.bimodal(100, std=0.15,)) #Wu_sparsity=0.5, Wh_sparsity=0.5)\n",
    "ip_res.IP_online(X_TR, eval_kl=X_TR, eta=0.0000025, epochs=15 ,verbose = True)\n",
    "ip_res.plot_neural_activity(X_TR)"
   ]
  },
  {
   "cell_type": "code",
   "execution_count": 6,
   "metadata": {},
   "outputs": [],
   "source": [
    "from Evaluator import Evaluator"
   ]
  },
  {
   "cell_type": "code",
   "execution_count": 7,
   "metadata": {},
   "outputs": [
    {
     "name": "stdout",
     "output_type": "stream",
     "text": [
      "Reservoir warmed up with the first 100 time steps\n"
     ]
    },
    {
     "data": {
      "text/plain": [
       "tensor(1.1908e-05)"
      ]
     },
     "execution_count": 7,
     "metadata": {},
     "output_type": "execute_result"
    }
   ],
   "source": [
    "Evaluator.evaluate_estrinsic(ip_res, data,)"
   ]
  },
  {
   "cell_type": "code",
   "execution_count": 8,
   "metadata": {},
   "outputs": [
    {
     "data": {
      "text/plain": [
       "0.6626193776138894"
      ]
     },
     "execution_count": 8,
     "metadata": {},
     "output_type": "execute_result"
    }
   ],
   "source": [
    "DeltaPhi().evaluate(ip_res)"
   ]
  },
  {
   "cell_type": "code",
   "execution_count": 9,
   "metadata": {},
   "outputs": [
    {
     "data": {
      "text/plain": [
       "tensor(7.7409)"
      ]
     },
     "execution_count": 9,
     "metadata": {},
     "output_type": "execute_result"
    }
   ],
   "source": [
    "MC().evaluate(ip_res)\n"
   ]
  },
  {
   "cell_type": "code",
   "execution_count": 10,
   "metadata": {},
   "outputs": [
    {
     "data": {
      "text/plain": [
       "1.6590899982574185"
      ]
     },
     "execution_count": 10,
     "metadata": {},
     "output_type": "execute_result"
    }
   ],
   "source": [
    "Neff().evaluate(ip_res)"
   ]
  },
  {
   "cell_type": "code",
   "execution_count": 11,
   "metadata": {},
   "outputs": [
    {
     "data": {
      "text/plain": [
       "-0.86514974"
      ]
     },
     "execution_count": 11,
     "metadata": {},
     "output_type": "execute_result"
    }
   ],
   "source": [
    "MLLE(X_TS).evaluate(ip_res)"
   ]
  },
  {
   "cell_type": "code",
   "execution_count": 12,
   "metadata": {},
   "outputs": [
    {
     "data": {
      "text/plain": [
       "tensor(0.0241)"
      ]
     },
     "execution_count": 12,
     "metadata": {},
     "output_type": "execute_result"
    }
   ],
   "source": [
    "KL().evaluate(ip_res)"
   ]
  },
  {
   "cell_type": "code",
   "execution_count": null,
   "metadata": {},
   "outputs": [],
   "source": []
  }
 ],
 "metadata": {
  "kernelspec": {
   "display_name": "Python 3",
   "language": "python",
   "name": "python3"
  },
  "language_info": {
   "codemirror_mode": {
    "name": "ipython",
    "version": 3
   },
   "file_extension": ".py",
   "mimetype": "text/x-python",
   "name": "python",
   "nbconvert_exporter": "python",
   "pygments_lexer": "ipython3",
   "version": "3.9.13"
  }
 },
 "nbformat": 4,
 "nbformat_minor": 2
}
