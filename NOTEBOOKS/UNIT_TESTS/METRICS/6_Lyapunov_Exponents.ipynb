{
 "cells": [
  {
   "cell_type": "code",
   "execution_count": 1,
   "metadata": {},
   "outputs": [],
   "source": [
    "import sys  \n",
    "sys.path.insert(1, './../../ESN-IP/IP/.')\n"
   ]
  },
  {
   "cell_type": "code",
   "execution_count": 2,
   "metadata": {},
   "outputs": [],
   "source": [
    "from DATA import MG17\n",
    "\n",
    "data = MG17(True, [80,10,10])\n",
    "\n",
    "X_TR, Y_TR = data.TR()\n",
    "X_VAL, Y_VAL = data.VAL()\n",
    "X_TS, Y_TS = data.TS()"
   ]
  },
  {
   "cell_type": "code",
   "execution_count": 3,
   "metadata": {},
   "outputs": [],
   "source": [
    "from ESN import Reservoir\n",
    "reservoir = Reservoir(N = 30, sparsity=0.9, ro_rescale=0.25, bias = True)"
   ]
  },
  {
   "cell_type": "code",
   "execution_count": 4,
   "metadata": {},
   "outputs": [
    {
     "name": "stderr",
     "output_type": "stream",
     "text": [
      "c:\\Users\\casa_\\OneDrive\\Desktop\\workspace\\ESN-IP\\NOTEBOOKS\\./../../ESN-IP/IP/.\\ESN.py:142: RuntimeWarning: divide by zero encountered in log\n",
      "  eig_acc += np.log(np.absolute(eig_k))\n"
     ]
    },
    {
     "data": {
      "text/plain": [
       "-2.61541"
      ]
     },
     "execution_count": 4,
     "metadata": {},
     "output_type": "execute_result"
    }
   ],
   "source": [
    "reservoir.LCE(X_TR)\n"
   ]
  },
  {
   "cell_type": "code",
   "execution_count": 5,
   "metadata": {},
   "outputs": [
    {
     "data": {
      "text/plain": [
       "0.0462834597453736"
      ]
     },
     "execution_count": 5,
     "metadata": {},
     "output_type": "execute_result"
    }
   ],
   "source": [
    "reservoir.de_fi()"
   ]
  },
  {
   "cell_type": "code",
   "execution_count": 6,
   "metadata": {},
   "outputs": [],
   "source": [
    "from IntrinsicPlasticity import IPMask"
   ]
  },
  {
   "cell_type": "code",
   "execution_count": 7,
   "metadata": {},
   "outputs": [],
   "source": [
    "from IPReservoir import IPReservoir\n",
    "ip_reservoir = IPReservoir(N = 30, sparsity=0.9, ro_rescale=0.25, bias = True, mask=IPMask.normalMask(30))"
   ]
  },
  {
   "cell_type": "code",
   "execution_count": 8,
   "metadata": {},
   "outputs": [
    {
     "name": "stdout",
     "output_type": "stream",
     "text": [
      "- Epoch: 1) | KL Divergence value: 2483.97509765625.\n",
      "- Epoch: 2) | KL Divergence value: 2412.099365234375.\n",
      "- Epoch: 3) | KL Divergence value: 2343.430908203125.\n",
      "- Epoch: 4) | KL Divergence value: 2277.8037109375.\n",
      "- Epoch: 5) | KL Divergence value: 2215.621337890625.\n",
      "- Epoch: 6) | KL Divergence value: 2157.5966796875.\n",
      "- Epoch: 7) | KL Divergence value: 2104.5341796875.\n",
      "- Epoch: 8) | KL Divergence value: 2057.11083984375.\n",
      "- Epoch: 9) | KL Divergence value: 2015.6964111328125.\n",
      "- Epoch: 10) | KL Divergence value: 1980.286376953125.\n"
     ]
    }
   ],
   "source": [
    "ip_reservoir.pre_train(X_TR, epochs=10)"
   ]
  },
  {
   "cell_type": "code",
   "execution_count": 9,
   "metadata": {},
   "outputs": [
    {
     "data": {
      "image/png": "[encoded data removed]",
      "text/plain": [
       "<Figure size 640x480 with 1 Axes>"
      ]
     },
     "metadata": {},
     "output_type": "display_data"
    }
   ],
   "source": [
    "ip_reservoir.predict(X_TR, save_gradients=False, save_states=True)\n",
    "ip_reservoir.plot_global_neural_activity()"
   ]
  },
  {
   "cell_type": "code",
   "execution_count": 10,
   "metadata": {},
   "outputs": [
    {
     "name": "stderr",
     "output_type": "stream",
     "text": [
      "c:\\Users\\casa_\\OneDrive\\Desktop\\workspace\\ESN-IP\\NOTEBOOKS\\./../../ESN-IP/IP/.\\ESN.py:142: RuntimeWarning: divide by zero encountered in log\n",
      "  eig_acc += np.log(np.absolute(eig_k))\n"
     ]
    },
    {
     "data": {
      "text/plain": [
       "-0.68085337"
      ]
     },
     "execution_count": 10,
     "metadata": {},
     "output_type": "execute_result"
    }
   ],
   "source": [
    "ip_reservoir.LCE(X_VAL)"
   ]
  },
  {
   "cell_type": "code",
   "execution_count": 11,
   "metadata": {},
   "outputs": [
    {
     "data": {
      "text/plain": [
       "-0.6808524"
      ]
     },
     "execution_count": 11,
     "metadata": {},
     "output_type": "execute_result"
    }
   ],
   "source": [
    "ip_reservoir.LCE(X_TS)"
   ]
  },
  {
   "cell_type": "code",
   "execution_count": 12,
   "metadata": {},
   "outputs": [
    {
     "data": {
      "text/plain": [
       "-0.6809389"
      ]
     },
     "execution_count": 12,
     "metadata": {},
     "output_type": "execute_result"
    }
   ],
   "source": [
    "ip_reservoir.LCE(X_TR)"
   ]
  },
  {
   "cell_type": "code",
   "execution_count": 13,
   "metadata": {},
   "outputs": [
    {
     "data": {
      "text/plain": [
       "0.08078333675313475"
      ]
     },
     "execution_count": 13,
     "metadata": {},
     "output_type": "execute_result"
    }
   ],
   "source": [
    "ip_reservoir.de_fi()"
   ]
  }
 ],
 "metadata": {
  "kernelspec": {
   "display_name": "Python 3",
   "language": "python",
   "name": "python3"
  },
  "language_info": {
   "codemirror_mode": {
    "name": "ipython",
    "version": 3
   },
   "file_extension": ".py",
   "mimetype": "text/x-python",
   "name": "python",
   "nbconvert_exporter": "python",
   "pygments_lexer": "ipython3",
   "version": "3.9.13"
  }
 },
 "nbformat": 4,
 "nbformat_minor": 2
}
