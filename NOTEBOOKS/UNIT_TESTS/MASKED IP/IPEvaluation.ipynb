{
 "cells": [
  {
   "cell_type": "code",
   "execution_count": 1,
   "metadata": {},
   "outputs": [],
   "source": [
    "import sys  \n",
    "sys.path.insert(1, './../../../../ESN-IP/SOURCES/.')\n",
    "\n",
    "import random\n",
    "\n",
    "random.seed(10)\n"
   ]
  },
  {
   "cell_type": "code",
   "execution_count": 2,
   "metadata": {},
   "outputs": [],
   "source": [
    "from Reservoir import ReservoirConfiguration\n",
    "from IPReservoir import IPReservoirConfiguration\n",
    "from IPMask import IPMask\n",
    "from DATA import MG17"
   ]
  },
  {
   "cell_type": "code",
   "execution_count": 3,
   "metadata": {},
   "outputs": [],
   "source": [
    "N = 50"
   ]
  },
  {
   "cell_type": "code",
   "execution_count": 9,
   "metadata": {},
   "outputs": [],
   "source": [
    "\n",
    "\n",
    "configs = [\n",
    "    IPReservoirConfiguration(ReservoirConfiguration(N_units=N, bias=False, input_scaling=1,desired_rho=0.1, name=\"Gaussian\"), IPMask.gaussian(N), epochs=5, desired_rho=0.96),\n",
    "    #IPReservoirConfiguration(ReservoirConfiguration(N_units=N, bias=False, name=\"Bimodal 0.72\"), IPMask.bimodal(N, mu=0.72)),\n",
    "    #IPReservoirConfiguration(ReservoirConfiguration(N_units=N, bias=False, name=\"Bimodal 0.92\"), IPMask.bimodal(N, mu=0.92)),\n",
    "    #IPReservoirConfiguration(ReservoirConfiguration(N_units=N, bias=False, name=\"Trimodal 0.72\"), IPMask.trimodal(N, 4/5, mu=0.72)),\n",
    "    #IPReservoirConfiguration(ReservoirConfiguration(N_units=N, bias=False, name=\"Trimodal 0.92\"), IPMask.trimodal(N, 4/5, mu=0.92)),\n",
    "    ReservoirConfiguration(N_units=N,  bias=False, desired_rho=0.96, name=\"Vanilla\"),\n",
    "]"
   ]
  },
  {
   "cell_type": "code",
   "execution_count": 8,
   "metadata": {},
   "outputs": [
    {
     "data": {
      "image/png": "[encoded data removed]",
      "text/plain": [
       "<Figure size 640x480 with 1 Axes>"
      ]
     },
     "metadata": {},
     "output_type": "display_data"
    },
    {
     "name": "stdout",
     "output_type": "stream",
     "text": [
      "Reservoir warmed up with the first 100 time steps\n",
      "900\n",
      "Reservoir warmed up with the first 100 time steps\n",
      "900\n"
     ]
    }
   ],
   "source": [
    "from Metrics import * \n",
    "from Evaluator import Evaluator\n",
    "\n",
    "results = Evaluator(path=\".\", experiment_name=\"Unit_test\").evaluate_multiple(configs, data = MG17(), repetitions=1 )"
   ]
  },
  {
   "cell_type": "code",
   "execution_count": 6,
   "metadata": {},
   "outputs": [
    {
     "data": {
      "text/html": [
       "<div>\n",
       "<style scoped>\n",
       "    .dataframe tbody tr th:only-of-type {\n",
       "        vertical-align: middle;\n",
       "    }\n",
       "\n",
       "    .dataframe tbody tr th {\n",
       "        vertical-align: top;\n",
       "    }\n",
       "\n",
       "    .dataframe thead th {\n",
       "        text-align: right;\n",
       "    }\n",
       "</style>\n",
       "<table border=\"1\" class=\"dataframe\">\n",
       "  <thead>\n",
       "    <tr style=\"text-align: right;\">\n",
       "      <th></th>\n",
       "      <th>Model Name</th>\n",
       "      <th>Model Index</th>\n",
       "      <th>Aggregation</th>\n",
       "      <th>MSE</th>\n",
       "      <th>NRMSE</th>\n",
       "      <th>MC</th>\n",
       "      <th>MLLE</th>\n",
       "      <th>DeltaPhi</th>\n",
       "      <th>Neff</th>\n",
       "    </tr>\n",
       "  </thead>\n",
       "  <tbody>\n",
       "    <tr>\n",
       "      <th>0</th>\n",
       "      <td>IP Reservoir</td>\n",
       "      <td>0.0</td>\n",
       "      <td>Mean</td>\n",
       "      <td>0.000039</td>\n",
       "      <td>0.905913</td>\n",
       "      <td>28.156561</td>\n",
       "      <td>0.121235</td>\n",
       "      <td>0.043933</td>\n",
       "      <td>5.752318</td>\n",
       "    </tr>\n",
       "    <tr>\n",
       "      <th>1</th>\n",
       "      <td>IP Reservoir</td>\n",
       "      <td>0.0</td>\n",
       "      <td>Std</td>\n",
       "      <td>0.000000</td>\n",
       "      <td>0.000000</td>\n",
       "      <td>0.000000</td>\n",
       "      <td>0.000000</td>\n",
       "      <td>0.000000</td>\n",
       "      <td>0.000000</td>\n",
       "    </tr>\n",
       "    <tr>\n",
       "      <th>2</th>\n",
       "      <td>Vanilla</td>\n",
       "      <td>1.0</td>\n",
       "      <td>Mean</td>\n",
       "      <td>0.000054</td>\n",
       "      <td>1.070525</td>\n",
       "      <td>14.339738</td>\n",
       "      <td>-0.052641</td>\n",
       "      <td>0.049283</td>\n",
       "      <td>2.679662</td>\n",
       "    </tr>\n",
       "    <tr>\n",
       "      <th>3</th>\n",
       "      <td>Vanilla</td>\n",
       "      <td>1.0</td>\n",
       "      <td>Std</td>\n",
       "      <td>0.000000</td>\n",
       "      <td>0.000000</td>\n",
       "      <td>0.000000</td>\n",
       "      <td>0.000000</td>\n",
       "      <td>0.000000</td>\n",
       "      <td>0.000000</td>\n",
       "    </tr>\n",
       "  </tbody>\n",
       "</table>\n",
       "</div>"
      ],
      "text/plain": [
       "     Model Name  Model Index Aggregation       MSE     NRMSE         MC  \\\n",
       "0  IP Reservoir          0.0        Mean  0.000039  0.905913  28.156561   \n",
       "1  IP Reservoir          0.0         Std  0.000000  0.000000   0.000000   \n",
       "2       Vanilla          1.0        Mean  0.000054  1.070525  14.339738   \n",
       "3       Vanilla          1.0         Std  0.000000  0.000000   0.000000   \n",
       "\n",
       "       MLLE  DeltaPhi      Neff  \n",
       "0  0.121235  0.043933  5.752318  \n",
       "1  0.000000  0.000000  0.000000  \n",
       "2 -0.052641  0.049283  2.679662  \n",
       "3  0.000000  0.000000  0.000000  "
      ]
     },
     "execution_count": 6,
     "metadata": {},
     "output_type": "execute_result"
    }
   ],
   "source": [
    "results"
   ]
  }
 ],
 "metadata": {
  "kernelspec": {
   "display_name": "Python 3",
   "language": "python",
   "name": "python3"
  },
  "language_info": {
   "codemirror_mode": {
    "name": "ipython",
    "version": 3
   },
   "file_extension": ".py",
   "mimetype": "text/x-python",
   "name": "python",
   "nbconvert_exporter": "python",
   "pygments_lexer": "ipython3",
   "version": "3.9.13"
  }
 },
 "nbformat": 4,
 "nbformat_minor": 2
}
