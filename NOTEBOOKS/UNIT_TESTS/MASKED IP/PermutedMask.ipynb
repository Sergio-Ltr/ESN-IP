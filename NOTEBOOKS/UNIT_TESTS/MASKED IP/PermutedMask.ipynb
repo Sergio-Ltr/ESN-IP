{
 "cells": [
  {
   "cell_type": "code",
   "execution_count": 1,
   "metadata": {},
   "outputs": [],
   "source": [
    "import sys  \n",
    "sys.path.insert(1, './../../../../ESN-IP/SOURCES/.')\n",
    "\n",
    "import random\n",
    "\n",
    "random.seed(10)\n"
   ]
  },
  {
   "cell_type": "code",
   "execution_count": 2,
   "metadata": {},
   "outputs": [],
   "source": [
    "from Reservoir import Reservoir\n",
    "from ESN import EchoStateNetwork\n",
    "from IPReservoir import IPReservoir\n",
    "from IPMask import IPMask\n",
    "from DATA import MG17"
   ]
  },
  {
   "cell_type": "code",
   "execution_count": 3,
   "metadata": {},
   "outputs": [],
   "source": [
    "data = MG17(True, [80,0,20])\n",
    "\n",
    "X_TR, Y_TR = data.TR()\n",
    "X_TS, Y_TS = data.TS()\n"
   ]
  },
  {
   "cell_type": "code",
   "execution_count": 4,
   "metadata": {},
   "outputs": [],
   "source": [
    "N = 50"
   ]
  },
  {
   "cell_type": "code",
   "execution_count": 5,
   "metadata": {},
   "outputs": [],
   "source": [
    "mask=IPMask.trimodal(N, mu=0.72, linear_rate=8/9, std_lin=0.25, std_bim = 0.07)"
   ]
  },
  {
   "cell_type": "code",
   "execution_count": 6,
   "metadata": {},
   "outputs": [],
   "source": [
    "trimodal_reservoir = IPReservoir(N=N, bias = False, desired_rho=0.9 )"
   ]
  },
  {
   "cell_type": "code",
   "execution_count": 7,
   "metadata": {},
   "outputs": [],
   "source": [
    "data = MG17(True, [80,0,20])\n",
    "\n",
    "X_TR, Y_TR = data.TR()\n",
    "X_TS, Y_TS = data.TS()"
   ]
  },
  {
   "cell_type": "code",
   "execution_count": 8,
   "metadata": {},
   "outputs": [],
   "source": [
    "H = trimodal_reservoir.predict(X_TS)"
   ]
  },
  {
   "cell_type": "code",
   "execution_count": 9,
   "metadata": {},
   "outputs": [],
   "source": [
    "import numpy as np\n",
    "import torch"
   ]
  },
  {
   "cell_type": "code",
   "execution_count": 10,
   "metadata": {},
   "outputs": [
    {
     "data": {
      "text/plain": [
       "torch.Size([50])"
      ]
     },
     "execution_count": 10,
     "metadata": {},
     "output_type": "execute_result"
    }
   ],
   "source": [
    "avg = torch.mean(H, axis=0)\n",
    "avg.shape"
   ]
  },
  {
   "cell_type": "code",
   "execution_count": 11,
   "metadata": {},
   "outputs": [
    {
     "data": {
      "text/plain": [
       "tensor([23, 35, 10, 42, 18, 46,  2, 24, 16, 11, 14,  0, 45, 17, 25, 30, 43, 27,\n",
       "        29,  8, 48,  7, 41, 28, 47, 26,  9,  5, 15, 39, 31, 22, 19, 21, 40,  4,\n",
       "         6, 12, 13, 20,  1, 36, 44, 38, 33,  3, 37, 34, 49, 32])"
      ]
     },
     "execution_count": 11,
     "metadata": {},
     "output_type": "execute_result"
    }
   ],
   "source": [
    "np.argsort(avg)"
   ]
  },
  {
   "cell_type": "code",
   "execution_count": 12,
   "metadata": {},
   "outputs": [
    {
     "data": {
      "text/plain": [
       "tensor(0.9734)"
      ]
     },
     "execution_count": 12,
     "metadata": {},
     "output_type": "execute_result"
    }
   ],
   "source": [
    "avg[49]"
   ]
  },
  {
   "cell_type": "code",
   "execution_count": 13,
   "metadata": {},
   "outputs": [],
   "source": [
    "mask_means = mask.means()\n",
    "new_mask = np.zeros(50)"
   ]
  },
  {
   "cell_type": "code",
   "execution_count": 14,
   "metadata": {},
   "outputs": [],
   "source": [
    "mask_indeces = np.argsort(mask_means)"
   ]
  },
  {
   "cell_type": "code",
   "execution_count": 15,
   "metadata": {},
   "outputs": [],
   "source": [
    "\n",
    "for neuron_idx, target_idx in zip(np.argsort(avg), mask_indeces): \n",
    "    new_mask[neuron_idx] = mask_means[target_idx]"
   ]
  },
  {
   "cell_type": "code",
   "execution_count": 16,
   "metadata": {},
   "outputs": [
    {
     "name": "stdout",
     "output_type": "stream",
     "text": [
      "tensor(-0.9633) -0.7200000286102295\n",
      "tensor(-0.9501) -0.7200000286102295\n",
      "tensor(-0.9317) 0.0\n",
      "tensor(-0.8617) 0.0\n",
      "tensor(-0.8602) 0.0\n",
      "tensor(-0.7685) 0.0\n",
      "tensor(-0.7479) 0.0\n",
      "tensor(-0.7091) 0.0\n",
      "tensor(-0.6350) 0.0\n",
      "tensor(-0.6007) 0.0\n",
      "tensor(-0.5977) 0.0\n",
      "tensor(-0.4944) 0.0\n",
      "tensor(-0.4850) 0.0\n",
      "tensor(-0.4696) 0.0\n",
      "tensor(-0.4246) 0.0\n",
      "tensor(-0.4230) 0.0\n",
      "tensor(-0.3911) 0.0\n",
      "tensor(-0.3727) 0.0\n",
      "tensor(-0.3093) 0.0\n",
      "tensor(-0.2450) 0.0\n",
      "tensor(-0.1887) 0.0\n",
      "tensor(-0.1687) 0.0\n",
      "tensor(-0.0975) 0.0\n",
      "tensor(0.0786) 0.0\n",
      "tensor(0.0993) 0.0\n",
      "tensor(0.1068) 0.0\n",
      "tensor(0.1194) 0.0\n",
      "tensor(0.1524) 0.0\n",
      "tensor(0.1906) 0.0\n",
      "tensor(0.1971) 0.0\n",
      "tensor(0.2133) 0.0\n",
      "tensor(0.2312) 0.0\n",
      "tensor(0.2322) 0.0\n",
      "tensor(0.2524) 0.0\n",
      "tensor(0.2786) 0.0\n",
      "tensor(0.5420) 0.0\n",
      "tensor(0.5698) 0.0\n",
      "tensor(0.5941) 0.0\n",
      "tensor(0.6164) 0.0\n",
      "tensor(0.6222) 0.0\n",
      "tensor(0.6612) 0.0\n",
      "tensor(0.6856) 0.0\n",
      "tensor(0.6985) 0.0\n",
      "tensor(0.7072) 0.0\n",
      "tensor(0.7180) 0.0\n",
      "tensor(0.8208) 0.0\n",
      "tensor(0.8543) 0.0\n",
      "tensor(0.8794) 0.7200000286102295\n",
      "tensor(0.9734) 0.7200000286102295\n",
      "tensor(0.9904) 0.7200000286102295\n"
     ]
    }
   ],
   "source": [
    "for i in np.argsort(avg): \n",
    "    print(avg[i], new_mask[i])"
   ]
  },
  {
   "cell_type": "code",
   "execution_count": 17,
   "metadata": {},
   "outputs": [],
   "source": [
    "trimodal_mask = IPMask.trimodal(N, mu=0.72, linear_rate=8/9, std_lin=0.25, std_bim = 0.07)\n",
    "trimodal_mask.to_permute = True"
   ]
  },
  {
   "cell_type": "code",
   "execution_count": 18,
   "metadata": {},
   "outputs": [
    {
     "data": {
      "text/plain": [
       "0.0"
      ]
     },
     "execution_count": 18,
     "metadata": {},
     "output_type": "execute_result"
    }
   ],
   "source": [
    "trimodal_mask.distributions[0].mean"
   ]
  },
  {
   "cell_type": "code",
   "execution_count": 19,
   "metadata": {},
   "outputs": [
    {
     "name": "stdout",
     "output_type": "stream",
     "text": [
      "True\n",
      "tensor(-0.9633) tensor(-0.7200)\n",
      "tensor(-0.9502) tensor(-0.7200)\n",
      "tensor(-0.9318) tensor(0.)\n",
      "tensor(-0.8617) tensor(0.)\n",
      "tensor(-0.8601) tensor(0.)\n",
      "tensor(-0.7685) tensor(0.)\n",
      "tensor(-0.7483) tensor(0.)\n",
      "tensor(-0.7089) tensor(0.)\n",
      "tensor(-0.6350) tensor(0.)\n",
      "tensor(-0.6005) tensor(0.)\n",
      "tensor(-0.5978) tensor(0.)\n",
      "tensor(-0.4947) tensor(0.)\n",
      "tensor(-0.4847) tensor(0.)\n",
      "tensor(-0.4701) tensor(0.)\n",
      "tensor(-0.4251) tensor(0.)\n",
      "tensor(-0.4231) tensor(0.)\n",
      "tensor(-0.3911) tensor(0.)\n",
      "tensor(-0.3726) tensor(0.)\n",
      "tensor(-0.3095) tensor(0.)\n",
      "tensor(-0.2451) tensor(0.)\n",
      "tensor(-0.1885) tensor(0.)\n",
      "tensor(-0.1689) tensor(0.)\n",
      "tensor(-0.0979) tensor(0.)\n",
      "tensor(0.0781) tensor(0.)\n",
      "tensor(0.0994) tensor(0.)\n",
      "tensor(0.1064) tensor(0.)\n",
      "tensor(0.1196) tensor(0.)\n",
      "tensor(0.1526) tensor(0.)\n",
      "tensor(0.1903) tensor(0.)\n",
      "tensor(0.1966) tensor(0.)\n",
      "tensor(0.2136) tensor(0.)\n",
      "tensor(0.2314) tensor(0.)\n",
      "tensor(0.2322) tensor(0.)\n",
      "tensor(0.2522) tensor(0.)\n",
      "tensor(0.2794) tensor(0.)\n",
      "tensor(0.5423) tensor(0.)\n",
      "tensor(0.5698) tensor(0.)\n",
      "tensor(0.5943) tensor(0.)\n",
      "tensor(0.6163) tensor(0.)\n",
      "tensor(0.6226) tensor(0.)\n",
      "tensor(0.6612) tensor(0.)\n",
      "tensor(0.6855) tensor(0.)\n",
      "tensor(0.6988) tensor(0.)\n",
      "tensor(0.7073) tensor(0.)\n",
      "tensor(0.7183) tensor(0.)\n",
      "tensor(0.8212) tensor(0.)\n",
      "tensor(0.8546) tensor(0.)\n",
      "tensor(0.8796) tensor(0.7200)\n",
      "tensor(0.9734) tensor(0.7200)\n",
      "tensor(0.9905) tensor(0.7200)\n"
     ]
    }
   ],
   "source": [
    "trimodal_reservoir.set_IP_mask(trimodal_mask)\n",
    "trimodal_reservoir.IP_online(MG17().X_TS, epochs=0)"
   ]
  }
 ],
 "metadata": {
  "kernelspec": {
   "display_name": "Python 3",
   "language": "python",
   "name": "python3"
  },
  "language_info": {
   "codemirror_mode": {
    "name": "ipython",
    "version": 3
   },
   "file_extension": ".py",
   "mimetype": "text/x-python",
   "name": "python",
   "nbconvert_exporter": "python",
   "pygments_lexer": "ipython3",
   "version": "3.9.13"
  }
 },
 "nbformat": 4,
 "nbformat_minor": 2
}
