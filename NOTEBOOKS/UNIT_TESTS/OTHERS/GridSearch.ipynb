{
 "cells": [
  {
   "cell_type": "code",
   "execution_count": 4,
   "metadata": {},
   "outputs": [],
   "source": [
    "import sys  \n",
    "sys.path.insert(1, \"./../../../../ESN-IP/SOURCES/.\")\n",
    "\n",
    "import random\n",
    "\n",
    "random.seed(10)"
   ]
  },
  {
   "cell_type": "code",
   "execution_count": 5,
   "metadata": {},
   "outputs": [],
   "source": [
    "from Configuartions import *"
   ]
  },
  {
   "cell_type": "code",
   "execution_count": 6,
   "metadata": {},
   "outputs": [],
   "source": [
    "space = IPHyperparametersSpace()"
   ]
  },
  {
   "cell_type": "code",
   "execution_count": 7,
   "metadata": {},
   "outputs": [],
   "source": [
    "configs = space.get_configs()"
   ]
  },
  {
   "cell_type": "code",
   "execution_count": 8,
   "metadata": {},
   "outputs": [
    {
     "name": "stdout",
     "output_type": "stream",
     "text": [
      "Target: Gaussian - mu: 0.0 - std: 0.25 |  Eta: 2.5e-06 - Epochs: 10 | Initial state:  Units: 100, Input scaling: 1, Rho: 1 - Biased - Bias scaling: (1, 1) - Sparsity: (0, 0)\n",
      "Target: Bimodal - mu: 0.72 - std: 0.07 |  Eta: 2.5e-06 - Epochs: 10 | Initial state:  Units: 100, Input scaling: 1, Rho: 1 - Biased - Bias scaling: (1, 1) - Sparsity: (0, 0)\n",
      "Target: Trimodal - rate:0.3333333333333333 - mu: 0.72 - std_lin: 0.2 - std_bim:0.07 |  Eta: 2.5e-06 - Epochs: 10 | Initial state:  Units: 100, Input scaling: 1, Rho: 1 - Biased - Bias scaling: (1, 1) - Sparsity: (0, 0)\n",
      "Target: Trimodal - rate:0.6666666666666666 - mu: 0.72 - std_lin: 0.2 - std_bim:0.07 |  Eta: 2.5e-06 - Epochs: 10 | Initial state:  Units: 100, Input scaling: 1, Rho: 1 - Biased - Bias scaling: (1, 1) - Sparsity: (0, 0)\n",
      "Target: Quadrimodal |  Eta: 2.5e-06 - Epochs: 10 | Initial state:  Units: 100, Input scaling: 1, Rho: 1 - Biased - Bias scaling: (1, 1) - Sparsity: (0, 0)\n",
      "Target: Gaussian - mu: 0.0 - std: 0.25 |  Eta: 0.00025 - Epochs: 10 | Initial state:  Units: 100, Input scaling: 1, Rho: 1 - Biased - Bias scaling: (1, 1) - Sparsity: (0, 0)\n",
      "Target: Bimodal - mu: 0.72 - std: 0.07 |  Eta: 0.00025 - Epochs: 10 | Initial state:  Units: 100, Input scaling: 1, Rho: 1 - Biased - Bias scaling: (1, 1) - Sparsity: (0, 0)\n",
      "Target: Trimodal - rate:0.3333333333333333 - mu: 0.72 - std_lin: 0.2 - std_bim:0.07 |  Eta: 0.00025 - Epochs: 10 | Initial state:  Units: 100, Input scaling: 1, Rho: 1 - Biased - Bias scaling: (1, 1) - Sparsity: (0, 0)\n",
      "Target: Trimodal - rate:0.6666666666666666 - mu: 0.72 - std_lin: 0.2 - std_bim:0.07 |  Eta: 0.00025 - Epochs: 10 | Initial state:  Units: 100, Input scaling: 1, Rho: 1 - Biased - Bias scaling: (1, 1) - Sparsity: (0, 0)\n",
      "Target: Quadrimodal |  Eta: 0.00025 - Epochs: 10 | Initial state:  Units: 100, Input scaling: 1, Rho: 1 - Biased - Bias scaling: (1, 1) - Sparsity: (0, 0)\n"
     ]
    }
   ],
   "source": [
    "for config in configs:\n",
    "    print(config.description())"
   ]
  },
  {
   "cell_type": "code",
   "execution_count": 9,
   "metadata": {},
   "outputs": [],
   "source": [
    "vanilla_sapce = ReservoirHyperparamSpace(unit_range=[50], input_scaling_range=[0.25, 0.5, 1], bu_scaling_range=[1, 0.5], bh_scaling_range=[0])"
   ]
  },
  {
   "cell_type": "code",
   "execution_count": 10,
   "metadata": {},
   "outputs": [
    {
     "name": "stdout",
     "output_type": "stream",
     "text": [
      " Units: 50, Input scaling: 0.25, Rho: 0.5 - Biased - Bias scaling: (1, 0) - Sparsity: (0, 0)\n",
      " Units: 50, Input scaling: 0.25, Rho: 0.5 - Biased - Bias scaling: (0.5, 0) - Sparsity: (0, 0)\n",
      " Units: 50, Input scaling: 0.25, Rho: 0.5 - Unbiased - Bias scaling: (0, 0) - Sparsity: (0, 0)\n",
      " Units: 50, Input scaling: 0.5, Rho: 0.5 - Biased - Bias scaling: (1, 0) - Sparsity: (0, 0)\n",
      " Units: 50, Input scaling: 0.5, Rho: 0.5 - Biased - Bias scaling: (0.5, 0) - Sparsity: (0, 0)\n",
      " Units: 50, Input scaling: 0.5, Rho: 0.5 - Unbiased - Bias scaling: (0, 0) - Sparsity: (0, 0)\n",
      " Units: 50, Input scaling: 1, Rho: 0.5 - Biased - Bias scaling: (1, 0) - Sparsity: (0, 0)\n",
      " Units: 50, Input scaling: 1, Rho: 0.5 - Biased - Bias scaling: (0.5, 0) - Sparsity: (0, 0)\n",
      " Units: 50, Input scaling: 1, Rho: 0.5 - Unbiased - Bias scaling: (0, 0) - Sparsity: (0, 0)\n",
      " Units: 50, Input scaling: 0.25, Rho: 0.75 - Biased - Bias scaling: (1, 0) - Sparsity: (0, 0)\n",
      " Units: 50, Input scaling: 0.25, Rho: 0.75 - Biased - Bias scaling: (0.5, 0) - Sparsity: (0, 0)\n",
      " Units: 50, Input scaling: 0.25, Rho: 0.75 - Unbiased - Bias scaling: (0, 0) - Sparsity: (0, 0)\n",
      " Units: 50, Input scaling: 0.5, Rho: 0.75 - Biased - Bias scaling: (1, 0) - Sparsity: (0, 0)\n",
      " Units: 50, Input scaling: 0.5, Rho: 0.75 - Biased - Bias scaling: (0.5, 0) - Sparsity: (0, 0)\n",
      " Units: 50, Input scaling: 0.5, Rho: 0.75 - Unbiased - Bias scaling: (0, 0) - Sparsity: (0, 0)\n",
      " Units: 50, Input scaling: 1, Rho: 0.75 - Biased - Bias scaling: (1, 0) - Sparsity: (0, 0)\n",
      " Units: 50, Input scaling: 1, Rho: 0.75 - Biased - Bias scaling: (0.5, 0) - Sparsity: (0, 0)\n",
      " Units: 50, Input scaling: 1, Rho: 0.75 - Unbiased - Bias scaling: (0, 0) - Sparsity: (0, 0)\n",
      " Units: 50, Input scaling: 0.25, Rho: 0.95 - Biased - Bias scaling: (1, 0) - Sparsity: (0, 0)\n",
      " Units: 50, Input scaling: 0.25, Rho: 0.95 - Biased - Bias scaling: (0.5, 0) - Sparsity: (0, 0)\n",
      " Units: 50, Input scaling: 0.25, Rho: 0.95 - Unbiased - Bias scaling: (0, 0) - Sparsity: (0, 0)\n",
      " Units: 50, Input scaling: 0.5, Rho: 0.95 - Biased - Bias scaling: (1, 0) - Sparsity: (0, 0)\n",
      " Units: 50, Input scaling: 0.5, Rho: 0.95 - Biased - Bias scaling: (0.5, 0) - Sparsity: (0, 0)\n",
      " Units: 50, Input scaling: 0.5, Rho: 0.95 - Unbiased - Bias scaling: (0, 0) - Sparsity: (0, 0)\n",
      " Units: 50, Input scaling: 1, Rho: 0.95 - Biased - Bias scaling: (1, 0) - Sparsity: (0, 0)\n",
      " Units: 50, Input scaling: 1, Rho: 0.95 - Biased - Bias scaling: (0.5, 0) - Sparsity: (0, 0)\n",
      " Units: 50, Input scaling: 1, Rho: 0.95 - Unbiased - Bias scaling: (0, 0) - Sparsity: (0, 0)\n",
      "27\n"
     ]
    }
   ],
   "source": [
    "for config in vanilla_sapce.get_configs():\n",
    "    print(config.description())\n",
    "\n",
    "print(len(vanilla_sapce.get_configs()))"
   ]
  },
  {
   "cell_type": "code",
   "execution_count": 11,
   "metadata": {},
   "outputs": [
    {
     "data": {
      "text/plain": [
       "[<Reservoir.ReservoirConfiguration at 0x1d9b3938160>,\n",
       " <Reservoir.ReservoirConfiguration at 0x1d9dc9482e0>,\n",
       " <Reservoir.ReservoirConfiguration at 0x1d9b3db4ee0>,\n",
       " <Reservoir.ReservoirConfiguration at 0x1d9b3db4eb0>,\n",
       " <Reservoir.ReservoirConfiguration at 0x1d9b3db4f70>,\n",
       " <Reservoir.ReservoirConfiguration at 0x1d9b3db4190>,\n",
       " <Reservoir.ReservoirConfiguration at 0x1d9fc9ada00>,\n",
       " <Reservoir.ReservoirConfiguration at 0x1d9fc9adca0>,\n",
       " <Reservoir.ReservoirConfiguration at 0x1d9fc9ad2e0>,\n",
       " <Reservoir.ReservoirConfiguration at 0x1d9fc9adc70>,\n",
       " <Reservoir.ReservoirConfiguration at 0x1d9fc9adc40>,\n",
       " <Reservoir.ReservoirConfiguration at 0x1d9fc9ad130>,\n",
       " <Reservoir.ReservoirConfiguration at 0x1d9fc9adbe0>,\n",
       " <Reservoir.ReservoirConfiguration at 0x1d9fc9adc10>,\n",
       " <Reservoir.ReservoirConfiguration at 0x1d9fc9ad760>,\n",
       " <Reservoir.ReservoirConfiguration at 0x1d9fc9ad670>,\n",
       " <Reservoir.ReservoirConfiguration at 0x1d9fc9ad6a0>,\n",
       " <Reservoir.ReservoirConfiguration at 0x1d9fc9add90>,\n",
       " <Reservoir.ReservoirConfiguration at 0x1d9fc9ad7c0>,\n",
       " <Reservoir.ReservoirConfiguration at 0x1d9fc9ad790>,\n",
       " <Reservoir.ReservoirConfiguration at 0x1d9fc9ad730>,\n",
       " <Reservoir.ReservoirConfiguration at 0x1d9fc9ad700>,\n",
       " <Reservoir.ReservoirConfiguration at 0x1d9fc9ad6d0>,\n",
       " <Reservoir.ReservoirConfiguration at 0x1d9fc9ad3d0>,\n",
       " <Reservoir.ReservoirConfiguration at 0x1d9fc9ad2b0>,\n",
       " <Reservoir.ReservoirConfiguration at 0x1d9fc9ad280>,\n",
       " <Reservoir.ReservoirConfiguration at 0x1d9fc9ad250>]"
      ]
     },
     "execution_count": 11,
     "metadata": {},
     "output_type": "execute_result"
    }
   ],
   "source": [
    "vanilla_sapce.get_configs()"
   ]
  },
  {
   "cell_type": "code",
   "execution_count": 12,
   "metadata": {},
   "outputs": [
    {
     "name": "stdout",
     "output_type": "stream",
     "text": [
      " Units: 50, Input scaling: 0.25, Rho: 0.5 - Biased - Bias scaling: (1, 0) - Sparsity: (0, 0)\n",
      " Units: 50, Input scaling: 0.25, Rho: 0.5 - Biased - Bias scaling: (0.5, 0) - Sparsity: (0, 0)\n",
      " Units: 50, Input scaling: 0.25, Rho: 0.5 - Unbiased - Bias scaling: (0, 0) - Sparsity: (0, 0)\n",
      " Units: 50, Input scaling: 0.5, Rho: 0.5 - Biased - Bias scaling: (1, 0) - Sparsity: (0, 0)\n",
      " Units: 50, Input scaling: 0.5, Rho: 0.5 - Biased - Bias scaling: (0.5, 0) - Sparsity: (0, 0)\n",
      " Units: 50, Input scaling: 0.5, Rho: 0.5 - Unbiased - Bias scaling: (0, 0) - Sparsity: (0, 0)\n",
      " Units: 50, Input scaling: 1, Rho: 0.5 - Biased - Bias scaling: (1, 0) - Sparsity: (0, 0)\n",
      " Units: 50, Input scaling: 1, Rho: 0.5 - Biased - Bias scaling: (0.5, 0) - Sparsity: (0, 0)\n",
      " Units: 50, Input scaling: 1, Rho: 0.5 - Unbiased - Bias scaling: (0, 0) - Sparsity: (0, 0)\n",
      " Units: 50, Input scaling: 0.25, Rho: 0.75 - Biased - Bias scaling: (1, 0) - Sparsity: (0, 0)\n",
      " Units: 50, Input scaling: 0.25, Rho: 0.75 - Biased - Bias scaling: (0.5, 0) - Sparsity: (0, 0)\n",
      " Units: 50, Input scaling: 0.25, Rho: 0.75 - Unbiased - Bias scaling: (0, 0) - Sparsity: (0, 0)\n",
      " Units: 50, Input scaling: 0.5, Rho: 0.75 - Biased - Bias scaling: (1, 0) - Sparsity: (0, 0)\n",
      " Units: 50, Input scaling: 0.5, Rho: 0.75 - Biased - Bias scaling: (0.5, 0) - Sparsity: (0, 0)\n",
      " Units: 50, Input scaling: 0.5, Rho: 0.75 - Unbiased - Bias scaling: (0, 0) - Sparsity: (0, 0)\n",
      " Units: 50, Input scaling: 1, Rho: 0.75 - Biased - Bias scaling: (1, 0) - Sparsity: (0, 0)\n",
      " Units: 50, Input scaling: 1, Rho: 0.75 - Biased - Bias scaling: (0.5, 0) - Sparsity: (0, 0)\n",
      " Units: 50, Input scaling: 1, Rho: 0.75 - Unbiased - Bias scaling: (0, 0) - Sparsity: (0, 0)\n",
      " Units: 50, Input scaling: 0.25, Rho: 0.95 - Biased - Bias scaling: (1, 0) - Sparsity: (0, 0)\n",
      " Units: 50, Input scaling: 0.25, Rho: 0.95 - Biased - Bias scaling: (0.5, 0) - Sparsity: (0, 0)\n",
      " Units: 50, Input scaling: 0.25, Rho: 0.95 - Unbiased - Bias scaling: (0, 0) - Sparsity: (0, 0)\n",
      " Units: 50, Input scaling: 0.5, Rho: 0.95 - Biased - Bias scaling: (1, 0) - Sparsity: (0, 0)\n",
      " Units: 50, Input scaling: 0.5, Rho: 0.95 - Biased - Bias scaling: (0.5, 0) - Sparsity: (0, 0)\n",
      " Units: 50, Input scaling: 0.5, Rho: 0.95 - Unbiased - Bias scaling: (0, 0) - Sparsity: (0, 0)\n",
      " Units: 50, Input scaling: 1, Rho: 0.95 - Biased - Bias scaling: (1, 0) - Sparsity: (0, 0)\n",
      " Units: 50, Input scaling: 1, Rho: 0.95 - Biased - Bias scaling: (0.5, 0) - Sparsity: (0, 0)\n",
      " Units: 50, Input scaling: 1, Rho: 0.95 - Unbiased - Bias scaling: (0, 0) - Sparsity: (0, 0)\n"
     ]
    }
   ],
   "source": [
    "for config in vanilla_sapce.get_configs():\n",
    "    print(config.description())"
   ]
  },
  {
   "cell_type": "code",
   "execution_count": 13,
   "metadata": {},
   "outputs": [
    {
     "data": {
      "text/plain": [
       "[(50, 0.5, 0.25, [True, 1, 0], 0, 0),\n",
       " (50, 0.5, 0.25, [True, 0.5, 0], 0, 0),\n",
       " (50, 0.5, 0.25, [False, 0, 0], 0, 0),\n",
       " (50, 0.5, 0.5, [True, 1, 0], 0, 0),\n",
       " (50, 0.5, 0.5, [True, 0.5, 0], 0, 0),\n",
       " (50, 0.5, 0.5, [False, 0, 0], 0, 0),\n",
       " (50, 0.5, 1, [True, 1, 0], 0, 0),\n",
       " (50, 0.5, 1, [True, 0.5, 0], 0, 0),\n",
       " (50, 0.5, 1, [False, 0, 0], 0, 0),\n",
       " (50, 0.75, 0.25, [True, 1, 0], 0, 0),\n",
       " (50, 0.75, 0.25, [True, 0.5, 0], 0, 0),\n",
       " (50, 0.75, 0.25, [False, 0, 0], 0, 0),\n",
       " (50, 0.75, 0.5, [True, 1, 0], 0, 0),\n",
       " (50, 0.75, 0.5, [True, 0.5, 0], 0, 0),\n",
       " (50, 0.75, 0.5, [False, 0, 0], 0, 0),\n",
       " (50, 0.75, 1, [True, 1, 0], 0, 0),\n",
       " (50, 0.75, 1, [True, 0.5, 0], 0, 0),\n",
       " (50, 0.75, 1, [False, 0, 0], 0, 0),\n",
       " (50, 0.95, 0.25, [True, 1, 0], 0, 0),\n",
       " (50, 0.95, 0.25, [True, 0.5, 0], 0, 0),\n",
       " (50, 0.95, 0.25, [False, 0, 0], 0, 0),\n",
       " (50, 0.95, 0.5, [True, 1, 0], 0, 0),\n",
       " (50, 0.95, 0.5, [True, 0.5, 0], 0, 0),\n",
       " (50, 0.95, 0.5, [False, 0, 0], 0, 0),\n",
       " (50, 0.95, 1, [True, 1, 0], 0, 0),\n",
       " (50, 0.95, 1, [True, 0.5, 0], 0, 0),\n",
       " (50, 0.95, 1, [False, 0, 0], 0, 0)]"
      ]
     },
     "execution_count": 13,
     "metadata": {},
     "output_type": "execute_result"
    }
   ],
   "source": [
    "list(vanilla_sapce.combinations())"
   ]
  },
  {
   "cell_type": "code",
   "execution_count": 14,
   "metadata": {},
   "outputs": [
    {
     "data": {
      "text/plain": [
       "[<IPReservoir.IPReservoirConfiguration at 0x1d9fc9fd4f0>,\n",
       " <IPReservoir.IPReservoirConfiguration at 0x1d9fc9fd520>,\n",
       " <IPReservoir.IPReservoirConfiguration at 0x1d9fc9fd550>,\n",
       " <IPReservoir.IPReservoirConfiguration at 0x1d9fc9fd580>,\n",
       " <IPReservoir.IPReservoirConfiguration at 0x1d9fc9fd5b0>,\n",
       " <IPReservoir.IPReservoirConfiguration at 0x1d9fcc433d0>,\n",
       " <IPReservoir.IPReservoirConfiguration at 0x1d9fcc43400>,\n",
       " <IPReservoir.IPReservoirConfiguration at 0x1d9fcc43430>,\n",
       " <IPReservoir.IPReservoirConfiguration at 0x1d9fcc43460>,\n",
       " <IPReservoir.IPReservoirConfiguration at 0x1d9fcc43490>]"
      ]
     },
     "execution_count": 14,
     "metadata": {},
     "output_type": "execute_result"
    }
   ],
   "source": [
    "IPHyperparametersSpace().get_configs(vanilla_sapce)"
   ]
  },
  {
   "cell_type": "code",
   "execution_count": null,
   "metadata": {},
   "outputs": [],
   "source": []
  }
 ],
 "metadata": {
  "kernelspec": {
   "display_name": "Python 3",
   "language": "python",
   "name": "python3"
  },
  "language_info": {
   "codemirror_mode": {
    "name": "ipython",
    "version": 3
   },
   "file_extension": ".py",
   "mimetype": "text/x-python",
   "name": "python",
   "nbconvert_exporter": "python",
   "pygments_lexer": "ipython3",
   "version": "3.9.13"
  }
 },
 "nbformat": 4,
 "nbformat_minor": 2
}
