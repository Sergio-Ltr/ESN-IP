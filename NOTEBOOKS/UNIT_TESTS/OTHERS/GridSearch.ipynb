{
 "cells": [
  {
   "cell_type": "code",
   "execution_count": 1,
   "metadata": {},
   "outputs": [],
   "source": [
    "import sys  \n",
    "sys.path.insert(1, \"./../../../../ESN-IP/SOURCES/.\")\n",
    "\n",
    "import random\n",
    "\n",
    "random.seed(10)"
   ]
  },
  {
   "cell_type": "code",
   "execution_count": 2,
   "metadata": {},
   "outputs": [],
   "source": [
    "from Configuartions import *"
   ]
  },
  {
   "cell_type": "code",
   "execution_count": 3,
   "metadata": {},
   "outputs": [],
   "source": [
    "space = IPHyperparametersSpace()"
   ]
  },
  {
   "cell_type": "code",
   "execution_count": 4,
   "metadata": {},
   "outputs": [],
   "source": [
    "configs = space.get_configs()"
   ]
  },
  {
   "cell_type": "code",
   "execution_count": 5,
   "metadata": {},
   "outputs": [
    {
     "name": "stdout",
     "output_type": "stream",
     "text": [
      "Target: Gaussian - mu: 0.0 - std: 0.25 |  Eta: 2.5e-05 - Epochs: 0 | Initial state:  Units: 100, Input scaling: 1, Rho: 1 - Lambda: 0 - Biased - Bias scaling: (1, 1) - Sparsity: (0, 0)\n",
      "Target: Bimodal - mu: 0.72 - std: 0.07 |  Eta: 2.5e-05 - Epochs: 0 | Initial state:  Units: 100, Input scaling: 1, Rho: 1 - Lambda: 0 - Biased - Bias scaling: (1, 1) - Sparsity: (0, 0)\n",
      "Target: Trimodal - rate:0.3333333333333333 - mu: 0.72 - std_lin: 0.2 - std_bim:0.07 |  Eta: 2.5e-05 - Epochs: 0 | Initial state:  Units: 100, Input scaling: 1, Rho: 1 - Lambda: 0 - Biased - Bias scaling: (1, 1) - Sparsity: (0, 0)\n",
      "Target: Trimodal - rate:0.6666666666666666 - mu: 0.72 - std_lin: 0.2 - std_bim:0.07 |  Eta: 2.5e-05 - Epochs: 0 | Initial state:  Units: 100, Input scaling: 1, Rho: 1 - Lambda: 0 - Biased - Bias scaling: (1, 1) - Sparsity: (0, 0)\n",
      "Target: Quadrimodal |  Eta: 2.5e-05 - Epochs: 0 | Initial state:  Units: 100, Input scaling: 1, Rho: 1 - Lambda: 0 - Biased - Bias scaling: (1, 1) - Sparsity: (0, 0)\n"
     ]
    }
   ],
   "source": [
    "for config in configs:\n",
    "    print(config.description())"
   ]
  },
  {
   "cell_type": "code",
   "execution_count": 6,
   "metadata": {},
   "outputs": [],
   "source": [
    "vanilla_sapce = ReservoirHyperparamSpace(unit_range=[50], input_scaling_range=[0.25, 0.5, 1], bu_scaling_range=[1, 0.5], bh_scaling_range=[0])"
   ]
  },
  {
   "cell_type": "code",
   "execution_count": 7,
   "metadata": {},
   "outputs": [
    {
     "name": "stdout",
     "output_type": "stream",
     "text": [
      " Units: 50, Input scaling: 0.25, Rho: 0.5 - Lambda: 0 - Biased - Bias scaling: (1, 0) - Sparsity: (0, 0)\n",
      " Units: 50, Input scaling: 0.25, Rho: 0.5 - Lambda: 0 - Biased - Bias scaling: (0.5, 0) - Sparsity: (0, 0)\n",
      " Units: 50, Input scaling: 0.25, Rho: 0.5 - Lambda: 0 - Unbiased - Bias scaling: (0, 0) - Sparsity: (0, 0)\n",
      " Units: 50, Input scaling: 0.5, Rho: 0.5 - Lambda: 0 - Biased - Bias scaling: (1, 0) - Sparsity: (0, 0)\n",
      " Units: 50, Input scaling: 0.5, Rho: 0.5 - Lambda: 0 - Biased - Bias scaling: (0.5, 0) - Sparsity: (0, 0)\n",
      " Units: 50, Input scaling: 0.5, Rho: 0.5 - Lambda: 0 - Unbiased - Bias scaling: (0, 0) - Sparsity: (0, 0)\n",
      " Units: 50, Input scaling: 1, Rho: 0.5 - Lambda: 0 - Biased - Bias scaling: (1, 0) - Sparsity: (0, 0)\n",
      " Units: 50, Input scaling: 1, Rho: 0.5 - Lambda: 0 - Biased - Bias scaling: (0.5, 0) - Sparsity: (0, 0)\n",
      " Units: 50, Input scaling: 1, Rho: 0.5 - Lambda: 0 - Unbiased - Bias scaling: (0, 0) - Sparsity: (0, 0)\n",
      " Units: 50, Input scaling: 0.25, Rho: 0.75 - Lambda: 0 - Biased - Bias scaling: (1, 0) - Sparsity: (0, 0)\n",
      " Units: 50, Input scaling: 0.25, Rho: 0.75 - Lambda: 0 - Biased - Bias scaling: (0.5, 0) - Sparsity: (0, 0)\n",
      " Units: 50, Input scaling: 0.25, Rho: 0.75 - Lambda: 0 - Unbiased - Bias scaling: (0, 0) - Sparsity: (0, 0)\n",
      " Units: 50, Input scaling: 0.5, Rho: 0.75 - Lambda: 0 - Biased - Bias scaling: (1, 0) - Sparsity: (0, 0)\n",
      " Units: 50, Input scaling: 0.5, Rho: 0.75 - Lambda: 0 - Biased - Bias scaling: (0.5, 0) - Sparsity: (0, 0)\n",
      " Units: 50, Input scaling: 0.5, Rho: 0.75 - Lambda: 0 - Unbiased - Bias scaling: (0, 0) - Sparsity: (0, 0)\n",
      " Units: 50, Input scaling: 1, Rho: 0.75 - Lambda: 0 - Biased - Bias scaling: (1, 0) - Sparsity: (0, 0)\n",
      " Units: 50, Input scaling: 1, Rho: 0.75 - Lambda: 0 - Biased - Bias scaling: (0.5, 0) - Sparsity: (0, 0)\n",
      " Units: 50, Input scaling: 1, Rho: 0.75 - Lambda: 0 - Unbiased - Bias scaling: (0, 0) - Sparsity: (0, 0)\n",
      " Units: 50, Input scaling: 0.25, Rho: 0.95 - Lambda: 0 - Biased - Bias scaling: (1, 0) - Sparsity: (0, 0)\n",
      " Units: 50, Input scaling: 0.25, Rho: 0.95 - Lambda: 0 - Biased - Bias scaling: (0.5, 0) - Sparsity: (0, 0)\n",
      " Units: 50, Input scaling: 0.25, Rho: 0.95 - Lambda: 0 - Unbiased - Bias scaling: (0, 0) - Sparsity: (0, 0)\n",
      " Units: 50, Input scaling: 0.5, Rho: 0.95 - Lambda: 0 - Biased - Bias scaling: (1, 0) - Sparsity: (0, 0)\n",
      " Units: 50, Input scaling: 0.5, Rho: 0.95 - Lambda: 0 - Biased - Bias scaling: (0.5, 0) - Sparsity: (0, 0)\n",
      " Units: 50, Input scaling: 0.5, Rho: 0.95 - Lambda: 0 - Unbiased - Bias scaling: (0, 0) - Sparsity: (0, 0)\n",
      " Units: 50, Input scaling: 1, Rho: 0.95 - Lambda: 0 - Biased - Bias scaling: (1, 0) - Sparsity: (0, 0)\n",
      " Units: 50, Input scaling: 1, Rho: 0.95 - Lambda: 0 - Biased - Bias scaling: (0.5, 0) - Sparsity: (0, 0)\n",
      " Units: 50, Input scaling: 1, Rho: 0.95 - Lambda: 0 - Unbiased - Bias scaling: (0, 0) - Sparsity: (0, 0)\n",
      "27\n"
     ]
    }
   ],
   "source": [
    "for config in vanilla_sapce.get_configs():\n",
    "    print(config.description())\n",
    "\n",
    "print(len(vanilla_sapce.get_configs()))"
   ]
  },
  {
   "cell_type": "code",
   "execution_count": 8,
   "metadata": {},
   "outputs": [
    {
     "data": {
      "text/plain": [
       "[<Reservoir.ReservoirConfiguration at 0x1c4388dea60>,\n",
       " <Reservoir.ReservoirConfiguration at 0x1c4388de550>,\n",
       " <Reservoir.ReservoirConfiguration at 0x1c4388de9a0>,\n",
       " <Reservoir.ReservoirConfiguration at 0x1c48176dfa0>,\n",
       " <Reservoir.ReservoirConfiguration at 0x1c48176daf0>,\n",
       " <Reservoir.ReservoirConfiguration at 0x1c48176d790>,\n",
       " <Reservoir.ReservoirConfiguration at 0x1c48176df40>,\n",
       " <Reservoir.ReservoirConfiguration at 0x1c48176deb0>,\n",
       " <Reservoir.ReservoirConfiguration at 0x1c48176db20>,\n",
       " <Reservoir.ReservoirConfiguration at 0x1c48176d670>,\n",
       " <Reservoir.ReservoirConfiguration at 0x1c48176dca0>,\n",
       " <Reservoir.ReservoirConfiguration at 0x1c48176ddc0>,\n",
       " <Reservoir.ReservoirConfiguration at 0x1c48176ddf0>,\n",
       " <Reservoir.ReservoirConfiguration at 0x1c48176dee0>,\n",
       " <Reservoir.ReservoirConfiguration at 0x1c48176dd30>,\n",
       " <Reservoir.ReservoirConfiguration at 0x1c48176d550>,\n",
       " <Reservoir.ReservoirConfiguration at 0x1c48176dc10>,\n",
       " <Reservoir.ReservoirConfiguration at 0x1c48176dfd0>,\n",
       " <Reservoir.ReservoirConfiguration at 0x1c48176dcd0>,\n",
       " <Reservoir.ReservoirConfiguration at 0x1c48176df10>,\n",
       " <Reservoir.ReservoirConfiguration at 0x1c48176df70>,\n",
       " <Reservoir.ReservoirConfiguration at 0x1c48176dd00>,\n",
       " <Reservoir.ReservoirConfiguration at 0x1c48176dac0>,\n",
       " <Reservoir.ReservoirConfiguration at 0x1c48176d610>,\n",
       " <Reservoir.ReservoirConfiguration at 0x1c48176d7c0>,\n",
       " <Reservoir.ReservoirConfiguration at 0x1c48176d940>,\n",
       " <Reservoir.ReservoirConfiguration at 0x1c48176d580>]"
      ]
     },
     "execution_count": 8,
     "metadata": {},
     "output_type": "execute_result"
    }
   ],
   "source": [
    "vanilla_sapce.get_configs()"
   ]
  },
  {
   "cell_type": "code",
   "execution_count": 9,
   "metadata": {},
   "outputs": [
    {
     "name": "stdout",
     "output_type": "stream",
     "text": [
      " Units: 50, Input scaling: 0.25, Rho: 0.5 - Lambda: 0 - Biased - Bias scaling: (1, 0) - Sparsity: (0, 0)\n",
      " Units: 50, Input scaling: 0.25, Rho: 0.5 - Lambda: 0 - Biased - Bias scaling: (0.5, 0) - Sparsity: (0, 0)\n",
      " Units: 50, Input scaling: 0.25, Rho: 0.5 - Lambda: 0 - Unbiased - Bias scaling: (0, 0) - Sparsity: (0, 0)\n",
      " Units: 50, Input scaling: 0.5, Rho: 0.5 - Lambda: 0 - Biased - Bias scaling: (1, 0) - Sparsity: (0, 0)\n",
      " Units: 50, Input scaling: 0.5, Rho: 0.5 - Lambda: 0 - Biased - Bias scaling: (0.5, 0) - Sparsity: (0, 0)\n",
      " Units: 50, Input scaling: 0.5, Rho: 0.5 - Lambda: 0 - Unbiased - Bias scaling: (0, 0) - Sparsity: (0, 0)\n",
      " Units: 50, Input scaling: 1, Rho: 0.5 - Lambda: 0 - Biased - Bias scaling: (1, 0) - Sparsity: (0, 0)\n",
      " Units: 50, Input scaling: 1, Rho: 0.5 - Lambda: 0 - Biased - Bias scaling: (0.5, 0) - Sparsity: (0, 0)\n",
      " Units: 50, Input scaling: 1, Rho: 0.5 - Lambda: 0 - Unbiased - Bias scaling: (0, 0) - Sparsity: (0, 0)\n",
      " Units: 50, Input scaling: 0.25, Rho: 0.75 - Lambda: 0 - Biased - Bias scaling: (1, 0) - Sparsity: (0, 0)\n",
      " Units: 50, Input scaling: 0.25, Rho: 0.75 - Lambda: 0 - Biased - Bias scaling: (0.5, 0) - Sparsity: (0, 0)\n",
      " Units: 50, Input scaling: 0.25, Rho: 0.75 - Lambda: 0 - Unbiased - Bias scaling: (0, 0) - Sparsity: (0, 0)\n",
      " Units: 50, Input scaling: 0.5, Rho: 0.75 - Lambda: 0 - Biased - Bias scaling: (1, 0) - Sparsity: (0, 0)\n",
      " Units: 50, Input scaling: 0.5, Rho: 0.75 - Lambda: 0 - Biased - Bias scaling: (0.5, 0) - Sparsity: (0, 0)\n",
      " Units: 50, Input scaling: 0.5, Rho: 0.75 - Lambda: 0 - Unbiased - Bias scaling: (0, 0) - Sparsity: (0, 0)\n",
      " Units: 50, Input scaling: 1, Rho: 0.75 - Lambda: 0 - Biased - Bias scaling: (1, 0) - Sparsity: (0, 0)\n",
      " Units: 50, Input scaling: 1, Rho: 0.75 - Lambda: 0 - Biased - Bias scaling: (0.5, 0) - Sparsity: (0, 0)\n",
      " Units: 50, Input scaling: 1, Rho: 0.75 - Lambda: 0 - Unbiased - Bias scaling: (0, 0) - Sparsity: (0, 0)\n",
      " Units: 50, Input scaling: 0.25, Rho: 0.95 - Lambda: 0 - Biased - Bias scaling: (1, 0) - Sparsity: (0, 0)\n",
      " Units: 50, Input scaling: 0.25, Rho: 0.95 - Lambda: 0 - Biased - Bias scaling: (0.5, 0) - Sparsity: (0, 0)\n",
      " Units: 50, Input scaling: 0.25, Rho: 0.95 - Lambda: 0 - Unbiased - Bias scaling: (0, 0) - Sparsity: (0, 0)\n",
      " Units: 50, Input scaling: 0.5, Rho: 0.95 - Lambda: 0 - Biased - Bias scaling: (1, 0) - Sparsity: (0, 0)\n",
      " Units: 50, Input scaling: 0.5, Rho: 0.95 - Lambda: 0 - Biased - Bias scaling: (0.5, 0) - Sparsity: (0, 0)\n",
      " Units: 50, Input scaling: 0.5, Rho: 0.95 - Lambda: 0 - Unbiased - Bias scaling: (0, 0) - Sparsity: (0, 0)\n",
      " Units: 50, Input scaling: 1, Rho: 0.95 - Lambda: 0 - Biased - Bias scaling: (1, 0) - Sparsity: (0, 0)\n",
      " Units: 50, Input scaling: 1, Rho: 0.95 - Lambda: 0 - Biased - Bias scaling: (0.5, 0) - Sparsity: (0, 0)\n",
      " Units: 50, Input scaling: 1, Rho: 0.95 - Lambda: 0 - Unbiased - Bias scaling: (0, 0) - Sparsity: (0, 0)\n"
     ]
    }
   ],
   "source": [
    "for config in vanilla_sapce.get_configs():\n",
    "    print(config.description())"
   ]
  },
  {
   "cell_type": "code",
   "execution_count": 10,
   "metadata": {},
   "outputs": [
    {
     "data": {
      "text/plain": [
       "[(50, 0.5, 0.25, [True, 1, 0], 0, 0),\n",
       " (50, 0.5, 0.25, [True, 0.5, 0], 0, 0),\n",
       " (50, 0.5, 0.25, [False, 0, 0], 0, 0),\n",
       " (50, 0.5, 0.5, [True, 1, 0], 0, 0),\n",
       " (50, 0.5, 0.5, [True, 0.5, 0], 0, 0),\n",
       " (50, 0.5, 0.5, [False, 0, 0], 0, 0),\n",
       " (50, 0.5, 1, [True, 1, 0], 0, 0),\n",
       " (50, 0.5, 1, [True, 0.5, 0], 0, 0),\n",
       " (50, 0.5, 1, [False, 0, 0], 0, 0),\n",
       " (50, 0.75, 0.25, [True, 1, 0], 0, 0),\n",
       " (50, 0.75, 0.25, [True, 0.5, 0], 0, 0),\n",
       " (50, 0.75, 0.25, [False, 0, 0], 0, 0),\n",
       " (50, 0.75, 0.5, [True, 1, 0], 0, 0),\n",
       " (50, 0.75, 0.5, [True, 0.5, 0], 0, 0),\n",
       " (50, 0.75, 0.5, [False, 0, 0], 0, 0),\n",
       " (50, 0.75, 1, [True, 1, 0], 0, 0),\n",
       " (50, 0.75, 1, [True, 0.5, 0], 0, 0),\n",
       " (50, 0.75, 1, [False, 0, 0], 0, 0),\n",
       " (50, 0.95, 0.25, [True, 1, 0], 0, 0),\n",
       " (50, 0.95, 0.25, [True, 0.5, 0], 0, 0),\n",
       " (50, 0.95, 0.25, [False, 0, 0], 0, 0),\n",
       " (50, 0.95, 0.5, [True, 1, 0], 0, 0),\n",
       " (50, 0.95, 0.5, [True, 0.5, 0], 0, 0),\n",
       " (50, 0.95, 0.5, [False, 0, 0], 0, 0),\n",
       " (50, 0.95, 1, [True, 1, 0], 0, 0),\n",
       " (50, 0.95, 1, [True, 0.5, 0], 0, 0),\n",
       " (50, 0.95, 1, [False, 0, 0], 0, 0)]"
      ]
     },
     "execution_count": 10,
     "metadata": {},
     "output_type": "execute_result"
    }
   ],
   "source": [
    "list(vanilla_sapce.combinations())"
   ]
  },
  {
   "cell_type": "code",
   "execution_count": 11,
   "metadata": {},
   "outputs": [
    {
     "name": "stdout",
     "output_type": "stream",
     "text": [
      "Target: Gaussian - mu: 0.0 - std: 0.25 |  Eta: 2.5e-05 - Epochs: 0 | Initial state:  Units: 50, Input scaling: 0.25, Rho: 0.5 - Lambda: 0 - Biased - Bias scaling: (1, 0) - Sparsity: (0, 0)\n",
      "Target: Bimodal - mu: 0.72 - std: 0.07 |  Eta: 2.5e-05 - Epochs: 0 | Initial state:  Units: 50, Input scaling: 0.25, Rho: 0.5 - Lambda: 0 - Biased - Bias scaling: (1, 0) - Sparsity: (0, 0)\n",
      "Target: Trimodal - rate:0.3333333333333333 - mu: 0.72 - std_lin: 0.2 - std_bim:0.07 |  Eta: 2.5e-05 - Epochs: 0 | Initial state:  Units: 50, Input scaling: 0.25, Rho: 0.5 - Lambda: 0 - Biased - Bias scaling: (1, 0) - Sparsity: (0, 0)\n",
      "Target: Trimodal - rate:0.6666666666666666 - mu: 0.72 - std_lin: 0.2 - std_bim:0.07 |  Eta: 2.5e-05 - Epochs: 0 | Initial state:  Units: 50, Input scaling: 0.25, Rho: 0.5 - Lambda: 0 - Biased - Bias scaling: (1, 0) - Sparsity: (0, 0)\n",
      "Target: Quadrimodal |  Eta: 2.5e-05 - Epochs: 0 | Initial state:  Units: 50, Input scaling: 0.25, Rho: 0.5 - Lambda: 0 - Biased - Bias scaling: (1, 0) - Sparsity: (0, 0)\n",
      "Target: Gaussian - mu: 0.0 - std: 0.25 |  Eta: 2.5e-05 - Epochs: 0 | Initial state:  Units: 50, Input scaling: 0.25, Rho: 0.5 - Lambda: 0 - Biased - Bias scaling: (0.5, 0) - Sparsity: (0, 0)\n",
      "Target: Bimodal - mu: 0.72 - std: 0.07 |  Eta: 2.5e-05 - Epochs: 0 | Initial state:  Units: 50, Input scaling: 0.25, Rho: 0.5 - Lambda: 0 - Biased - Bias scaling: (0.5, 0) - Sparsity: (0, 0)\n",
      "Target: Trimodal - rate:0.3333333333333333 - mu: 0.72 - std_lin: 0.2 - std_bim:0.07 |  Eta: 2.5e-05 - Epochs: 0 | Initial state:  Units: 50, Input scaling: 0.25, Rho: 0.5 - Lambda: 0 - Biased - Bias scaling: (0.5, 0) - Sparsity: (0, 0)\n",
      "Target: Trimodal - rate:0.6666666666666666 - mu: 0.72 - std_lin: 0.2 - std_bim:0.07 |  Eta: 2.5e-05 - Epochs: 0 | Initial state:  Units: 50, Input scaling: 0.25, Rho: 0.5 - Lambda: 0 - Biased - Bias scaling: (0.5, 0) - Sparsity: (0, 0)\n",
      "Target: Quadrimodal |  Eta: 2.5e-05 - Epochs: 0 | Initial state:  Units: 50, Input scaling: 0.25, Rho: 0.5 - Lambda: 0 - Biased - Bias scaling: (0.5, 0) - Sparsity: (0, 0)\n",
      "Target: Gaussian - mu: 0.0 - std: 0.25 |  Eta: 2.5e-05 - Epochs: 0 | Initial state:  Units: 50, Input scaling: 0.25, Rho: 0.5 - Lambda: 0 - Unbiased - Bias scaling: (0, 0) - Sparsity: (0, 0)\n",
      "Target: Bimodal - mu: 0.72 - std: 0.07 |  Eta: 2.5e-05 - Epochs: 0 | Initial state:  Units: 50, Input scaling: 0.25, Rho: 0.5 - Lambda: 0 - Unbiased - Bias scaling: (0, 0) - Sparsity: (0, 0)\n",
      "Target: Trimodal - rate:0.3333333333333333 - mu: 0.72 - std_lin: 0.2 - std_bim:0.07 |  Eta: 2.5e-05 - Epochs: 0 | Initial state:  Units: 50, Input scaling: 0.25, Rho: 0.5 - Lambda: 0 - Unbiased - Bias scaling: (0, 0) - Sparsity: (0, 0)\n",
      "Target: Trimodal - rate:0.6666666666666666 - mu: 0.72 - std_lin: 0.2 - std_bim:0.07 |  Eta: 2.5e-05 - Epochs: 0 | Initial state:  Units: 50, Input scaling: 0.25, Rho: 0.5 - Lambda: 0 - Unbiased - Bias scaling: (0, 0) - Sparsity: (0, 0)\n",
      "Target: Quadrimodal |  Eta: 2.5e-05 - Epochs: 0 | Initial state:  Units: 50, Input scaling: 0.25, Rho: 0.5 - Lambda: 0 - Unbiased - Bias scaling: (0, 0) - Sparsity: (0, 0)\n",
      "Target: Gaussian - mu: 0.0 - std: 0.25 |  Eta: 2.5e-05 - Epochs: 0 | Initial state:  Units: 50, Input scaling: 0.5, Rho: 0.5 - Lambda: 0 - Biased - Bias scaling: (1, 0) - Sparsity: (0, 0)\n",
      "Target: Bimodal - mu: 0.72 - std: 0.07 |  Eta: 2.5e-05 - Epochs: 0 | Initial state:  Units: 50, Input scaling: 0.5, Rho: 0.5 - Lambda: 0 - Biased - Bias scaling: (1, 0) - Sparsity: (0, 0)\n",
      "Target: Trimodal - rate:0.3333333333333333 - mu: 0.72 - std_lin: 0.2 - std_bim:0.07 |  Eta: 2.5e-05 - Epochs: 0 | Initial state:  Units: 50, Input scaling: 0.5, Rho: 0.5 - Lambda: 0 - Biased - Bias scaling: (1, 0) - Sparsity: (0, 0)\n",
      "Target: Trimodal - rate:0.6666666666666666 - mu: 0.72 - std_lin: 0.2 - std_bim:0.07 |  Eta: 2.5e-05 - Epochs: 0 | Initial state:  Units: 50, Input scaling: 0.5, Rho: 0.5 - Lambda: 0 - Biased - Bias scaling: (1, 0) - Sparsity: (0, 0)\n",
      "Target: Quadrimodal |  Eta: 2.5e-05 - Epochs: 0 | Initial state:  Units: 50, Input scaling: 0.5, Rho: 0.5 - Lambda: 0 - Biased - Bias scaling: (1, 0) - Sparsity: (0, 0)\n",
      "Target: Gaussian - mu: 0.0 - std: 0.25 |  Eta: 2.5e-05 - Epochs: 0 | Initial state:  Units: 50, Input scaling: 0.5, Rho: 0.5 - Lambda: 0 - Biased - Bias scaling: (0.5, 0) - Sparsity: (0, 0)\n",
      "Target: Bimodal - mu: 0.72 - std: 0.07 |  Eta: 2.5e-05 - Epochs: 0 | Initial state:  Units: 50, Input scaling: 0.5, Rho: 0.5 - Lambda: 0 - Biased - Bias scaling: (0.5, 0) - Sparsity: (0, 0)\n",
      "Target: Trimodal - rate:0.3333333333333333 - mu: 0.72 - std_lin: 0.2 - std_bim:0.07 |  Eta: 2.5e-05 - Epochs: 0 | Initial state:  Units: 50, Input scaling: 0.5, Rho: 0.5 - Lambda: 0 - Biased - Bias scaling: (0.5, 0) - Sparsity: (0, 0)\n",
      "Target: Trimodal - rate:0.6666666666666666 - mu: 0.72 - std_lin: 0.2 - std_bim:0.07 |  Eta: 2.5e-05 - Epochs: 0 | Initial state:  Units: 50, Input scaling: 0.5, Rho: 0.5 - Lambda: 0 - Biased - Bias scaling: (0.5, 0) - Sparsity: (0, 0)\n",
      "Target: Quadrimodal |  Eta: 2.5e-05 - Epochs: 0 | Initial state:  Units: 50, Input scaling: 0.5, Rho: 0.5 - Lambda: 0 - Biased - Bias scaling: (0.5, 0) - Sparsity: (0, 0)\n",
      "Target: Gaussian - mu: 0.0 - std: 0.25 |  Eta: 2.5e-05 - Epochs: 0 | Initial state:  Units: 50, Input scaling: 0.5, Rho: 0.5 - Lambda: 0 - Unbiased - Bias scaling: (0, 0) - Sparsity: (0, 0)\n",
      "Target: Bimodal - mu: 0.72 - std: 0.07 |  Eta: 2.5e-05 - Epochs: 0 | Initial state:  Units: 50, Input scaling: 0.5, Rho: 0.5 - Lambda: 0 - Unbiased - Bias scaling: (0, 0) - Sparsity: (0, 0)\n",
      "Target: Trimodal - rate:0.3333333333333333 - mu: 0.72 - std_lin: 0.2 - std_bim:0.07 |  Eta: 2.5e-05 - Epochs: 0 | Initial state:  Units: 50, Input scaling: 0.5, Rho: 0.5 - Lambda: 0 - Unbiased - Bias scaling: (0, 0) - Sparsity: (0, 0)\n",
      "Target: Trimodal - rate:0.6666666666666666 - mu: 0.72 - std_lin: 0.2 - std_bim:0.07 |  Eta: 2.5e-05 - Epochs: 0 | Initial state:  Units: 50, Input scaling: 0.5, Rho: 0.5 - Lambda: 0 - Unbiased - Bias scaling: (0, 0) - Sparsity: (0, 0)\n",
      "Target: Quadrimodal |  Eta: 2.5e-05 - Epochs: 0 | Initial state:  Units: 50, Input scaling: 0.5, Rho: 0.5 - Lambda: 0 - Unbiased - Bias scaling: (0, 0) - Sparsity: (0, 0)\n",
      "Target: Gaussian - mu: 0.0 - std: 0.25 |  Eta: 2.5e-05 - Epochs: 0 | Initial state:  Units: 50, Input scaling: 1, Rho: 0.5 - Lambda: 0 - Biased - Bias scaling: (1, 0) - Sparsity: (0, 0)\n",
      "Target: Bimodal - mu: 0.72 - std: 0.07 |  Eta: 2.5e-05 - Epochs: 0 | Initial state:  Units: 50, Input scaling: 1, Rho: 0.5 - Lambda: 0 - Biased - Bias scaling: (1, 0) - Sparsity: (0, 0)\n",
      "Target: Trimodal - rate:0.3333333333333333 - mu: 0.72 - std_lin: 0.2 - std_bim:0.07 |  Eta: 2.5e-05 - Epochs: 0 | Initial state:  Units: 50, Input scaling: 1, Rho: 0.5 - Lambda: 0 - Biased - Bias scaling: (1, 0) - Sparsity: (0, 0)\n",
      "Target: Trimodal - rate:0.6666666666666666 - mu: 0.72 - std_lin: 0.2 - std_bim:0.07 |  Eta: 2.5e-05 - Epochs: 0 | Initial state:  Units: 50, Input scaling: 1, Rho: 0.5 - Lambda: 0 - Biased - Bias scaling: (1, 0) - Sparsity: (0, 0)\n",
      "Target: Quadrimodal |  Eta: 2.5e-05 - Epochs: 0 | Initial state:  Units: 50, Input scaling: 1, Rho: 0.5 - Lambda: 0 - Biased - Bias scaling: (1, 0) - Sparsity: (0, 0)\n",
      "Target: Gaussian - mu: 0.0 - std: 0.25 |  Eta: 2.5e-05 - Epochs: 0 | Initial state:  Units: 50, Input scaling: 1, Rho: 0.5 - Lambda: 0 - Biased - Bias scaling: (0.5, 0) - Sparsity: (0, 0)\n",
      "Target: Bimodal - mu: 0.72 - std: 0.07 |  Eta: 2.5e-05 - Epochs: 0 | Initial state:  Units: 50, Input scaling: 1, Rho: 0.5 - Lambda: 0 - Biased - Bias scaling: (0.5, 0) - Sparsity: (0, 0)\n",
      "Target: Trimodal - rate:0.3333333333333333 - mu: 0.72 - std_lin: 0.2 - std_bim:0.07 |  Eta: 2.5e-05 - Epochs: 0 | Initial state:  Units: 50, Input scaling: 1, Rho: 0.5 - Lambda: 0 - Biased - Bias scaling: (0.5, 0) - Sparsity: (0, 0)\n",
      "Target: Trimodal - rate:0.6666666666666666 - mu: 0.72 - std_lin: 0.2 - std_bim:0.07 |  Eta: 2.5e-05 - Epochs: 0 | Initial state:  Units: 50, Input scaling: 1, Rho: 0.5 - Lambda: 0 - Biased - Bias scaling: (0.5, 0) - Sparsity: (0, 0)\n",
      "Target: Quadrimodal |  Eta: 2.5e-05 - Epochs: 0 | Initial state:  Units: 50, Input scaling: 1, Rho: 0.5 - Lambda: 0 - Biased - Bias scaling: (0.5, 0) - Sparsity: (0, 0)\n",
      "Target: Gaussian - mu: 0.0 - std: 0.25 |  Eta: 2.5e-05 - Epochs: 0 | Initial state:  Units: 50, Input scaling: 1, Rho: 0.5 - Lambda: 0 - Unbiased - Bias scaling: (0, 0) - Sparsity: (0, 0)\n",
      "Target: Bimodal - mu: 0.72 - std: 0.07 |  Eta: 2.5e-05 - Epochs: 0 | Initial state:  Units: 50, Input scaling: 1, Rho: 0.5 - Lambda: 0 - Unbiased - Bias scaling: (0, 0) - Sparsity: (0, 0)\n",
      "Target: Trimodal - rate:0.3333333333333333 - mu: 0.72 - std_lin: 0.2 - std_bim:0.07 |  Eta: 2.5e-05 - Epochs: 0 | Initial state:  Units: 50, Input scaling: 1, Rho: 0.5 - Lambda: 0 - Unbiased - Bias scaling: (0, 0) - Sparsity: (0, 0)\n",
      "Target: Trimodal - rate:0.6666666666666666 - mu: 0.72 - std_lin: 0.2 - std_bim:0.07 |  Eta: 2.5e-05 - Epochs: 0 | Initial state:  Units: 50, Input scaling: 1, Rho: 0.5 - Lambda: 0 - Unbiased - Bias scaling: (0, 0) - Sparsity: (0, 0)\n",
      "Target: Quadrimodal |  Eta: 2.5e-05 - Epochs: 0 | Initial state:  Units: 50, Input scaling: 1, Rho: 0.5 - Lambda: 0 - Unbiased - Bias scaling: (0, 0) - Sparsity: (0, 0)\n",
      "Target: Gaussian - mu: 0.0 - std: 0.25 |  Eta: 2.5e-05 - Epochs: 0 | Initial state:  Units: 50, Input scaling: 0.25, Rho: 0.75 - Lambda: 0 - Biased - Bias scaling: (1, 0) - Sparsity: (0, 0)\n",
      "Target: Bimodal - mu: 0.72 - std: 0.07 |  Eta: 2.5e-05 - Epochs: 0 | Initial state:  Units: 50, Input scaling: 0.25, Rho: 0.75 - Lambda: 0 - Biased - Bias scaling: (1, 0) - Sparsity: (0, 0)\n",
      "Target: Trimodal - rate:0.3333333333333333 - mu: 0.72 - std_lin: 0.2 - std_bim:0.07 |  Eta: 2.5e-05 - Epochs: 0 | Initial state:  Units: 50, Input scaling: 0.25, Rho: 0.75 - Lambda: 0 - Biased - Bias scaling: (1, 0) - Sparsity: (0, 0)\n",
      "Target: Trimodal - rate:0.6666666666666666 - mu: 0.72 - std_lin: 0.2 - std_bim:0.07 |  Eta: 2.5e-05 - Epochs: 0 | Initial state:  Units: 50, Input scaling: 0.25, Rho: 0.75 - Lambda: 0 - Biased - Bias scaling: (1, 0) - Sparsity: (0, 0)\n",
      "Target: Quadrimodal |  Eta: 2.5e-05 - Epochs: 0 | Initial state:  Units: 50, Input scaling: 0.25, Rho: 0.75 - Lambda: 0 - Biased - Bias scaling: (1, 0) - Sparsity: (0, 0)\n",
      "Target: Gaussian - mu: 0.0 - std: 0.25 |  Eta: 2.5e-05 - Epochs: 0 | Initial state:  Units: 50, Input scaling: 0.25, Rho: 0.75 - Lambda: 0 - Biased - Bias scaling: (0.5, 0) - Sparsity: (0, 0)\n",
      "Target: Bimodal - mu: 0.72 - std: 0.07 |  Eta: 2.5e-05 - Epochs: 0 | Initial state:  Units: 50, Input scaling: 0.25, Rho: 0.75 - Lambda: 0 - Biased - Bias scaling: (0.5, 0) - Sparsity: (0, 0)\n",
      "Target: Trimodal - rate:0.3333333333333333 - mu: 0.72 - std_lin: 0.2 - std_bim:0.07 |  Eta: 2.5e-05 - Epochs: 0 | Initial state:  Units: 50, Input scaling: 0.25, Rho: 0.75 - Lambda: 0 - Biased - Bias scaling: (0.5, 0) - Sparsity: (0, 0)\n",
      "Target: Trimodal - rate:0.6666666666666666 - mu: 0.72 - std_lin: 0.2 - std_bim:0.07 |  Eta: 2.5e-05 - Epochs: 0 | Initial state:  Units: 50, Input scaling: 0.25, Rho: 0.75 - Lambda: 0 - Biased - Bias scaling: (0.5, 0) - Sparsity: (0, 0)\n",
      "Target: Quadrimodal |  Eta: 2.5e-05 - Epochs: 0 | Initial state:  Units: 50, Input scaling: 0.25, Rho: 0.75 - Lambda: 0 - Biased - Bias scaling: (0.5, 0) - Sparsity: (0, 0)\n",
      "Target: Gaussian - mu: 0.0 - std: 0.25 |  Eta: 2.5e-05 - Epochs: 0 | Initial state:  Units: 50, Input scaling: 0.25, Rho: 0.75 - Lambda: 0 - Unbiased - Bias scaling: (0, 0) - Sparsity: (0, 0)\n",
      "Target: Bimodal - mu: 0.72 - std: 0.07 |  Eta: 2.5e-05 - Epochs: 0 | Initial state:  Units: 50, Input scaling: 0.25, Rho: 0.75 - Lambda: 0 - Unbiased - Bias scaling: (0, 0) - Sparsity: (0, 0)\n",
      "Target: Trimodal - rate:0.3333333333333333 - mu: 0.72 - std_lin: 0.2 - std_bim:0.07 |  Eta: 2.5e-05 - Epochs: 0 | Initial state:  Units: 50, Input scaling: 0.25, Rho: 0.75 - Lambda: 0 - Unbiased - Bias scaling: (0, 0) - Sparsity: (0, 0)\n",
      "Target: Trimodal - rate:0.6666666666666666 - mu: 0.72 - std_lin: 0.2 - std_bim:0.07 |  Eta: 2.5e-05 - Epochs: 0 | Initial state:  Units: 50, Input scaling: 0.25, Rho: 0.75 - Lambda: 0 - Unbiased - Bias scaling: (0, 0) - Sparsity: (0, 0)\n",
      "Target: Quadrimodal |  Eta: 2.5e-05 - Epochs: 0 | Initial state:  Units: 50, Input scaling: 0.25, Rho: 0.75 - Lambda: 0 - Unbiased - Bias scaling: (0, 0) - Sparsity: (0, 0)\n",
      "Target: Gaussian - mu: 0.0 - std: 0.25 |  Eta: 2.5e-05 - Epochs: 0 | Initial state:  Units: 50, Input scaling: 0.5, Rho: 0.75 - Lambda: 0 - Biased - Bias scaling: (1, 0) - Sparsity: (0, 0)\n",
      "Target: Bimodal - mu: 0.72 - std: 0.07 |  Eta: 2.5e-05 - Epochs: 0 | Initial state:  Units: 50, Input scaling: 0.5, Rho: 0.75 - Lambda: 0 - Biased - Bias scaling: (1, 0) - Sparsity: (0, 0)\n",
      "Target: Trimodal - rate:0.3333333333333333 - mu: 0.72 - std_lin: 0.2 - std_bim:0.07 |  Eta: 2.5e-05 - Epochs: 0 | Initial state:  Units: 50, Input scaling: 0.5, Rho: 0.75 - Lambda: 0 - Biased - Bias scaling: (1, 0) - Sparsity: (0, 0)\n",
      "Target: Trimodal - rate:0.6666666666666666 - mu: 0.72 - std_lin: 0.2 - std_bim:0.07 |  Eta: 2.5e-05 - Epochs: 0 | Initial state:  Units: 50, Input scaling: 0.5, Rho: 0.75 - Lambda: 0 - Biased - Bias scaling: (1, 0) - Sparsity: (0, 0)\n",
      "Target: Quadrimodal |  Eta: 2.5e-05 - Epochs: 0 | Initial state:  Units: 50, Input scaling: 0.5, Rho: 0.75 - Lambda: 0 - Biased - Bias scaling: (1, 0) - Sparsity: (0, 0)\n",
      "Target: Gaussian - mu: 0.0 - std: 0.25 |  Eta: 2.5e-05 - Epochs: 0 | Initial state:  Units: 50, Input scaling: 0.5, Rho: 0.75 - Lambda: 0 - Biased - Bias scaling: (0.5, 0) - Sparsity: (0, 0)\n",
      "Target: Bimodal - mu: 0.72 - std: 0.07 |  Eta: 2.5e-05 - Epochs: 0 | Initial state:  Units: 50, Input scaling: 0.5, Rho: 0.75 - Lambda: 0 - Biased - Bias scaling: (0.5, 0) - Sparsity: (0, 0)\n",
      "Target: Trimodal - rate:0.3333333333333333 - mu: 0.72 - std_lin: 0.2 - std_bim:0.07 |  Eta: 2.5e-05 - Epochs: 0 | Initial state:  Units: 50, Input scaling: 0.5, Rho: 0.75 - Lambda: 0 - Biased - Bias scaling: (0.5, 0) - Sparsity: (0, 0)\n",
      "Target: Trimodal - rate:0.6666666666666666 - mu: 0.72 - std_lin: 0.2 - std_bim:0.07 |  Eta: 2.5e-05 - Epochs: 0 | Initial state:  Units: 50, Input scaling: 0.5, Rho: 0.75 - Lambda: 0 - Biased - Bias scaling: (0.5, 0) - Sparsity: (0, 0)\n",
      "Target: Quadrimodal |  Eta: 2.5e-05 - Epochs: 0 | Initial state:  Units: 50, Input scaling: 0.5, Rho: 0.75 - Lambda: 0 - Biased - Bias scaling: (0.5, 0) - Sparsity: (0, 0)\n",
      "Target: Gaussian - mu: 0.0 - std: 0.25 |  Eta: 2.5e-05 - Epochs: 0 | Initial state:  Units: 50, Input scaling: 0.5, Rho: 0.75 - Lambda: 0 - Unbiased - Bias scaling: (0, 0) - Sparsity: (0, 0)\n",
      "Target: Bimodal - mu: 0.72 - std: 0.07 |  Eta: 2.5e-05 - Epochs: 0 | Initial state:  Units: 50, Input scaling: 0.5, Rho: 0.75 - Lambda: 0 - Unbiased - Bias scaling: (0, 0) - Sparsity: (0, 0)\n",
      "Target: Trimodal - rate:0.3333333333333333 - mu: 0.72 - std_lin: 0.2 - std_bim:0.07 |  Eta: 2.5e-05 - Epochs: 0 | Initial state:  Units: 50, Input scaling: 0.5, Rho: 0.75 - Lambda: 0 - Unbiased - Bias scaling: (0, 0) - Sparsity: (0, 0)\n",
      "Target: Trimodal - rate:0.6666666666666666 - mu: 0.72 - std_lin: 0.2 - std_bim:0.07 |  Eta: 2.5e-05 - Epochs: 0 | Initial state:  Units: 50, Input scaling: 0.5, Rho: 0.75 - Lambda: 0 - Unbiased - Bias scaling: (0, 0) - Sparsity: (0, 0)\n",
      "Target: Quadrimodal |  Eta: 2.5e-05 - Epochs: 0 | Initial state:  Units: 50, Input scaling: 0.5, Rho: 0.75 - Lambda: 0 - Unbiased - Bias scaling: (0, 0) - Sparsity: (0, 0)\n",
      "Target: Gaussian - mu: 0.0 - std: 0.25 |  Eta: 2.5e-05 - Epochs: 0 | Initial state:  Units: 50, Input scaling: 1, Rho: 0.75 - Lambda: 0 - Biased - Bias scaling: (1, 0) - Sparsity: (0, 0)\n",
      "Target: Bimodal - mu: 0.72 - std: 0.07 |  Eta: 2.5e-05 - Epochs: 0 | Initial state:  Units: 50, Input scaling: 1, Rho: 0.75 - Lambda: 0 - Biased - Bias scaling: (1, 0) - Sparsity: (0, 0)\n",
      "Target: Trimodal - rate:0.3333333333333333 - mu: 0.72 - std_lin: 0.2 - std_bim:0.07 |  Eta: 2.5e-05 - Epochs: 0 | Initial state:  Units: 50, Input scaling: 1, Rho: 0.75 - Lambda: 0 - Biased - Bias scaling: (1, 0) - Sparsity: (0, 0)\n",
      "Target: Trimodal - rate:0.6666666666666666 - mu: 0.72 - std_lin: 0.2 - std_bim:0.07 |  Eta: 2.5e-05 - Epochs: 0 | Initial state:  Units: 50, Input scaling: 1, Rho: 0.75 - Lambda: 0 - Biased - Bias scaling: (1, 0) - Sparsity: (0, 0)\n",
      "Target: Quadrimodal |  Eta: 2.5e-05 - Epochs: 0 | Initial state:  Units: 50, Input scaling: 1, Rho: 0.75 - Lambda: 0 - Biased - Bias scaling: (1, 0) - Sparsity: (0, 0)\n",
      "Target: Gaussian - mu: 0.0 - std: 0.25 |  Eta: 2.5e-05 - Epochs: 0 | Initial state:  Units: 50, Input scaling: 1, Rho: 0.75 - Lambda: 0 - Biased - Bias scaling: (0.5, 0) - Sparsity: (0, 0)\n",
      "Target: Bimodal - mu: 0.72 - std: 0.07 |  Eta: 2.5e-05 - Epochs: 0 | Initial state:  Units: 50, Input scaling: 1, Rho: 0.75 - Lambda: 0 - Biased - Bias scaling: (0.5, 0) - Sparsity: (0, 0)\n",
      "Target: Trimodal - rate:0.3333333333333333 - mu: 0.72 - std_lin: 0.2 - std_bim:0.07 |  Eta: 2.5e-05 - Epochs: 0 | Initial state:  Units: 50, Input scaling: 1, Rho: 0.75 - Lambda: 0 - Biased - Bias scaling: (0.5, 0) - Sparsity: (0, 0)\n",
      "Target: Trimodal - rate:0.6666666666666666 - mu: 0.72 - std_lin: 0.2 - std_bim:0.07 |  Eta: 2.5e-05 - Epochs: 0 | Initial state:  Units: 50, Input scaling: 1, Rho: 0.75 - Lambda: 0 - Biased - Bias scaling: (0.5, 0) - Sparsity: (0, 0)\n",
      "Target: Quadrimodal |  Eta: 2.5e-05 - Epochs: 0 | Initial state:  Units: 50, Input scaling: 1, Rho: 0.75 - Lambda: 0 - Biased - Bias scaling: (0.5, 0) - Sparsity: (0, 0)\n",
      "Target: Gaussian - mu: 0.0 - std: 0.25 |  Eta: 2.5e-05 - Epochs: 0 | Initial state:  Units: 50, Input scaling: 1, Rho: 0.75 - Lambda: 0 - Unbiased - Bias scaling: (0, 0) - Sparsity: (0, 0)\n",
      "Target: Bimodal - mu: 0.72 - std: 0.07 |  Eta: 2.5e-05 - Epochs: 0 | Initial state:  Units: 50, Input scaling: 1, Rho: 0.75 - Lambda: 0 - Unbiased - Bias scaling: (0, 0) - Sparsity: (0, 0)\n",
      "Target: Trimodal - rate:0.3333333333333333 - mu: 0.72 - std_lin: 0.2 - std_bim:0.07 |  Eta: 2.5e-05 - Epochs: 0 | Initial state:  Units: 50, Input scaling: 1, Rho: 0.75 - Lambda: 0 - Unbiased - Bias scaling: (0, 0) - Sparsity: (0, 0)\n",
      "Target: Trimodal - rate:0.6666666666666666 - mu: 0.72 - std_lin: 0.2 - std_bim:0.07 |  Eta: 2.5e-05 - Epochs: 0 | Initial state:  Units: 50, Input scaling: 1, Rho: 0.75 - Lambda: 0 - Unbiased - Bias scaling: (0, 0) - Sparsity: (0, 0)\n",
      "Target: Quadrimodal |  Eta: 2.5e-05 - Epochs: 0 | Initial state:  Units: 50, Input scaling: 1, Rho: 0.75 - Lambda: 0 - Unbiased - Bias scaling: (0, 0) - Sparsity: (0, 0)\n",
      "Target: Gaussian - mu: 0.0 - std: 0.25 |  Eta: 2.5e-05 - Epochs: 0 | Initial state:  Units: 50, Input scaling: 0.25, Rho: 0.95 - Lambda: 0 - Biased - Bias scaling: (1, 0) - Sparsity: (0, 0)\n",
      "Target: Bimodal - mu: 0.72 - std: 0.07 |  Eta: 2.5e-05 - Epochs: 0 | Initial state:  Units: 50, Input scaling: 0.25, Rho: 0.95 - Lambda: 0 - Biased - Bias scaling: (1, 0) - Sparsity: (0, 0)\n",
      "Target: Trimodal - rate:0.3333333333333333 - mu: 0.72 - std_lin: 0.2 - std_bim:0.07 |  Eta: 2.5e-05 - Epochs: 0 | Initial state:  Units: 50, Input scaling: 0.25, Rho: 0.95 - Lambda: 0 - Biased - Bias scaling: (1, 0) - Sparsity: (0, 0)\n",
      "Target: Trimodal - rate:0.6666666666666666 - mu: 0.72 - std_lin: 0.2 - std_bim:0.07 |  Eta: 2.5e-05 - Epochs: 0 | Initial state:  Units: 50, Input scaling: 0.25, Rho: 0.95 - Lambda: 0 - Biased - Bias scaling: (1, 0) - Sparsity: (0, 0)\n",
      "Target: Quadrimodal |  Eta: 2.5e-05 - Epochs: 0 | Initial state:  Units: 50, Input scaling: 0.25, Rho: 0.95 - Lambda: 0 - Biased - Bias scaling: (1, 0) - Sparsity: (0, 0)\n",
      "Target: Gaussian - mu: 0.0 - std: 0.25 |  Eta: 2.5e-05 - Epochs: 0 | Initial state:  Units: 50, Input scaling: 0.25, Rho: 0.95 - Lambda: 0 - Biased - Bias scaling: (0.5, 0) - Sparsity: (0, 0)\n",
      "Target: Bimodal - mu: 0.72 - std: 0.07 |  Eta: 2.5e-05 - Epochs: 0 | Initial state:  Units: 50, Input scaling: 0.25, Rho: 0.95 - Lambda: 0 - Biased - Bias scaling: (0.5, 0) - Sparsity: (0, 0)\n",
      "Target: Trimodal - rate:0.3333333333333333 - mu: 0.72 - std_lin: 0.2 - std_bim:0.07 |  Eta: 2.5e-05 - Epochs: 0 | Initial state:  Units: 50, Input scaling: 0.25, Rho: 0.95 - Lambda: 0 - Biased - Bias scaling: (0.5, 0) - Sparsity: (0, 0)\n",
      "Target: Trimodal - rate:0.6666666666666666 - mu: 0.72 - std_lin: 0.2 - std_bim:0.07 |  Eta: 2.5e-05 - Epochs: 0 | Initial state:  Units: 50, Input scaling: 0.25, Rho: 0.95 - Lambda: 0 - Biased - Bias scaling: (0.5, 0) - Sparsity: (0, 0)\n",
      "Target: Quadrimodal |  Eta: 2.5e-05 - Epochs: 0 | Initial state:  Units: 50, Input scaling: 0.25, Rho: 0.95 - Lambda: 0 - Biased - Bias scaling: (0.5, 0) - Sparsity: (0, 0)\n",
      "Target: Gaussian - mu: 0.0 - std: 0.25 |  Eta: 2.5e-05 - Epochs: 0 | Initial state:  Units: 50, Input scaling: 0.25, Rho: 0.95 - Lambda: 0 - Unbiased - Bias scaling: (0, 0) - Sparsity: (0, 0)\n",
      "Target: Bimodal - mu: 0.72 - std: 0.07 |  Eta: 2.5e-05 - Epochs: 0 | Initial state:  Units: 50, Input scaling: 0.25, Rho: 0.95 - Lambda: 0 - Unbiased - Bias scaling: (0, 0) - Sparsity: (0, 0)\n",
      "Target: Trimodal - rate:0.3333333333333333 - mu: 0.72 - std_lin: 0.2 - std_bim:0.07 |  Eta: 2.5e-05 - Epochs: 0 | Initial state:  Units: 50, Input scaling: 0.25, Rho: 0.95 - Lambda: 0 - Unbiased - Bias scaling: (0, 0) - Sparsity: (0, 0)\n",
      "Target: Trimodal - rate:0.6666666666666666 - mu: 0.72 - std_lin: 0.2 - std_bim:0.07 |  Eta: 2.5e-05 - Epochs: 0 | Initial state:  Units: 50, Input scaling: 0.25, Rho: 0.95 - Lambda: 0 - Unbiased - Bias scaling: (0, 0) - Sparsity: (0, 0)\n",
      "Target: Quadrimodal |  Eta: 2.5e-05 - Epochs: 0 | Initial state:  Units: 50, Input scaling: 0.25, Rho: 0.95 - Lambda: 0 - Unbiased - Bias scaling: (0, 0) - Sparsity: (0, 0)\n",
      "Target: Gaussian - mu: 0.0 - std: 0.25 |  Eta: 2.5e-05 - Epochs: 0 | Initial state:  Units: 50, Input scaling: 0.5, Rho: 0.95 - Lambda: 0 - Biased - Bias scaling: (1, 0) - Sparsity: (0, 0)\n",
      "Target: Bimodal - mu: 0.72 - std: 0.07 |  Eta: 2.5e-05 - Epochs: 0 | Initial state:  Units: 50, Input scaling: 0.5, Rho: 0.95 - Lambda: 0 - Biased - Bias scaling: (1, 0) - Sparsity: (0, 0)\n",
      "Target: Trimodal - rate:0.3333333333333333 - mu: 0.72 - std_lin: 0.2 - std_bim:0.07 |  Eta: 2.5e-05 - Epochs: 0 | Initial state:  Units: 50, Input scaling: 0.5, Rho: 0.95 - Lambda: 0 - Biased - Bias scaling: (1, 0) - Sparsity: (0, 0)\n",
      "Target: Trimodal - rate:0.6666666666666666 - mu: 0.72 - std_lin: 0.2 - std_bim:0.07 |  Eta: 2.5e-05 - Epochs: 0 | Initial state:  Units: 50, Input scaling: 0.5, Rho: 0.95 - Lambda: 0 - Biased - Bias scaling: (1, 0) - Sparsity: (0, 0)\n",
      "Target: Quadrimodal |  Eta: 2.5e-05 - Epochs: 0 | Initial state:  Units: 50, Input scaling: 0.5, Rho: 0.95 - Lambda: 0 - Biased - Bias scaling: (1, 0) - Sparsity: (0, 0)\n",
      "Target: Gaussian - mu: 0.0 - std: 0.25 |  Eta: 2.5e-05 - Epochs: 0 | Initial state:  Units: 50, Input scaling: 0.5, Rho: 0.95 - Lambda: 0 - Biased - Bias scaling: (0.5, 0) - Sparsity: (0, 0)\n",
      "Target: Bimodal - mu: 0.72 - std: 0.07 |  Eta: 2.5e-05 - Epochs: 0 | Initial state:  Units: 50, Input scaling: 0.5, Rho: 0.95 - Lambda: 0 - Biased - Bias scaling: (0.5, 0) - Sparsity: (0, 0)\n",
      "Target: Trimodal - rate:0.3333333333333333 - mu: 0.72 - std_lin: 0.2 - std_bim:0.07 |  Eta: 2.5e-05 - Epochs: 0 | Initial state:  Units: 50, Input scaling: 0.5, Rho: 0.95 - Lambda: 0 - Biased - Bias scaling: (0.5, 0) - Sparsity: (0, 0)\n",
      "Target: Trimodal - rate:0.6666666666666666 - mu: 0.72 - std_lin: 0.2 - std_bim:0.07 |  Eta: 2.5e-05 - Epochs: 0 | Initial state:  Units: 50, Input scaling: 0.5, Rho: 0.95 - Lambda: 0 - Biased - Bias scaling: (0.5, 0) - Sparsity: (0, 0)\n",
      "Target: Quadrimodal |  Eta: 2.5e-05 - Epochs: 0 | Initial state:  Units: 50, Input scaling: 0.5, Rho: 0.95 - Lambda: 0 - Biased - Bias scaling: (0.5, 0) - Sparsity: (0, 0)\n",
      "Target: Gaussian - mu: 0.0 - std: 0.25 |  Eta: 2.5e-05 - Epochs: 0 | Initial state:  Units: 50, Input scaling: 0.5, Rho: 0.95 - Lambda: 0 - Unbiased - Bias scaling: (0, 0) - Sparsity: (0, 0)\n",
      "Target: Bimodal - mu: 0.72 - std: 0.07 |  Eta: 2.5e-05 - Epochs: 0 | Initial state:  Units: 50, Input scaling: 0.5, Rho: 0.95 - Lambda: 0 - Unbiased - Bias scaling: (0, 0) - Sparsity: (0, 0)\n",
      "Target: Trimodal - rate:0.3333333333333333 - mu: 0.72 - std_lin: 0.2 - std_bim:0.07 |  Eta: 2.5e-05 - Epochs: 0 | Initial state:  Units: 50, Input scaling: 0.5, Rho: 0.95 - Lambda: 0 - Unbiased - Bias scaling: (0, 0) - Sparsity: (0, 0)\n",
      "Target: Trimodal - rate:0.6666666666666666 - mu: 0.72 - std_lin: 0.2 - std_bim:0.07 |  Eta: 2.5e-05 - Epochs: 0 | Initial state:  Units: 50, Input scaling: 0.5, Rho: 0.95 - Lambda: 0 - Unbiased - Bias scaling: (0, 0) - Sparsity: (0, 0)\n",
      "Target: Quadrimodal |  Eta: 2.5e-05 - Epochs: 0 | Initial state:  Units: 50, Input scaling: 0.5, Rho: 0.95 - Lambda: 0 - Unbiased - Bias scaling: (0, 0) - Sparsity: (0, 0)\n",
      "Target: Gaussian - mu: 0.0 - std: 0.25 |  Eta: 2.5e-05 - Epochs: 0 | Initial state:  Units: 50, Input scaling: 1, Rho: 0.95 - Lambda: 0 - Biased - Bias scaling: (1, 0) - Sparsity: (0, 0)\n",
      "Target: Bimodal - mu: 0.72 - std: 0.07 |  Eta: 2.5e-05 - Epochs: 0 | Initial state:  Units: 50, Input scaling: 1, Rho: 0.95 - Lambda: 0 - Biased - Bias scaling: (1, 0) - Sparsity: (0, 0)\n",
      "Target: Trimodal - rate:0.3333333333333333 - mu: 0.72 - std_lin: 0.2 - std_bim:0.07 |  Eta: 2.5e-05 - Epochs: 0 | Initial state:  Units: 50, Input scaling: 1, Rho: 0.95 - Lambda: 0 - Biased - Bias scaling: (1, 0) - Sparsity: (0, 0)\n",
      "Target: Trimodal - rate:0.6666666666666666 - mu: 0.72 - std_lin: 0.2 - std_bim:0.07 |  Eta: 2.5e-05 - Epochs: 0 | Initial state:  Units: 50, Input scaling: 1, Rho: 0.95 - Lambda: 0 - Biased - Bias scaling: (1, 0) - Sparsity: (0, 0)\n",
      "Target: Quadrimodal |  Eta: 2.5e-05 - Epochs: 0 | Initial state:  Units: 50, Input scaling: 1, Rho: 0.95 - Lambda: 0 - Biased - Bias scaling: (1, 0) - Sparsity: (0, 0)\n",
      "Target: Gaussian - mu: 0.0 - std: 0.25 |  Eta: 2.5e-05 - Epochs: 0 | Initial state:  Units: 50, Input scaling: 1, Rho: 0.95 - Lambda: 0 - Biased - Bias scaling: (0.5, 0) - Sparsity: (0, 0)\n",
      "Target: Bimodal - mu: 0.72 - std: 0.07 |  Eta: 2.5e-05 - Epochs: 0 | Initial state:  Units: 50, Input scaling: 1, Rho: 0.95 - Lambda: 0 - Biased - Bias scaling: (0.5, 0) - Sparsity: (0, 0)\n",
      "Target: Trimodal - rate:0.3333333333333333 - mu: 0.72 - std_lin: 0.2 - std_bim:0.07 |  Eta: 2.5e-05 - Epochs: 0 | Initial state:  Units: 50, Input scaling: 1, Rho: 0.95 - Lambda: 0 - Biased - Bias scaling: (0.5, 0) - Sparsity: (0, 0)\n",
      "Target: Trimodal - rate:0.6666666666666666 - mu: 0.72 - std_lin: 0.2 - std_bim:0.07 |  Eta: 2.5e-05 - Epochs: 0 | Initial state:  Units: 50, Input scaling: 1, Rho: 0.95 - Lambda: 0 - Biased - Bias scaling: (0.5, 0) - Sparsity: (0, 0)\n",
      "Target: Quadrimodal |  Eta: 2.5e-05 - Epochs: 0 | Initial state:  Units: 50, Input scaling: 1, Rho: 0.95 - Lambda: 0 - Biased - Bias scaling: (0.5, 0) - Sparsity: (0, 0)\n",
      "Target: Gaussian - mu: 0.0 - std: 0.25 |  Eta: 2.5e-05 - Epochs: 0 | Initial state:  Units: 50, Input scaling: 1, Rho: 0.95 - Lambda: 0 - Unbiased - Bias scaling: (0, 0) - Sparsity: (0, 0)\n",
      "Target: Bimodal - mu: 0.72 - std: 0.07 |  Eta: 2.5e-05 - Epochs: 0 | Initial state:  Units: 50, Input scaling: 1, Rho: 0.95 - Lambda: 0 - Unbiased - Bias scaling: (0, 0) - Sparsity: (0, 0)\n",
      "Target: Trimodal - rate:0.3333333333333333 - mu: 0.72 - std_lin: 0.2 - std_bim:0.07 |  Eta: 2.5e-05 - Epochs: 0 | Initial state:  Units: 50, Input scaling: 1, Rho: 0.95 - Lambda: 0 - Unbiased - Bias scaling: (0, 0) - Sparsity: (0, 0)\n",
      "Target: Trimodal - rate:0.6666666666666666 - mu: 0.72 - std_lin: 0.2 - std_bim:0.07 |  Eta: 2.5e-05 - Epochs: 0 | Initial state:  Units: 50, Input scaling: 1, Rho: 0.95 - Lambda: 0 - Unbiased - Bias scaling: (0, 0) - Sparsity: (0, 0)\n",
      "Target: Quadrimodal |  Eta: 2.5e-05 - Epochs: 0 | Initial state:  Units: 50, Input scaling: 1, Rho: 0.95 - Lambda: 0 - Unbiased - Bias scaling: (0, 0) - Sparsity: (0, 0)\n"
     ]
    }
   ],
   "source": [
    "for config in IPHyperparametersSpace().get_configs(vanilla_sapce.get_configs()):\n",
    "    print(config.description())"
   ]
  },
  {
   "cell_type": "code",
   "execution_count": 12,
   "metadata": {},
   "outputs": [
    {
     "data": {
      "text/plain": [
       "[3, 2, 1, 11]"
      ]
     },
     "execution_count": 12,
     "metadata": {},
     "output_type": "execute_result"
    }
   ],
   "source": [
    "[3,2]+[1,11]"
   ]
  },
  {
   "cell_type": "code",
   "execution_count": 13,
   "metadata": {},
   "outputs": [],
   "source": [
    "init_space = ReservoirHyperparamSpace([100],[0.75],[0.5, 1],[False])"
   ]
  },
  {
   "cell_type": "code",
   "execution_count": 14,
   "metadata": {},
   "outputs": [
    {
     "data": {
      "text/plain": [
       "2"
      ]
     },
     "execution_count": 14,
     "metadata": {},
     "output_type": "execute_result"
    }
   ],
   "source": [
    "len(init_space.get_configs())"
   ]
  },
  {
   "cell_type": "code",
   "execution_count": 15,
   "metadata": {},
   "outputs": [
    {
     "data": {
      "text/plain": [
       "[(100, 0.75, 0.5, [False, 0, 0], 0, 0), (100, 0.75, 1, [False, 0, 0], 0, 0)]"
      ]
     },
     "execution_count": 15,
     "metadata": {},
     "output_type": "execute_result"
    }
   ],
   "source": [
    "list(init_space.combinations())"
   ]
  },
  {
   "cell_type": "code",
   "execution_count": 16,
   "metadata": {},
   "outputs": [],
   "source": [
    "init_space = ReservoirHyperparamSpace([100],[0.75],[0.5, 1],[True])"
   ]
  },
  {
   "cell_type": "code",
   "execution_count": 17,
   "metadata": {},
   "outputs": [
    {
     "data": {
      "text/plain": [
       "[(100, 0.75, 0.5, [True, 1, 1], 0, 0), (100, 0.75, 1, [True, 1, 1], 0, 0)]"
      ]
     },
     "execution_count": 17,
     "metadata": {},
     "output_type": "execute_result"
    }
   ],
   "source": [
    "list(init_space.combinations())"
   ]
  },
  {
   "cell_type": "code",
   "execution_count": 18,
   "metadata": {},
   "outputs": [
    {
     "data": {
      "text/plain": [
       "2"
      ]
     },
     "execution_count": 18,
     "metadata": {},
     "output_type": "execute_result"
    }
   ],
   "source": [
    "len(init_space.get_configs())"
   ]
  },
  {
   "cell_type": "code",
   "execution_count": 19,
   "metadata": {},
   "outputs": [],
   "source": [
    "init_space = ReservoirHyperparamSpace([10],[0.75],[0.5, 1],[True, False])"
   ]
  },
  {
   "cell_type": "code",
   "execution_count": 20,
   "metadata": {},
   "outputs": [
    {
     "data": {
      "text/plain": [
       "[(10, 0.75, 0.5, [True, 1, 1], 0, 0),\n",
       " (10, 0.75, 0.5, [False, 0, 0], 0, 0),\n",
       " (10, 0.75, 1, [True, 1, 1], 0, 0),\n",
       " (10, 0.75, 1, [False, 0, 0], 0, 0)]"
      ]
     },
     "execution_count": 20,
     "metadata": {},
     "output_type": "execute_result"
    }
   ],
   "source": [
    "list(init_space.combinations())"
   ]
  },
  {
   "cell_type": "code",
   "execution_count": 21,
   "metadata": {},
   "outputs": [
    {
     "data": {
      "text/plain": [
       "4"
      ]
     },
     "execution_count": 21,
     "metadata": {},
     "output_type": "execute_result"
    }
   ],
   "source": [
    "len(init_space.get_configs())"
   ]
  },
  {
   "cell_type": "code",
   "execution_count": 22,
   "metadata": {},
   "outputs": [],
   "source": [
    "gs_space = GrdiSearchSpace(init_space, ipHyperparamSpace=IPHyperparametersSpace(eta_range=[]), lambda_thikonov_range=[0.1, 0, 0.2])"
   ]
  },
  {
   "cell_type": "code",
   "execution_count": 23,
   "metadata": {},
   "outputs": [
    {
     "name": "stdout",
     "output_type": "stream",
     "text": [
      " Units: 10, Input scaling: 0.5, Rho: 0.75 - Lambda: 0 - Biased - Bias scaling: (1, 1) - Sparsity: (0, 0)\n",
      " Units: 10, Input scaling: 0.5, Rho: 0.75 - Lambda: 0 - Unbiased - Bias scaling: (0, 0) - Sparsity: (0, 0)\n",
      " Units: 10, Input scaling: 1, Rho: 0.75 - Lambda: 0 - Biased - Bias scaling: (1, 1) - Sparsity: (0, 0)\n",
      " Units: 10, Input scaling: 1, Rho: 0.75 - Lambda: 0 - Unbiased - Bias scaling: (0, 0) - Sparsity: (0, 0)\n"
     ]
    }
   ],
   "source": [
    "for config in gs_space.get_configs(evaluate_vanilla=True):\n",
    "    print(config.description())"
   ]
  },
  {
   "cell_type": "code",
   "execution_count": 24,
   "metadata": {},
   "outputs": [
    {
     "name": "stdout",
     "output_type": "stream",
     "text": [
      "Reservoir warmed up with the first 100 time steps\n",
      "Reservoir warmed up with the first 100 time steps\n",
      "Reservoir warmed up with the first 100 time steps\n",
      "Reservoir warmed up with the first 100 time steps\n",
      "Reservoir warmed up with the first 100 time steps\n",
      "Reservoir warmed up with the first 100 time steps\n",
      "Reservoir warmed up with the first 100 time steps\n",
      "Reservoir warmed up with the first 100 time steps\n",
      "Reservoir warmed up with the first 100 time steps\n",
      "Reservoir warmed up with the first 100 time steps\n",
      "Reservoir warmed up with the first 100 time steps\n",
      "Reservoir warmed up with the first 100 time steps\n",
      "Reservoir warmed up with the first 100 time steps\n",
      "Reservoir warmed up with the first 100 time steps\n",
      "Reservoir warmed up with the first 100 time steps\n",
      "Reservoir warmed up with the first 100 time steps\n",
      "Reservoir warmed up with the first 100 time steps\n",
      "Reservoir warmed up with the first 100 time steps\n",
      "Reservoir warmed up with the first 100 time steps\n",
      "Reservoir warmed up with the first 100 time steps\n",
      "Reservoir warmed up with the first 100 time steps\n",
      "Reservoir warmed up with the first 100 time steps\n",
      "Reservoir warmed up with the first 100 time steps\n",
      "Reservoir warmed up with the first 100 time steps\n"
     ]
    }
   ],
   "source": [
    "res = gs_space.evaluate(repetitions=2)"
   ]
  },
  {
   "cell_type": "code",
   "execution_count": 29,
   "metadata": {},
   "outputs": [],
   "source": [
    "df = pd.DataFrame(res[1:None], columns=[res[0]])"
   ]
  },
  {
   "cell_type": "code",
   "execution_count": 32,
   "metadata": {},
   "outputs": [
    {
     "data": {
      "text/html": [
       "<div>\n",
       "<style scoped>\n",
       "    .dataframe tbody tr th:only-of-type {\n",
       "        vertical-align: middle;\n",
       "    }\n",
       "\n",
       "    .dataframe tbody tr th {\n",
       "        vertical-align: top;\n",
       "    }\n",
       "\n",
       "    .dataframe thead tr th {\n",
       "        text-align: left;\n",
       "    }\n",
       "</style>\n",
       "<table border=\"1\" class=\"dataframe\">\n",
       "  <thead>\n",
       "    <tr>\n",
       "      <th></th>\n",
       "      <th>Model</th>\n",
       "      <th>Lambda</th>\n",
       "      <th>Mean MSE</th>\n",
       "      <th>Standard Deviation</th>\n",
       "      <th>Description</th>\n",
       "    </tr>\n",
       "  </thead>\n",
       "  <tbody>\n",
       "    <tr>\n",
       "      <th>0</th>\n",
       "      <td>Model 0</td>\n",
       "      <td>0.1</td>\n",
       "      <td>5.894597e-05</td>\n",
       "      <td>2.157600e-05</td>\n",
       "      <td>Units: 10, Input scaling: 0.5, Rho: 0.75 - La...</td>\n",
       "    </tr>\n",
       "    <tr>\n",
       "      <th>1</th>\n",
       "      <td>Model 0</td>\n",
       "      <td>0.0</td>\n",
       "      <td>8.664498e-07</td>\n",
       "      <td>2.558386e-07</td>\n",
       "      <td>Units: 10, Input scaling: 0.5, Rho: 0.75 - La...</td>\n",
       "    </tr>\n",
       "    <tr>\n",
       "      <th>2</th>\n",
       "      <td>Model 0</td>\n",
       "      <td>0.2</td>\n",
       "      <td>8.608709e-05</td>\n",
       "      <td>3.592779e-05</td>\n",
       "      <td>Units: 10, Input scaling: 0.5, Rho: 0.75 - La...</td>\n",
       "    </tr>\n",
       "    <tr>\n",
       "      <th>3</th>\n",
       "      <td>Model 1</td>\n",
       "      <td>0.1</td>\n",
       "      <td>7.745494e-05</td>\n",
       "      <td>8.982319e-06</td>\n",
       "      <td>Units: 10, Input scaling: 0.5, Rho: 0.75 - La...</td>\n",
       "    </tr>\n",
       "    <tr>\n",
       "      <th>4</th>\n",
       "      <td>Model 1</td>\n",
       "      <td>0.0</td>\n",
       "      <td>1.020173e-06</td>\n",
       "      <td>1.169475e-07</td>\n",
       "      <td>Units: 10, Input scaling: 0.5, Rho: 0.75 - La...</td>\n",
       "    </tr>\n",
       "    <tr>\n",
       "      <th>5</th>\n",
       "      <td>Model 1</td>\n",
       "      <td>0.2</td>\n",
       "      <td>1.023001e-04</td>\n",
       "      <td>3.006407e-06</td>\n",
       "      <td>Units: 10, Input scaling: 0.5, Rho: 0.75 - La...</td>\n",
       "    </tr>\n",
       "    <tr>\n",
       "      <th>6</th>\n",
       "      <td>Model 2</td>\n",
       "      <td>0.1</td>\n",
       "      <td>1.655219e-05</td>\n",
       "      <td>3.008102e-06</td>\n",
       "      <td>Units: 10, Input scaling: 1, Rho: 0.75 - Lamb...</td>\n",
       "    </tr>\n",
       "    <tr>\n",
       "      <th>7</th>\n",
       "      <td>Model 2</td>\n",
       "      <td>0.0</td>\n",
       "      <td>6.457593e-07</td>\n",
       "      <td>1.918023e-08</td>\n",
       "      <td>Units: 10, Input scaling: 1, Rho: 0.75 - Lamb...</td>\n",
       "    </tr>\n",
       "    <tr>\n",
       "      <th>8</th>\n",
       "      <td>Model 2</td>\n",
       "      <td>0.2</td>\n",
       "      <td>2.701300e-05</td>\n",
       "      <td>3.516075e-06</td>\n",
       "      <td>Units: 10, Input scaling: 1, Rho: 0.75 - Lamb...</td>\n",
       "    </tr>\n",
       "    <tr>\n",
       "      <th>9</th>\n",
       "      <td>Model 3</td>\n",
       "      <td>0.1</td>\n",
       "      <td>3.357646e-05</td>\n",
       "      <td>1.481817e-06</td>\n",
       "      <td>Units: 10, Input scaling: 1, Rho: 0.75 - Lamb...</td>\n",
       "    </tr>\n",
       "    <tr>\n",
       "      <th>10</th>\n",
       "      <td>Model 3</td>\n",
       "      <td>0.0</td>\n",
       "      <td>7.970226e-07</td>\n",
       "      <td>9.961500e-08</td>\n",
       "      <td>Units: 10, Input scaling: 1, Rho: 0.75 - Lamb...</td>\n",
       "    </tr>\n",
       "    <tr>\n",
       "      <th>11</th>\n",
       "      <td>Model 3</td>\n",
       "      <td>0.2</td>\n",
       "      <td>4.628326e-05</td>\n",
       "      <td>1.003340e-06</td>\n",
       "      <td>Units: 10, Input scaling: 1, Rho: 0.75 - Lamb...</td>\n",
       "    </tr>\n",
       "  </tbody>\n",
       "</table>\n",
       "</div>"
      ],
      "text/plain": [
       "      Model Lambda      Mean MSE Standard Deviation  \\\n",
       "0   Model 0    0.1  5.894597e-05       2.157600e-05   \n",
       "1   Model 0    0.0  8.664498e-07       2.558386e-07   \n",
       "2   Model 0    0.2  8.608709e-05       3.592779e-05   \n",
       "3   Model 1    0.1  7.745494e-05       8.982319e-06   \n",
       "4   Model 1    0.0  1.020173e-06       1.169475e-07   \n",
       "5   Model 1    0.2  1.023001e-04       3.006407e-06   \n",
       "6   Model 2    0.1  1.655219e-05       3.008102e-06   \n",
       "7   Model 2    0.0  6.457593e-07       1.918023e-08   \n",
       "8   Model 2    0.2  2.701300e-05       3.516075e-06   \n",
       "9   Model 3    0.1  3.357646e-05       1.481817e-06   \n",
       "10  Model 3    0.0  7.970226e-07       9.961500e-08   \n",
       "11  Model 3    0.2  4.628326e-05       1.003340e-06   \n",
       "\n",
       "                                          Description  \n",
       "0    Units: 10, Input scaling: 0.5, Rho: 0.75 - La...  \n",
       "1    Units: 10, Input scaling: 0.5, Rho: 0.75 - La...  \n",
       "2    Units: 10, Input scaling: 0.5, Rho: 0.75 - La...  \n",
       "3    Units: 10, Input scaling: 0.5, Rho: 0.75 - La...  \n",
       "4    Units: 10, Input scaling: 0.5, Rho: 0.75 - La...  \n",
       "5    Units: 10, Input scaling: 0.5, Rho: 0.75 - La...  \n",
       "6    Units: 10, Input scaling: 1, Rho: 0.75 - Lamb...  \n",
       "7    Units: 10, Input scaling: 1, Rho: 0.75 - Lamb...  \n",
       "8    Units: 10, Input scaling: 1, Rho: 0.75 - Lamb...  \n",
       "9    Units: 10, Input scaling: 1, Rho: 0.75 - Lamb...  \n",
       "10   Units: 10, Input scaling: 1, Rho: 0.75 - Lamb...  \n",
       "11   Units: 10, Input scaling: 1, Rho: 0.75 - Lamb...  "
      ]
     },
     "execution_count": 32,
     "metadata": {},
     "output_type": "execute_result"
    }
   ],
   "source": [
    "df"
   ]
  },
  {
   "cell_type": "code",
   "execution_count": 35,
   "metadata": {},
   "outputs": [
    {
     "data": {
      "text/html": [
       "<div>\n",
       "<style scoped>\n",
       "    .dataframe tbody tr th:only-of-type {\n",
       "        vertical-align: middle;\n",
       "    }\n",
       "\n",
       "    .dataframe tbody tr th {\n",
       "        vertical-align: top;\n",
       "    }\n",
       "\n",
       "    .dataframe thead tr th {\n",
       "        text-align: left;\n",
       "    }\n",
       "</style>\n",
       "<table border=\"1\" class=\"dataframe\">\n",
       "  <thead>\n",
       "    <tr>\n",
       "      <th></th>\n",
       "      <th>Model</th>\n",
       "      <th>Lambda</th>\n",
       "      <th>Mean MSE</th>\n",
       "      <th>Standard Deviation</th>\n",
       "      <th>Description</th>\n",
       "    </tr>\n",
       "  </thead>\n",
       "  <tbody>\n",
       "    <tr>\n",
       "      <th>7</th>\n",
       "      <td>Model 2</td>\n",
       "      <td>0.0</td>\n",
       "      <td>6.457593e-07</td>\n",
       "      <td>1.918023e-08</td>\n",
       "      <td>Units: 10, Input scaling: 1, Rho: 0.75 - Lamb...</td>\n",
       "    </tr>\n",
       "    <tr>\n",
       "      <th>10</th>\n",
       "      <td>Model 3</td>\n",
       "      <td>0.0</td>\n",
       "      <td>7.970226e-07</td>\n",
       "      <td>9.961500e-08</td>\n",
       "      <td>Units: 10, Input scaling: 1, Rho: 0.75 - Lamb...</td>\n",
       "    </tr>\n",
       "    <tr>\n",
       "      <th>1</th>\n",
       "      <td>Model 0</td>\n",
       "      <td>0.0</td>\n",
       "      <td>8.664498e-07</td>\n",
       "      <td>2.558386e-07</td>\n",
       "      <td>Units: 10, Input scaling: 0.5, Rho: 0.75 - La...</td>\n",
       "    </tr>\n",
       "    <tr>\n",
       "      <th>4</th>\n",
       "      <td>Model 1</td>\n",
       "      <td>0.0</td>\n",
       "      <td>1.020173e-06</td>\n",
       "      <td>1.169475e-07</td>\n",
       "      <td>Units: 10, Input scaling: 0.5, Rho: 0.75 - La...</td>\n",
       "    </tr>\n",
       "    <tr>\n",
       "      <th>6</th>\n",
       "      <td>Model 2</td>\n",
       "      <td>0.1</td>\n",
       "      <td>1.655219e-05</td>\n",
       "      <td>3.008102e-06</td>\n",
       "      <td>Units: 10, Input scaling: 1, Rho: 0.75 - Lamb...</td>\n",
       "    </tr>\n",
       "    <tr>\n",
       "      <th>8</th>\n",
       "      <td>Model 2</td>\n",
       "      <td>0.2</td>\n",
       "      <td>2.701300e-05</td>\n",
       "      <td>3.516075e-06</td>\n",
       "      <td>Units: 10, Input scaling: 1, Rho: 0.75 - Lamb...</td>\n",
       "    </tr>\n",
       "    <tr>\n",
       "      <th>9</th>\n",
       "      <td>Model 3</td>\n",
       "      <td>0.1</td>\n",
       "      <td>3.357646e-05</td>\n",
       "      <td>1.481817e-06</td>\n",
       "      <td>Units: 10, Input scaling: 1, Rho: 0.75 - Lamb...</td>\n",
       "    </tr>\n",
       "    <tr>\n",
       "      <th>11</th>\n",
       "      <td>Model 3</td>\n",
       "      <td>0.2</td>\n",
       "      <td>4.628326e-05</td>\n",
       "      <td>1.003340e-06</td>\n",
       "      <td>Units: 10, Input scaling: 1, Rho: 0.75 - Lamb...</td>\n",
       "    </tr>\n",
       "    <tr>\n",
       "      <th>0</th>\n",
       "      <td>Model 0</td>\n",
       "      <td>0.1</td>\n",
       "      <td>5.894597e-05</td>\n",
       "      <td>2.157600e-05</td>\n",
       "      <td>Units: 10, Input scaling: 0.5, Rho: 0.75 - La...</td>\n",
       "    </tr>\n",
       "    <tr>\n",
       "      <th>3</th>\n",
       "      <td>Model 1</td>\n",
       "      <td>0.1</td>\n",
       "      <td>7.745494e-05</td>\n",
       "      <td>8.982319e-06</td>\n",
       "      <td>Units: 10, Input scaling: 0.5, Rho: 0.75 - La...</td>\n",
       "    </tr>\n",
       "    <tr>\n",
       "      <th>2</th>\n",
       "      <td>Model 0</td>\n",
       "      <td>0.2</td>\n",
       "      <td>8.608709e-05</td>\n",
       "      <td>3.592779e-05</td>\n",
       "      <td>Units: 10, Input scaling: 0.5, Rho: 0.75 - La...</td>\n",
       "    </tr>\n",
       "    <tr>\n",
       "      <th>5</th>\n",
       "      <td>Model 1</td>\n",
       "      <td>0.2</td>\n",
       "      <td>1.023001e-04</td>\n",
       "      <td>3.006407e-06</td>\n",
       "      <td>Units: 10, Input scaling: 0.5, Rho: 0.75 - La...</td>\n",
       "    </tr>\n",
       "  </tbody>\n",
       "</table>\n",
       "</div>"
      ],
      "text/plain": [
       "      Model Lambda      Mean MSE Standard Deviation  \\\n",
       "7   Model 2    0.0  6.457593e-07       1.918023e-08   \n",
       "10  Model 3    0.0  7.970226e-07       9.961500e-08   \n",
       "1   Model 0    0.0  8.664498e-07       2.558386e-07   \n",
       "4   Model 1    0.0  1.020173e-06       1.169475e-07   \n",
       "6   Model 2    0.1  1.655219e-05       3.008102e-06   \n",
       "8   Model 2    0.2  2.701300e-05       3.516075e-06   \n",
       "9   Model 3    0.1  3.357646e-05       1.481817e-06   \n",
       "11  Model 3    0.2  4.628326e-05       1.003340e-06   \n",
       "0   Model 0    0.1  5.894597e-05       2.157600e-05   \n",
       "3   Model 1    0.1  7.745494e-05       8.982319e-06   \n",
       "2   Model 0    0.2  8.608709e-05       3.592779e-05   \n",
       "5   Model 1    0.2  1.023001e-04       3.006407e-06   \n",
       "\n",
       "                                          Description  \n",
       "7    Units: 10, Input scaling: 1, Rho: 0.75 - Lamb...  \n",
       "10   Units: 10, Input scaling: 1, Rho: 0.75 - Lamb...  \n",
       "1    Units: 10, Input scaling: 0.5, Rho: 0.75 - La...  \n",
       "4    Units: 10, Input scaling: 0.5, Rho: 0.75 - La...  \n",
       "6    Units: 10, Input scaling: 1, Rho: 0.75 - Lamb...  \n",
       "8    Units: 10, Input scaling: 1, Rho: 0.75 - Lamb...  \n",
       "9    Units: 10, Input scaling: 1, Rho: 0.75 - Lamb...  \n",
       "11   Units: 10, Input scaling: 1, Rho: 0.75 - Lamb...  \n",
       "0    Units: 10, Input scaling: 0.5, Rho: 0.75 - La...  \n",
       "3    Units: 10, Input scaling: 0.5, Rho: 0.75 - La...  \n",
       "2    Units: 10, Input scaling: 0.5, Rho: 0.75 - La...  \n",
       "5    Units: 10, Input scaling: 0.5, Rho: 0.75 - La...  "
      ]
     },
     "execution_count": 35,
     "metadata": {},
     "output_type": "execute_result"
    }
   ],
   "source": [
    "df.sort_values(by=df.columns[2])"
   ]
  },
  {
   "cell_type": "code",
   "execution_count": null,
   "metadata": {},
   "outputs": [],
   "source": []
  }
 ],
 "metadata": {
  "kernelspec": {
   "display_name": "Python 3",
   "language": "python",
   "name": "python3"
  },
  "language_info": {
   "codemirror_mode": {
    "name": "ipython",
    "version": 3
   },
   "file_extension": ".py",
   "mimetype": "text/x-python",
   "name": "python",
   "nbconvert_exporter": "python",
   "pygments_lexer": "ipython3",
   "version": "3.9.13"
  }
 },
 "nbformat": 4,
 "nbformat_minor": 2
}
