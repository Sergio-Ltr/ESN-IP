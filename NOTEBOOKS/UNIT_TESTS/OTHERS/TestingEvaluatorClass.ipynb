{
 "cells": [
  {
   "cell_type": "code",
   "execution_count": 1,
   "metadata": {},
   "outputs": [],
   "source": [
    "import sys  \n",
    "sys.path.insert(1, \"./../../../../ESN-IP/SOURCES/.\")\n",
    "\n",
    "import random\n",
    "\n",
    "random.seed(10)"
   ]
  },
  {
   "cell_type": "code",
   "execution_count": 2,
   "metadata": {},
   "outputs": [],
   "source": [
    "import numpy as np"
   ]
  },
  {
   "cell_type": "code",
   "execution_count": 3,
   "metadata": {},
   "outputs": [],
   "source": [
    "from Reservoir import ReservoirConfiguration\n",
    "from Evaluator import Evaluator\n",
    "from DATA import MG17\n",
    "from Metrics import MSE, NRMSE, Neff"
   ]
  },
  {
   "cell_type": "code",
   "execution_count": 4,
   "metadata": {},
   "outputs": [],
   "source": [
    "model_configuration = ReservoirConfiguration(N_units=25, name=\"Quarter Century\")"
   ]
  },
  {
   "cell_type": "code",
   "execution_count": 5,
   "metadata": {},
   "outputs": [],
   "source": [
    "custom_model_config = ReservoirConfiguration(N_units=10, name=\"Two digits\")"
   ]
  },
  {
   "cell_type": "code",
   "execution_count": 6,
   "metadata": {},
   "outputs": [
    {
     "name": "stdout",
     "output_type": "stream",
     "text": [
      "Reservoir warmed up with the first 100 time steps\n",
      "Reservoir warmed up with the first 100 time steps\n",
      "Reservoir warmed up with the first 100 time steps\n",
      "Reservoir warmed up with the first 100 time steps\n",
      "Reservoir warmed up with the first 100 time steps\n",
      "Reservoir warmed up with the first 100 time steps\n",
      "Reservoir warmed up with the first 100 time steps\n",
      "Reservoir warmed up with the first 100 time steps\n",
      "Reservoir warmed up with the first 100 time steps\n",
      "Reservoir warmed up with the first 100 time steps\n",
      "Reservoir warmed up with the first 100 time steps\n",
      "Reservoir warmed up with the first 100 time steps\n",
      "Reservoir warmed up with the first 100 time steps\n",
      "Reservoir warmed up with the first 100 time steps\n",
      "Reservoir warmed up with the first 100 time steps\n",
      "Reservoir warmed up with the first 100 time steps\n",
      "Reservoir warmed up with the first 100 time steps\n",
      "Reservoir warmed up with the first 100 time steps\n",
      "Reservoir warmed up with the first 100 time steps\n",
      "Reservoir warmed up with the first 100 time steps\n"
     ]
    }
   ],
   "source": [
    "results = Evaluator().evaluate_multiple([model_configuration, custom_model_config], MG17(), repetitions=10, transient=100, estrinsic_metrics=[MSE(plot=False), NRMSE()], intrinsic_metrics=[Neff()])"
   ]
  },
  {
   "cell_type": "code",
   "execution_count": 9,
   "metadata": {},
   "outputs": [
    {
     "data": {
      "text/html": [
       "<div>\n",
       "<style scoped>\n",
       "    .dataframe tbody tr th:only-of-type {\n",
       "        vertical-align: middle;\n",
       "    }\n",
       "\n",
       "    .dataframe tbody tr th {\n",
       "        vertical-align: top;\n",
       "    }\n",
       "\n",
       "    .dataframe thead th {\n",
       "        text-align: right;\n",
       "    }\n",
       "</style>\n",
       "<table border=\"1\" class=\"dataframe\">\n",
       "  <thead>\n",
       "    <tr style=\"text-align: right;\">\n",
       "      <th></th>\n",
       "      <th>Model Name</th>\n",
       "      <th>Model Index</th>\n",
       "      <th>Aggregation</th>\n",
       "      <th>MSE</th>\n",
       "      <th>NRMSE</th>\n",
       "      <th>Neff</th>\n",
       "    </tr>\n",
       "  </thead>\n",
       "  <tbody>\n",
       "    <tr>\n",
       "      <th>0</th>\n",
       "      <td>Quarter Century</td>\n",
       "      <td>0.0</td>\n",
       "      <td>Mean</td>\n",
       "      <td>0.000059</td>\n",
       "      <td>1.120734</td>\n",
       "      <td>4.913727</td>\n",
       "    </tr>\n",
       "    <tr>\n",
       "      <th>1</th>\n",
       "      <td>Quarter Century</td>\n",
       "      <td>0.0</td>\n",
       "      <td>Std</td>\n",
       "      <td>0.000008</td>\n",
       "      <td>0.080130</td>\n",
       "      <td>0.644912</td>\n",
       "    </tr>\n",
       "    <tr>\n",
       "      <th>2</th>\n",
       "      <td>Two digits</td>\n",
       "      <td>1.0</td>\n",
       "      <td>Mean</td>\n",
       "      <td>0.000078</td>\n",
       "      <td>1.281323</td>\n",
       "      <td>2.887902</td>\n",
       "    </tr>\n",
       "    <tr>\n",
       "      <th>3</th>\n",
       "      <td>Two digits</td>\n",
       "      <td>1.0</td>\n",
       "      <td>Std</td>\n",
       "      <td>0.000013</td>\n",
       "      <td>0.096586</td>\n",
       "      <td>0.586291</td>\n",
       "    </tr>\n",
       "  </tbody>\n",
       "</table>\n",
       "</div>"
      ],
      "text/plain": [
       "        Model Name  Model Index Aggregation       MSE     NRMSE      Neff\n",
       "0  Quarter Century          0.0        Mean  0.000059  1.120734  4.913727\n",
       "1  Quarter Century          0.0         Std  0.000008  0.080130  0.644912\n",
       "2       Two digits          1.0        Mean  0.000078  1.281323  2.887902\n",
       "3       Two digits          1.0         Std  0.000013  0.096586  0.586291"
      ]
     },
     "execution_count": 9,
     "metadata": {},
     "output_type": "execute_result"
    }
   ],
   "source": [
    "results"
   ]
  },
  {
   "cell_type": "code",
   "execution_count": null,
   "metadata": {},
   "outputs": [],
   "source": []
  }
 ],
 "metadata": {
  "kernelspec": {
   "display_name": "Python 3",
   "language": "python",
   "name": "python3"
  },
  "language_info": {
   "codemirror_mode": {
    "name": "ipython",
    "version": 3
   },
   "file_extension": ".py",
   "mimetype": "text/x-python",
   "name": "python",
   "nbconvert_exporter": "python",
   "pygments_lexer": "ipython3",
   "version": "3.9.13"
  }
 },
 "nbformat": 4,
 "nbformat_minor": 2
}
