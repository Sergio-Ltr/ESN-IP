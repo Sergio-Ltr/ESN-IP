{
 "cells": [
  {
   "cell_type": "code",
   "execution_count": 1,
   "metadata": {},
   "outputs": [],
   "source": [
    "import sys  \n",
    "sys.path.insert(1, \"./../../../../ESN-IP/SOURCES/.\")\n",
    "\n",
    "import random\n",
    "\n",
    "random.seed(10)"
   ]
  },
  {
   "cell_type": "code",
   "execution_count": 2,
   "metadata": {},
   "outputs": [],
   "source": [
    "import numpy as np"
   ]
  },
  {
   "cell_type": "code",
   "execution_count": 3,
   "metadata": {},
   "outputs": [],
   "source": [
    "from Configurations import ReservoirConfiguration\n",
    "from Evaluator import Evaluator\n",
    "from DATA import MG17\n",
    "from Metrics import MSE, NRMSE, Neff"
   ]
  },
  {
   "cell_type": "code",
   "execution_count": 4,
   "metadata": {},
   "outputs": [],
   "source": [
    "model_configuration = ReservoirConfiguration(N=25, name=\"Quarter Century\")"
   ]
  },
  {
   "cell_type": "code",
   "execution_count": 5,
   "metadata": {},
   "outputs": [],
   "source": [
    "custom_model_config = ReservoirConfiguration(N=10, name=\"Two digits\")"
   ]
  },
  {
   "cell_type": "code",
   "execution_count": 6,
   "metadata": {},
   "outputs": [],
   "source": [
    "evaluator = Evaluator(path=\".\", experiment_name=\"Unit_test\")"
   ]
  },
  {
   "cell_type": "code",
   "execution_count": 7,
   "metadata": {},
   "outputs": [
    {
     "name": "stdout",
     "output_type": "stream",
     "text": [
      "Reservoir warmed up with the first 100 time steps\n",
      "Reservoir warmed up with the first 100 time steps\n",
      "Reservoir warmed up with the first 100 time steps\n",
      "Reservoir warmed up with the first 100 time steps\n",
      "Reservoir warmed up with the first 100 time steps\n",
      "Reservoir warmed up with the first 100 time steps\n",
      "Reservoir warmed up with the first 100 time steps\n",
      "Reservoir warmed up with the first 100 time steps\n",
      "Reservoir warmed up with the first 100 time steps\n",
      "Reservoir warmed up with the first 100 time steps\n"
     ]
    }
   ],
   "source": [
    "results = evaluator.evaluate_multiple([model_configuration, custom_model_config], MG17(), repetitions=5, transient=100, estrinsic_metrics=[MSE(plot=False), NRMSE()], intrinsic_metrics=[Neff()])"
   ]
  },
  {
   "cell_type": "code",
   "execution_count": 8,
   "metadata": {},
   "outputs": [
    {
     "data": {
      "text/html": [
       "<div>\n",
       "<style scoped>\n",
       "    .dataframe tbody tr th:only-of-type {\n",
       "        vertical-align: middle;\n",
       "    }\n",
       "\n",
       "    .dataframe tbody tr th {\n",
       "        vertical-align: top;\n",
       "    }\n",
       "\n",
       "    .dataframe thead th {\n",
       "        text-align: right;\n",
       "    }\n",
       "</style>\n",
       "<table border=\"1\" class=\"dataframe\">\n",
       "  <thead>\n",
       "    <tr style=\"text-align: right;\">\n",
       "      <th></th>\n",
       "      <th>Model Name</th>\n",
       "      <th>Model Index</th>\n",
       "      <th>Aggregation</th>\n",
       "      <th>MSE</th>\n",
       "      <th>NRMSE</th>\n",
       "      <th>Neff</th>\n",
       "    </tr>\n",
       "  </thead>\n",
       "  <tbody>\n",
       "    <tr>\n",
       "      <th>0</th>\n",
       "      <td>Quarter Century</td>\n",
       "      <td>0.0</td>\n",
       "      <td>Mean</td>\n",
       "      <td>0.000060</td>\n",
       "      <td>1.124707</td>\n",
       "      <td>4.395308</td>\n",
       "    </tr>\n",
       "    <tr>\n",
       "      <th>1</th>\n",
       "      <td>Quarter Century</td>\n",
       "      <td>0.0</td>\n",
       "      <td>Std</td>\n",
       "      <td>0.000007</td>\n",
       "      <td>0.063841</td>\n",
       "      <td>0.779644</td>\n",
       "    </tr>\n",
       "    <tr>\n",
       "      <th>2</th>\n",
       "      <td>Two digits</td>\n",
       "      <td>1.0</td>\n",
       "      <td>Mean</td>\n",
       "      <td>0.000079</td>\n",
       "      <td>1.291027</td>\n",
       "      <td>3.282723</td>\n",
       "    </tr>\n",
       "    <tr>\n",
       "      <th>3</th>\n",
       "      <td>Two digits</td>\n",
       "      <td>1.0</td>\n",
       "      <td>Std</td>\n",
       "      <td>0.000005</td>\n",
       "      <td>0.042462</td>\n",
       "      <td>0.723601</td>\n",
       "    </tr>\n",
       "  </tbody>\n",
       "</table>\n",
       "</div>"
      ],
      "text/plain": [
       "        Model Name  Model Index Aggregation       MSE     NRMSE      Neff\n",
       "0  Quarter Century          0.0        Mean  0.000060  1.124707  4.395308\n",
       "1  Quarter Century          0.0         Std  0.000007  0.063841  0.779644\n",
       "2       Two digits          1.0        Mean  0.000079  1.291027  3.282723\n",
       "3       Two digits          1.0         Std  0.000005  0.042462  0.723601"
      ]
     },
     "execution_count": 8,
     "metadata": {},
     "output_type": "execute_result"
    }
   ],
   "source": [
    "results"
   ]
  },
  {
   "cell_type": "code",
   "execution_count": 9,
   "metadata": {},
   "outputs": [],
   "source": [
    "evaluator.save_model_config(custom_model_config)"
   ]
  },
  {
   "cell_type": "code",
   "execution_count": 10,
   "metadata": {},
   "outputs": [],
   "source": [
    "evaluator.save_models([model_configuration, custom_model_config])"
   ]
  },
  {
   "cell_type": "code",
   "execution_count": 11,
   "metadata": {},
   "outputs": [],
   "source": [
    "loaded_model = evaluator.load_model_config(\"Two digits\")"
   ]
  },
  {
   "cell_type": "code",
   "execution_count": 12,
   "metadata": {},
   "outputs": [
    {
     "data": {
      "text/plain": [
       "'Two digits'"
      ]
     },
     "execution_count": 12,
     "metadata": {},
     "output_type": "execute_result"
    }
   ],
   "source": [
    "loaded_model.name"
   ]
  },
  {
   "cell_type": "code",
   "execution_count": 13,
   "metadata": {},
   "outputs": [],
   "source": [
    "models = evaluator.load_models()"
   ]
  },
  {
   "cell_type": "code",
   "execution_count": 14,
   "metadata": {},
   "outputs": [
    {
     "data": {
      "text/plain": [
       "25"
      ]
     },
     "execution_count": 14,
     "metadata": {},
     "output_type": "execute_result"
    }
   ],
   "source": [
    "models[0].N"
   ]
  }
 ],
 "metadata": {
  "kernelspec": {
   "display_name": "Python 3",
   "language": "python",
   "name": "python3"
  },
  "language_info": {
   "codemirror_mode": {
    "name": "ipython",
    "version": 3
   },
   "file_extension": ".py",
   "mimetype": "text/x-python",
   "name": "python",
   "nbconvert_exporter": "python",
   "pygments_lexer": "ipython3",
   "version": "3.9.13"
  }
 },
 "nbformat": 4,
 "nbformat_minor": 2
}
