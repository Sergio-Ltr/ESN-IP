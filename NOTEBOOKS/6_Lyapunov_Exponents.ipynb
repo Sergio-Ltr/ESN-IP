{
 "cells": [
  {
   "cell_type": "code",
   "execution_count": 1,
   "metadata": {},
   "outputs": [],
   "source": [
    "import sys  \n",
    "sys.path.insert(1, './../../ESN-IP/IP/.')\n"
   ]
  },
  {
   "cell_type": "code",
   "execution_count": 15,
   "metadata": {},
   "outputs": [],
   "source": [
    "from DATA import MG17\n",
    "\n",
    "data = MG17(True, [80,10,10])\n",
    "\n",
    "X_TR, Y_TR = data.TR()\n",
    "X_VAL, Y_VAL = data.VAL()\n",
    "X_TS, Y_TS = data.TS()"
   ]
  },
  {
   "cell_type": "code",
   "execution_count": 26,
   "metadata": {},
   "outputs": [],
   "source": [
    "from ESN import Reservoir\n",
    "reservoir = Reservoir(N = 30, sparsity=0.9, ro_rescale=0.25, bias = True)"
   ]
  },
  {
   "cell_type": "code",
   "execution_count": 27,
   "metadata": {},
   "outputs": [
    {
     "data": {
      "text/plain": [
       "-1.4269139"
      ]
     },
     "execution_count": 27,
     "metadata": {},
     "output_type": "execute_result"
    }
   ],
   "source": [
    "reservoir.LCE(X_TR)\n"
   ]
  },
  {
   "cell_type": "code",
   "execution_count": 28,
   "metadata": {},
   "outputs": [],
   "source": [
    "from IntrinsicPlasticity import IPMask"
   ]
  },
  {
   "cell_type": "code",
   "execution_count": 31,
   "metadata": {},
   "outputs": [],
   "source": [
    "from IPReservoir import IPReservoir\n",
    "ip_reservoir = IPReservoir(N = 30, sparsity=0.9, ro_rescale=0.25, bias = True, mask=IPMask.normalMask(30))"
   ]
  },
  {
   "cell_type": "code",
   "execution_count": 35,
   "metadata": {},
   "outputs": [
    {
     "name": "stdout",
     "output_type": "stream",
     "text": [
      "No transient applied. Reservoir was already warmed up\n",
      "- Epoch: 1) | KL Divergence value: 1694.5596923828125.\n",
      "- Epoch: 2) | KL Divergence value: 1670.296875.\n",
      "- Epoch: 3) | KL Divergence value: 1653.6912841796875.\n",
      "- Epoch: 4) | KL Divergence value: 1643.344970703125.\n",
      "- Epoch: 5) | KL Divergence value: 1637.909423828125.\n",
      "- Epoch: 6) | KL Divergence value: 1636.2080078125.\n",
      "- Epoch: 7) | KL Divergence value: 1637.2930908203125.\n",
      "- Epoch: 8) | KL Divergence value: 1640.4368896484375.\n",
      "- Epoch: 9) | KL Divergence value: 1645.1005859375.\n",
      "- Epoch: 10) | KL Divergence value: 1650.894775390625.\n"
     ]
    }
   ],
   "source": [
    "ip_reservoir.pre_train(X_TR, epochs=10)"
   ]
  },
  {
   "cell_type": "code",
   "execution_count": 36,
   "metadata": {},
   "outputs": [
    {
     "data": {
      "image/png": "[encoded data removed]",
      "text/plain": [
       "<Figure size 640x480 with 1 Axes>"
      ]
     },
     "metadata": {},
     "output_type": "display_data"
    }
   ],
   "source": [
    "ip_reservoir.predict(X_TR, save_gradients=False, save_states=True)\n",
    "ip_reservoir.plot_global_neural_activity()"
   ]
  },
  {
   "cell_type": "code",
   "execution_count": 38,
   "metadata": {},
   "outputs": [
    {
     "name": "stderr",
     "output_type": "stream",
     "text": [
      "c:\\Users\\casa_\\OneDrive\\Desktop\\workspace\\ESN-IP\\NOTEBOOKS\\./../../ESN-IP/IP/.\\ESN.py:119: RuntimeWarning: divide by zero encountered in log\n",
      "  eig_acc += np.log(np.absolute(eig_k))\n"
     ]
    },
    {
     "data": {
      "text/plain": [
       "-0.4335083"
      ]
     },
     "execution_count": 38,
     "metadata": {},
     "output_type": "execute_result"
    }
   ],
   "source": [
    "ip_reservoir.LCE(X_VAL)"
   ]
  },
  {
   "cell_type": "code",
   "execution_count": 39,
   "metadata": {},
   "outputs": [
    {
     "name": "stderr",
     "output_type": "stream",
     "text": [
      "c:\\Users\\casa_\\OneDrive\\Desktop\\workspace\\ESN-IP\\NOTEBOOKS\\./../../ESN-IP/IP/.\\ESN.py:119: RuntimeWarning: divide by zero encountered in log\n",
      "  eig_acc += np.log(np.absolute(eig_k))\n"
     ]
    },
    {
     "data": {
      "text/plain": [
       "-0.43350324"
      ]
     },
     "execution_count": 39,
     "metadata": {},
     "output_type": "execute_result"
    }
   ],
   "source": [
    "ip_reservoir.LCE(X_TS)"
   ]
  },
  {
   "cell_type": "code",
   "execution_count": null,
   "metadata": {},
   "outputs": [],
   "source": []
  }
 ],
 "metadata": {
  "kernelspec": {
   "display_name": "Python 3",
   "language": "python",
   "name": "python3"
  },
  "language_info": {
   "codemirror_mode": {
    "name": "ipython",
    "version": 3
   },
   "file_extension": ".py",
   "mimetype": "text/x-python",
   "name": "python",
   "nbconvert_exporter": "python",
   "pygments_lexer": "ipython3",
   "version": "3.9.13"
  }
 },
 "nbformat": 4,
 "nbformat_minor": 2
}
