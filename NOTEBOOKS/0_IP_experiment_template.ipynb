{
 "cells": [
  {
   "cell_type": "markdown",
   "metadata": {},
   "source": [
    "# 0. EXAMPERIMENT TEMPLATE - EXAMPLE OF USAGE"
   ]
  },
  {
   "cell_type": "markdown",
   "metadata": {},
   "source": [
    "## Setup the environment"
   ]
  },
  {
   "cell_type": "markdown",
   "metadata": {},
   "source": [
    "#### Adding the source code path"
   ]
  },
  {
   "cell_type": "code",
   "execution_count": 1,
   "metadata": {},
   "outputs": [],
   "source": [
    "import sys  \n",
    "sys.path.insert(1, './../../ESN-IP/IP/.')"
   ]
  },
  {
   "cell_type": "code",
   "execution_count": 2,
   "metadata": {},
   "outputs": [],
   "source": [
    "import random\n",
    "\n",
    "random.seed(10)"
   ]
  },
  {
   "cell_type": "markdown",
   "metadata": {},
   "source": [
    "#### Import experiment data "
   ]
  },
  {
   "cell_type": "code",
   "execution_count": 3,
   "metadata": {},
   "outputs": [],
   "source": [
    "from DATA import NARMA10\n",
    "\n",
    "data = NARMA10(True, [60,10,30])\n",
    "\n",
    "X_TR, Y_TR = data.TR()\n",
    "X_VAL, Y_VAL = data.VAL()\n",
    "X_TS, Y_TS = data.TS()"
   ]
  },
  {
   "cell_type": "markdown",
   "metadata": {},
   "source": [
    "## Build up a Reservoir with Intrinsic Plasticity"
   ]
  },
  {
   "cell_type": "markdown",
   "metadata": {},
   "source": [
    "The IP Reservoir is characterized by a target distribution each neuron has to reach.  \n",
    "\n",
    "The set of the target distributions is contained in the IPMask object. \n",
    "In this case the mask contains only Gaussian distributions centered in 0 with standard deviation 1 (Normal distributions), \n",
    "following the Entropy Maximization principle mentioned in the IP paper. \n",
    "\n",
    "The number of the distribution contained in the mask  must be the same of the neurons in the Reservoir. \n",
    "\n",
    "The other parameters concerns the reservoir initialization (i.e. the desider sparsity and spectral radius)."
   ]
  },
  {
   "cell_type": "code",
   "execution_count": 4,
   "metadata": {},
   "outputs": [],
   "source": [
    "from IPReservoir import IPReservoir\n",
    "from IntrinsicPlasticity import IPMask\n",
    "\n",
    "# Build a reservoir of 250 units, with IP targeting 250 equal Normal distributions. \n",
    "# For the current example, high sparsity and low spectra radius were setted to avoid explding values of gradient. \n",
    "# Bias has been switched off\n",
    "\n",
    "ip_reservoir = IPReservoir( N=250, sparsity=0.9, ro_rescale=0.25, mask=IPMask.normalMask(250), bias=False)"
   ]
  },
  {
   "cell_type": "code",
   "execution_count": 5,
   "metadata": {},
   "outputs": [
    {
     "name": "stderr",
     "output_type": "stream",
     "text": [
      "C:\\Users\\casa_\\AppData\\Local\\Packages\\PythonSoftwareFoundation.Python.3.9_qbz5n2kfra8p0\\LocalCache\\local-packages\\Python39\\site-packages\\torch\\autograd\\__init__.py:200: UserWarning: Using backward() with create_graph=True will create a reference cycle between the parameter and its gradient which can cause a memory leak. We recommend using autograd.grad when creating the graph to avoid this. If you have to use this function, make sure to reset the .grad fields of your parameters to None after use to break the cycle and avoid the leak. (Triggered internally at C:\\actions-runner\\_work\\pytorch\\pytorch\\builder\\windows\\pytorch\\torch\\csrc\\autograd\\engine.cpp:1156.)\n",
      "  Variable._execution_engine.run_backward(  # Calls into the C++ engine to run the backward pass\n"
     ]
    },
    {
     "name": "stdout",
     "output_type": "stream",
     "text": [
      "- Epoch: 1) | KL Divergence value: 1365.5228271484375.\n",
      "- Epoch: 2) | KL Divergence value: 1363.462890625.\n",
      "- Epoch: 3) | KL Divergence value: 1361.408447265625.\n",
      "- Epoch: 4) | KL Divergence value: 1359.358642578125.\n",
      "- Epoch: 5) | KL Divergence value: 1357.3133544921875.\n"
     ]
    }
   ],
   "source": [
    "# Warning - pre training for a large number of epochs may cause RAM running off issues.  \n",
    "ip_reservoir.pre_train(X_TR, eta=0.00025, epochs=5,  learning_rule=\"autodiff\", verbose=True)"
   ]
  },
  {
   "cell_type": "markdown",
   "metadata": {},
   "source": [
    "Printed KL divergence is calculated in a sample based way, according to torch implementation of the metric. \n",
    "\n",
    "Many reduction of it are provided, in this implementation the \"sum\" reduction has been chosen, which provides generally \"larger\" values of the KL and of its gradient. Such values has to be compensated using a small learning rate. \n",
    "\n",
    "The current implementation turned out to be seriously memory inefficient: with a large number of units in the reservoir and some thousand of timesteps to be processed, the computational graph built up to differentiate the KL, early saturate the whole RAM. \n",
    "\n",
    "For such a reason, the usage of the analytical learning rule is generally preferable. "
   ]
  },
  {
   "cell_type": "markdown",
   "metadata": {},
   "source": [
    "## Check IP effectiveness"
   ]
  },
  {
   "cell_type": "markdown",
   "metadata": {},
   "source": [
    "To check wether the pre training has been effective, we process some unseen data, expeting them to approach a Normal distribution. \n",
    "\n",
    "To graphically compare the new output with the distribution we need to resample a (smaller) batch of data of the same lenght. "
   ]
  },
  {
   "cell_type": "code",
   "execution_count": 6,
   "metadata": {},
   "outputs": [
    {
     "data": {
      "text/plain": [
       "tensor([[-4.2075e-02, -3.3042e-02, -1.9637e-02,  ..., -2.0793e-02,\n",
       "         -4.7495e-04, -6.3443e-02],\n",
       "        [-1.8712e-02, -1.9976e-03,  1.3161e-02,  ..., -4.4345e-02,\n",
       "         -7.0332e-03, -2.8229e-02],\n",
       "        [-7.5367e-03,  8.3659e-03,  7.9983e-03,  ..., -9.4634e-03,\n",
       "          7.1405e-04, -4.1737e-03],\n",
       "        ...,\n",
       "        [ 4.5524e-01, -8.3632e-01, -5.2045e-01,  ...,  7.1575e-01,\n",
       "         -4.5164e-01,  7.0448e-01],\n",
       "        [ 3.0092e-01, -6.9792e-01, -4.0044e-01,  ...,  5.6613e-01,\n",
       "         -3.2085e-01,  5.1716e-01],\n",
       "        [ 1.7821e-01, -5.0600e-01, -2.5968e-01,  ...,  3.5403e-01,\n",
       "         -2.1366e-01,  3.1929e-01]], grad_fn=<CopySlices>)"
      ]
     },
     "execution_count": 6,
     "metadata": {},
     "output_type": "execute_result"
    }
   ],
   "source": [
    "# Process validation data to check wether the target distribution as been reached or at least approached.\n",
    "\n",
    "ip_reservoir.sample_targets(X_VAL.shape[0], True)\n",
    "ip_reservoir.predict(X_VAL, save_gradients=False, save_states=True)"
   ]
  },
  {
   "cell_type": "markdown",
   "metadata": {},
   "source": [
    "We can check the shape of the actual and the desired distribution across some precise neuron"
   ]
  },
  {
   "cell_type": "code",
   "execution_count": 7,
   "metadata": {},
   "outputs": [
    {
     "data": {
      "image/png": "[encoded data removed]",
      "text/plain": [
       "<Figure size 640x480 with 1 Axes>"
      ]
     },
     "metadata": {},
     "output_type": "display_data"
    }
   ],
   "source": [
    "ip_reservoir.plot_local_neural_activity([1])"
   ]
  },
  {
   "cell_type": "markdown",
   "metadata": {},
   "source": [
    "Or check the distribution of all the outputs of all the neurons of the reservoir (more interesting and meaningful). "
   ]
  },
  {
   "cell_type": "code",
   "execution_count": 8,
   "metadata": {},
   "outputs": [
    {
     "data": {
      "image/png": "[encoded data removed]",
      "text/plain": [
       "<Figure size 640x480 with 1 Axes>"
      ]
     },
     "metadata": {},
     "output_type": "display_data"
    }
   ],
   "source": [
    "ip_reservoir.plot_global_neural_activity()"
   ]
  },
  {
   "cell_type": "markdown",
   "metadata": {},
   "source": [
    "We can also print the statistics of some precise neuron, and of the whole reservoir. "
   ]
  },
  {
   "cell_type": "code",
   "execution_count": 9,
   "metadata": {},
   "outputs": [
    {
     "name": "stdout",
     "output_type": "stream",
     "text": [
      "Unit - (2): [ ACTUAL_MEAN == (-0.589364230632782)  ACTUAL_STD == (0.1341097503900528)][ TARGET_MEAN == (-0.002162342658266425) TARGET_STD == (0.9763747453689575)]\n",
      "Unit - (5): [ ACTUAL_MEAN == (-0.25653040409088135)  ACTUAL_STD == (0.10151813179254532)][ TARGET_MEAN == (-0.005210424307733774) TARGET_STD == (0.9793216586112976)]\n",
      "Overall network: [ACTUAL_MEAN == (-0.01843012310564518)  ACTUAL_STD == (0.3603931963443756)]\n"
     ]
    }
   ],
   "source": [
    "ip_reservoir.print_IP_stats([1,4])"
   ]
  },
  {
   "cell_type": "markdown",
   "metadata": {},
   "source": [
    "## Training the readout"
   ]
  },
  {
   "cell_type": "markdown",
   "metadata": {},
   "source": [
    "Once the pre-training phase has endend, we can build a linear readout on the top of the reservoir, to solve the downstream task. \n",
    "\n",
    "In this exaple, no hyperparameter search is carried on. \n",
    "\n",
    "Anyway lambada value used for the readout tranining (ridge regression), turned out to be crucial to reveal the benefit of the IP pre training. "
   ]
  },
  {
   "cell_type": "code",
   "execution_count": 10,
   "metadata": {},
   "outputs": [
    {
     "name": "stdout",
     "output_type": "stream",
     "text": [
      "No transient applied. Reservoir was already warmed up\n",
      "torch.Size([6000])\n"
     ]
    }
   ],
   "source": [
    "from ESN import EchoStateNetwork\n",
    "\n",
    "network = EchoStateNetwork(ip_reservoir)\n",
    "\n",
    "# Train a linear readout with ridge regression.  \n",
    "# The number of units is inferred from the N value of the reservoir and from the shape of the Y target signal. \n",
    "\n",
    "# The lambda optimal value (mabye not 0.25) should be searched in a quite thin range. \n",
    "\n",
    "network.train(X_TR, Y_TR, 0.1)"
   ]
  },
  {
   "cell_type": "markdown",
   "metadata": {},
   "source": [
    "## Evaluating the ESN"
   ]
  },
  {
   "cell_type": "code",
   "execution_count": 1,
   "metadata": {},
   "outputs": [
    {
     "ename": "ModuleNotFoundError",
     "evalue": "No module named 'Metrics'",
     "output_type": "error",
     "traceback": [
      "\u001b[1;31m---------------------------------------------------------------------------\u001b[0m",
      "\u001b[1;31mModuleNotFoundError\u001b[0m                       Traceback (most recent call last)",
      "\u001b[1;32mc:\\Users\\casa_\\OneDrive\\Desktop\\workspace\\ESN-IP\\NOTEBOOKS\\0_IP_experiment_template.ipynb Cell 26\u001b[0m line \u001b[0;36m1\n\u001b[1;32m----> <a href='vscode-notebook-cell:/c%3A/Users/casa_/OneDrive/Desktop/workspace/ESN-IP/NOTEBOOKS/0_IP_experiment_template.ipynb#Y103sZmlsZQ%3D%3D?line=0'>1</a>\u001b[0m \u001b[39mfrom\u001b[39;00m \u001b[39mMetrics\u001b[39;00m \u001b[39mimport\u001b[39;00m MSE, ME, NRMSE\n\u001b[0;32m      <a href='vscode-notebook-cell:/c%3A/Users/casa_/OneDrive/Desktop/workspace/ESN-IP/NOTEBOOKS/0_IP_experiment_template.ipynb#Y103sZmlsZQ%3D%3D?line=2'>3</a>\u001b[0m \u001b[39mprint\u001b[39m(\u001b[39mf\u001b[39m\u001b[39m\"\u001b[39m\u001b[39mMEAN ERROR \u001b[39m\u001b[39m{\u001b[39;00m\u001b[39m \u001b[39mnetwork\u001b[39m.\u001b[39mevaluate(X_TS,\u001b[39m \u001b[39mY_TS,\u001b[39m \u001b[39mmetric\u001b[39m=\u001b[39mME())\u001b[39m \u001b[39m\u001b[39m}\u001b[39;00m\u001b[39m\"\u001b[39m)\n\u001b[0;32m      <a href='vscode-notebook-cell:/c%3A/Users/casa_/OneDrive/Desktop/workspace/ESN-IP/NOTEBOOKS/0_IP_experiment_template.ipynb#Y103sZmlsZQ%3D%3D?line=3'>4</a>\u001b[0m \u001b[39mprint\u001b[39m(\u001b[39mf\u001b[39m\u001b[39m\"\u001b[39m\u001b[39mMEAN SQUARED ERROR: \u001b[39m\u001b[39m{\u001b[39;00m\u001b[39m \u001b[39mnetwork\u001b[39m.\u001b[39mevaluate(X_TS,\u001b[39m \u001b[39mY_TS,\u001b[39m \u001b[39mmetric\u001b[39m=\u001b[39mMSE())\u001b[39m}\u001b[39;00m\u001b[39m\"\u001b[39m )\n",
      "\u001b[1;31mModuleNotFoundError\u001b[0m: No module named 'Metrics'"
     ]
    }
   ],
   "source": [
    "from Metrics import MSE, ME, NRMSE\n",
    "\n",
    "print(f\"MEAN ERROR { network.evaluate(X_TS, Y_TS, metric=ME()) }\")\n",
    "print(f\"MEAN SQUARED ERROR: { network.evaluate(X_TS, Y_TS, metric=MSE())}\" )\n",
    "print(f\"NORMALIZED ROOT-MEAN SQUARE ERROR: { network.evaluate(X_TS, Y_TS, metric=NRMSE(), plot=True)}\" )"
   ]
  },
  {
   "cell_type": "code",
   "execution_count": 13,
   "metadata": {},
   "outputs": [
    {
     "name": "stdout",
     "output_type": "stream",
     "text": [
      "MEMORY CAPACITY: 1.2419450023713448\n"
     ]
    }
   ],
   "source": [
    "print(f\"MEMORY CAPACITY: {network.MemoryCapacity(X_TS, tau_max=200)}\")"
   ]
  },
  {
   "cell_type": "code",
   "execution_count": null,
   "metadata": {},
   "outputs": [],
   "source": []
  }
 ],
 "metadata": {
  "kernelspec": {
   "display_name": "Python 3",
   "language": "python",
   "name": "python3"
  },
  "language_info": {
   "codemirror_mode": {
    "name": "ipython",
    "version": 3
   },
   "file_extension": ".py",
   "mimetype": "text/x-python",
   "name": "python",
   "nbconvert_exporter": "python",
   "pygments_lexer": "ipython3",
   "version": "3.9.13"
  }
 },
 "nbformat": 4,
 "nbformat_minor": 2
}
